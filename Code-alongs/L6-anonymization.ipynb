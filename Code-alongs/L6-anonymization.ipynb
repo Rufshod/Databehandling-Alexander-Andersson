{
 "cells": [
  {
   "cell_type": "markdown",
   "metadata": {},
   "source": [
    "# anonymization\n",
    "\n",
    "- pseudoanonymization\n"
   ]
  },
  {
   "cell_type": "code",
   "execution_count": 22,
   "metadata": {},
   "outputs": [
    {
     "data": {
      "text/plain": [
       "('919508f6494495c4bbebc2c87f3dee7b9245bebcd462ec1591fedc5e7fca0386',\n",
       " '98b8b43ac8e49f673fd150ebf3d8c39fc4f5a76edfee2b4150a17757d2f58743')"
      ]
     },
     "execution_count": 22,
     "metadata": {},
     "output_type": "execute_result"
    }
   ],
   "source": [
    "import hashlib as hl\n",
    "\n",
    "string_to_hash = \"supersäkert_lösen0rd\".encode()\n",
    "string_to_hash2 = \"Supersäkert_lösen0rd\".encode()\n",
    "\n",
    "# Hashing always creates 64 long strings.\n",
    "\n",
    "hl.sha256(string_to_hash).hexdigest(), hl.sha256(string_to_hash2).hexdigest()"
   ]
  },
  {
   "cell_type": "code",
   "execution_count": 23,
   "metadata": {},
   "outputs": [
    {
     "data": {
      "text/plain": [
       "True"
      ]
     },
     "execution_count": 23,
     "metadata": {},
     "output_type": "execute_result"
    }
   ],
   "source": [
    "# Are they the same?\n",
    "\n",
    "hl.sha256(string_to_hash).hexdigest() == hl.sha256(\"supersäkert_lösen0rd\".encode()).hexdigest()"
   ]
  },
  {
   "cell_type": "code",
   "execution_count": 24,
   "metadata": {},
   "outputs": [],
   "source": [
    "import pandas as pd\n",
    "\n",
    "df=pd.read_csv(\"../Data/BankChurners.csv\", usecols = [\"CLIENTNUM\", \"Attrition_Flag\", \"Customer_Age\", \"Gender\", \"Total_Trans_Amt\"])"
   ]
  },
  {
   "cell_type": "code",
   "execution_count": 25,
   "metadata": {},
   "outputs": [
    {
     "data": {
      "text/html": [
       "<div>\n",
       "<style scoped>\n",
       "    .dataframe tbody tr th:only-of-type {\n",
       "        vertical-align: middle;\n",
       "    }\n",
       "\n",
       "    .dataframe tbody tr th {\n",
       "        vertical-align: top;\n",
       "    }\n",
       "\n",
       "    .dataframe thead th {\n",
       "        text-align: right;\n",
       "    }\n",
       "</style>\n",
       "<table border=\"1\" class=\"dataframe\">\n",
       "  <thead>\n",
       "    <tr style=\"text-align: right;\">\n",
       "      <th></th>\n",
       "      <th>CLIENTNUM</th>\n",
       "      <th>Attrition_Flag</th>\n",
       "      <th>Customer_Age</th>\n",
       "      <th>Gender</th>\n",
       "      <th>Total_Trans_Amt</th>\n",
       "    </tr>\n",
       "  </thead>\n",
       "  <tbody>\n",
       "    <tr>\n",
       "      <th>0</th>\n",
       "      <td>768805383</td>\n",
       "      <td>Existing Customer</td>\n",
       "      <td>45</td>\n",
       "      <td>M</td>\n",
       "      <td>1144</td>\n",
       "    </tr>\n",
       "    <tr>\n",
       "      <th>1</th>\n",
       "      <td>818770008</td>\n",
       "      <td>Existing Customer</td>\n",
       "      <td>49</td>\n",
       "      <td>F</td>\n",
       "      <td>1291</td>\n",
       "    </tr>\n",
       "    <tr>\n",
       "      <th>2</th>\n",
       "      <td>713982108</td>\n",
       "      <td>Existing Customer</td>\n",
       "      <td>51</td>\n",
       "      <td>M</td>\n",
       "      <td>1887</td>\n",
       "    </tr>\n",
       "    <tr>\n",
       "      <th>3</th>\n",
       "      <td>769911858</td>\n",
       "      <td>Existing Customer</td>\n",
       "      <td>40</td>\n",
       "      <td>F</td>\n",
       "      <td>1171</td>\n",
       "    </tr>\n",
       "    <tr>\n",
       "      <th>4</th>\n",
       "      <td>709106358</td>\n",
       "      <td>Existing Customer</td>\n",
       "      <td>40</td>\n",
       "      <td>M</td>\n",
       "      <td>816</td>\n",
       "    </tr>\n",
       "  </tbody>\n",
       "</table>\n",
       "</div>"
      ],
      "text/plain": [
       "   CLIENTNUM     Attrition_Flag  Customer_Age Gender  Total_Trans_Amt\n",
       "0  768805383  Existing Customer            45      M             1144\n",
       "1  818770008  Existing Customer            49      F             1291\n",
       "2  713982108  Existing Customer            51      M             1887\n",
       "3  769911858  Existing Customer            40      F             1171\n",
       "4  709106358  Existing Customer            40      M              816"
      ]
     },
     "execution_count": 25,
     "metadata": {},
     "output_type": "execute_result"
    }
   ],
   "source": [
    "df.head()"
   ]
  },
  {
   "cell_type": "code",
   "execution_count": 26,
   "metadata": {},
   "outputs": [
    {
     "name": "stdout",
     "output_type": "stream",
     "text": [
      "<class 'pandas.core.frame.DataFrame'>\n",
      "RangeIndex: 10127 entries, 0 to 10126\n",
      "Data columns (total 5 columns):\n",
      " #   Column           Non-Null Count  Dtype \n",
      "---  ------           --------------  ----- \n",
      " 0   CLIENTNUM        10127 non-null  object\n",
      " 1   Attrition_Flag   10127 non-null  object\n",
      " 2   Customer_Age     10127 non-null  int64 \n",
      " 3   Gender           10127 non-null  object\n",
      " 4   Total_Trans_Amt  10127 non-null  int64 \n",
      "dtypes: int64(2), object(3)\n",
      "memory usage: 395.7+ KB\n"
     ]
    }
   ],
   "source": [
    "df[\"CLIENTNUM\"] = df[\"CLIENTNUM\"].astype(str)\n",
    "df.info()"
   ]
  },
  {
   "cell_type": "code",
   "execution_count": 27,
   "metadata": {},
   "outputs": [],
   "source": [
    "# With hashlib we hashed one string.\n",
    "# How do we hash a whole column?\n",
    "\n",
    "hashes_clientnum = df[\"CLIENTNUM\"].apply(lambda x: hl.sha256(x.encode()).hexdigest())\n",
    "#Lambda does: x encodes and hashes every row in column\n",
    "# .apply changes something in every row in column/series."
   ]
  },
  {
   "cell_type": "code",
   "execution_count": 29,
   "metadata": {},
   "outputs": [
    {
     "data": {
      "text/html": [
       "<div>\n",
       "<style scoped>\n",
       "    .dataframe tbody tr th:only-of-type {\n",
       "        vertical-align: middle;\n",
       "    }\n",
       "\n",
       "    .dataframe tbody tr th {\n",
       "        vertical-align: top;\n",
       "    }\n",
       "\n",
       "    .dataframe thead th {\n",
       "        text-align: right;\n",
       "    }\n",
       "</style>\n",
       "<table border=\"1\" class=\"dataframe\">\n",
       "  <thead>\n",
       "    <tr style=\"text-align: right;\">\n",
       "      <th></th>\n",
       "      <th>CLIENTNUM</th>\n",
       "      <th>Hash_Client_Num</th>\n",
       "      <th>Attrition_Flag</th>\n",
       "      <th>Customer_Age</th>\n",
       "      <th>Gender</th>\n",
       "      <th>Total_Trans_Amt</th>\n",
       "    </tr>\n",
       "  </thead>\n",
       "  <tbody>\n",
       "    <tr>\n",
       "      <th>0</th>\n",
       "      <td>768805383</td>\n",
       "      <td>c9bbef56f9d8292cb3cfa8ae91f9b9167390e6e4b514d5...</td>\n",
       "      <td>Existing Customer</td>\n",
       "      <td>45</td>\n",
       "      <td>M</td>\n",
       "      <td>1144</td>\n",
       "    </tr>\n",
       "    <tr>\n",
       "      <th>1</th>\n",
       "      <td>818770008</td>\n",
       "      <td>7996e2340d70489252370a5df035ec99381c8344cc3511...</td>\n",
       "      <td>Existing Customer</td>\n",
       "      <td>49</td>\n",
       "      <td>F</td>\n",
       "      <td>1291</td>\n",
       "    </tr>\n",
       "    <tr>\n",
       "      <th>2</th>\n",
       "      <td>713982108</td>\n",
       "      <td>6fb53dbc743724e086243b5bc288df62b4a6dc1b8bde92...</td>\n",
       "      <td>Existing Customer</td>\n",
       "      <td>51</td>\n",
       "      <td>M</td>\n",
       "      <td>1887</td>\n",
       "    </tr>\n",
       "    <tr>\n",
       "      <th>3</th>\n",
       "      <td>769911858</td>\n",
       "      <td>f86b86a1047317685f29c399059b199858685faf5ec6a8...</td>\n",
       "      <td>Existing Customer</td>\n",
       "      <td>40</td>\n",
       "      <td>F</td>\n",
       "      <td>1171</td>\n",
       "    </tr>\n",
       "    <tr>\n",
       "      <th>4</th>\n",
       "      <td>709106358</td>\n",
       "      <td>0d239470b0cb57e110cf60bc3865344ee2cdced6e3acdc...</td>\n",
       "      <td>Existing Customer</td>\n",
       "      <td>40</td>\n",
       "      <td>M</td>\n",
       "      <td>816</td>\n",
       "    </tr>\n",
       "  </tbody>\n",
       "</table>\n",
       "</div>"
      ],
      "text/plain": [
       "   CLIENTNUM                                    Hash_Client_Num  \\\n",
       "0  768805383  c9bbef56f9d8292cb3cfa8ae91f9b9167390e6e4b514d5...   \n",
       "1  818770008  7996e2340d70489252370a5df035ec99381c8344cc3511...   \n",
       "2  713982108  6fb53dbc743724e086243b5bc288df62b4a6dc1b8bde92...   \n",
       "3  769911858  f86b86a1047317685f29c399059b199858685faf5ec6a8...   \n",
       "4  709106358  0d239470b0cb57e110cf60bc3865344ee2cdced6e3acdc...   \n",
       "\n",
       "      Attrition_Flag  Customer_Age Gender  Total_Trans_Amt  \n",
       "0  Existing Customer            45      M             1144  \n",
       "1  Existing Customer            49      F             1291  \n",
       "2  Existing Customer            51      M             1887  \n",
       "3  Existing Customer            40      F             1171  \n",
       "4  Existing Customer            40      M              816  "
      ]
     },
     "execution_count": 29,
     "metadata": {},
     "output_type": "execute_result"
    }
   ],
   "source": [
    "df.insert(1, \"Hash_Client_Num\", hashes_clientnum)\n",
    "\n",
    "df.head()"
   ]
  }
 ],
 "metadata": {
  "kernelspec": {
   "display_name": "Python 3.9.13 ('Databehandling-Alexander-Andersson-cbHjl46c')",
   "language": "python",
   "name": "python3"
  },
  "language_info": {
   "codemirror_mode": {
    "name": "ipython",
    "version": 3
   },
   "file_extension": ".py",
   "mimetype": "text/x-python",
   "name": "python",
   "nbconvert_exporter": "python",
   "pygments_lexer": "ipython3",
   "version": "3.9.13"
  },
  "orig_nbformat": 4,
  "vscode": {
   "interpreter": {
    "hash": "304582795d779ea24f27fb27bdb50be6d750e455c1e18b013d2439a76addf1d6"
   }
  }
 },
 "nbformat": 4,
 "nbformat_minor": 2
}
