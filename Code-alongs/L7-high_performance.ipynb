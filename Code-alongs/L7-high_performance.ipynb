{
 "cells": [
  {
   "cell_type": "markdown",
   "metadata": {},
   "source": [
    "# High performance pandas\n",
    "\n",
    "```py\n",
    "# x and y are columns in dataframe in this example\n",
    "mask = (x > .5 & (y < .5))\n",
    "df[df[mask]]\n",
    "```\n",
    "\n",
    "under the hood\n",
    "\n",
    "```py\n",
    "# tmp is rows\n",
    "tmp1 = (x > .5)\n",
    "tmp2 = (x < .5)\n",
    "mask = tmp1 & tmp2\n",
    "```\n",
    "for higher performance use:\n",
    "```py\n",
    "pd.eval(\"\"), df.query() -> # does elementwise operation with numexpr (numexpr = number express)\n",
    "```\n"
   ]
  },
  {
   "cell_type": "code",
   "execution_count": 2,
   "metadata": {},
   "outputs": [],
   "source": [
    "import numpy as np\n",
    "import pandas as pd\n",
    "\n",
    "nrows, ncols = 1_000_000, 100\n",
    "\n",
    "df1, df2, df3, df4 = [pd.DataFrame(np.random.randn(nrows,ncols)) for _ in range(4)]"
   ]
  },
  {
   "cell_type": "code",
   "execution_count": 4,
   "metadata": {},
   "outputs": [
    {
     "data": {
      "text/plain": [
       "(1000000, 100)"
      ]
     },
     "execution_count": 4,
     "metadata": {},
     "output_type": "execute_result"
    }
   ],
   "source": [
    "df1.shape"
   ]
  },
  {
   "cell_type": "code",
   "execution_count": 5,
   "metadata": {},
   "outputs": [
    {
     "name": "stdout",
     "output_type": "stream",
     "text": [
      "<class 'pandas.core.frame.DataFrame'>\n",
      "RangeIndex: 1000000 entries, 0 to 999999\n",
      "Data columns (total 100 columns):\n",
      " #   Column  Non-Null Count    Dtype  \n",
      "---  ------  --------------    -----  \n",
      " 0   0       1000000 non-null  float64\n",
      " 1   1       1000000 non-null  float64\n",
      " 2   2       1000000 non-null  float64\n",
      " 3   3       1000000 non-null  float64\n",
      " 4   4       1000000 non-null  float64\n",
      " 5   5       1000000 non-null  float64\n",
      " 6   6       1000000 non-null  float64\n",
      " 7   7       1000000 non-null  float64\n",
      " 8   8       1000000 non-null  float64\n",
      " 9   9       1000000 non-null  float64\n",
      " 10  10      1000000 non-null  float64\n",
      " 11  11      1000000 non-null  float64\n",
      " 12  12      1000000 non-null  float64\n",
      " 13  13      1000000 non-null  float64\n",
      " 14  14      1000000 non-null  float64\n",
      " 15  15      1000000 non-null  float64\n",
      " 16  16      1000000 non-null  float64\n",
      " 17  17      1000000 non-null  float64\n",
      " 18  18      1000000 non-null  float64\n",
      " 19  19      1000000 non-null  float64\n",
      " 20  20      1000000 non-null  float64\n",
      " 21  21      1000000 non-null  float64\n",
      " 22  22      1000000 non-null  float64\n",
      " 23  23      1000000 non-null  float64\n",
      " 24  24      1000000 non-null  float64\n",
      " 25  25      1000000 non-null  float64\n",
      " 26  26      1000000 non-null  float64\n",
      " 27  27      1000000 non-null  float64\n",
      " 28  28      1000000 non-null  float64\n",
      " 29  29      1000000 non-null  float64\n",
      " 30  30      1000000 non-null  float64\n",
      " 31  31      1000000 non-null  float64\n",
      " 32  32      1000000 non-null  float64\n",
      " 33  33      1000000 non-null  float64\n",
      " 34  34      1000000 non-null  float64\n",
      " 35  35      1000000 non-null  float64\n",
      " 36  36      1000000 non-null  float64\n",
      " 37  37      1000000 non-null  float64\n",
      " 38  38      1000000 non-null  float64\n",
      " 39  39      1000000 non-null  float64\n",
      " 40  40      1000000 non-null  float64\n",
      " 41  41      1000000 non-null  float64\n",
      " 42  42      1000000 non-null  float64\n",
      " 43  43      1000000 non-null  float64\n",
      " 44  44      1000000 non-null  float64\n",
      " 45  45      1000000 non-null  float64\n",
      " 46  46      1000000 non-null  float64\n",
      " 47  47      1000000 non-null  float64\n",
      " 48  48      1000000 non-null  float64\n",
      " 49  49      1000000 non-null  float64\n",
      " 50  50      1000000 non-null  float64\n",
      " 51  51      1000000 non-null  float64\n",
      " 52  52      1000000 non-null  float64\n",
      " 53  53      1000000 non-null  float64\n",
      " 54  54      1000000 non-null  float64\n",
      " 55  55      1000000 non-null  float64\n",
      " 56  56      1000000 non-null  float64\n",
      " 57  57      1000000 non-null  float64\n",
      " 58  58      1000000 non-null  float64\n",
      " 59  59      1000000 non-null  float64\n",
      " 60  60      1000000 non-null  float64\n",
      " 61  61      1000000 non-null  float64\n",
      " 62  62      1000000 non-null  float64\n",
      " 63  63      1000000 non-null  float64\n",
      " 64  64      1000000 non-null  float64\n",
      " 65  65      1000000 non-null  float64\n",
      " 66  66      1000000 non-null  float64\n",
      " 67  67      1000000 non-null  float64\n",
      " 68  68      1000000 non-null  float64\n",
      " 69  69      1000000 non-null  float64\n",
      " 70  70      1000000 non-null  float64\n",
      " 71  71      1000000 non-null  float64\n",
      " 72  72      1000000 non-null  float64\n",
      " 73  73      1000000 non-null  float64\n",
      " 74  74      1000000 non-null  float64\n",
      " 75  75      1000000 non-null  float64\n",
      " 76  76      1000000 non-null  float64\n",
      " 77  77      1000000 non-null  float64\n",
      " 78  78      1000000 non-null  float64\n",
      " 79  79      1000000 non-null  float64\n",
      " 80  80      1000000 non-null  float64\n",
      " 81  81      1000000 non-null  float64\n",
      " 82  82      1000000 non-null  float64\n",
      " 83  83      1000000 non-null  float64\n",
      " 84  84      1000000 non-null  float64\n",
      " 85  85      1000000 non-null  float64\n",
      " 86  86      1000000 non-null  float64\n",
      " 87  87      1000000 non-null  float64\n",
      " 88  88      1000000 non-null  float64\n",
      " 89  89      1000000 non-null  float64\n",
      " 90  90      1000000 non-null  float64\n",
      " 91  91      1000000 non-null  float64\n",
      " 92  92      1000000 non-null  float64\n",
      " 93  93      1000000 non-null  float64\n",
      " 94  94      1000000 non-null  float64\n",
      " 95  95      1000000 non-null  float64\n",
      " 96  96      1000000 non-null  float64\n",
      " 97  97      1000000 non-null  float64\n",
      " 98  98      1000000 non-null  float64\n",
      " 99  99      1000000 non-null  float64\n",
      "dtypes: float64(100)\n",
      "memory usage: 762.9 MB\n"
     ]
    }
   ],
   "source": [
    "df1.info()"
   ]
  },
  {
   "cell_type": "code",
   "execution_count": 6,
   "metadata": {},
   "outputs": [
    {
     "name": "stdout",
     "output_type": "stream",
     "text": [
      "7.45 s ± 670 ms per loop (mean ± std. dev. of 7 runs, 1 loop each)\n"
     ]
    }
   ],
   "source": [
    "%timeit df1+df2+df3+df4"
   ]
  },
  {
   "cell_type": "code",
   "execution_count": 8,
   "metadata": {},
   "outputs": [
    {
     "name": "stdout",
     "output_type": "stream",
     "text": [
      "3.94 s ± 907 ms per loop (mean ± std. dev. of 7 runs, 1 loop each)\n"
     ]
    }
   ],
   "source": [
    "%timeit pd.eval(\"df1+df2+df3+df4\")"
   ]
  },
  {
   "cell_type": "code",
   "execution_count": 9,
   "metadata": {},
   "outputs": [
    {
     "data": {
      "text/plain": [
       "True"
      ]
     },
     "execution_count": 9,
     "metadata": {},
     "output_type": "execute_result"
    }
   ],
   "source": [
    "standard = df1+df2+df3+df4\n",
    "sum_eval = pd.eval(\"df1+df2+df3+df4\")\n",
    "\n",
    "sum_eval.equals(standard)"
   ]
  },
  {
   "cell_type": "code",
   "execution_count": 23,
   "metadata": {},
   "outputs": [
    {
     "data": {
      "text/html": [
       "<div>\n",
       "<style scoped>\n",
       "    .dataframe tbody tr th:only-of-type {\n",
       "        vertical-align: middle;\n",
       "    }\n",
       "\n",
       "    .dataframe tbody tr th {\n",
       "        vertical-align: top;\n",
       "    }\n",
       "\n",
       "    .dataframe thead th {\n",
       "        text-align: right;\n",
       "    }\n",
       "</style>\n",
       "<table border=\"1\" class=\"dataframe\">\n",
       "  <thead>\n",
       "    <tr style=\"text-align: right;\">\n",
       "      <th></th>\n",
       "      <th>Die1</th>\n",
       "      <th>Die2</th>\n",
       "      <th>Die3</th>\n",
       "    </tr>\n",
       "  </thead>\n",
       "  <tbody>\n",
       "    <tr>\n",
       "      <th>0</th>\n",
       "      <td>1</td>\n",
       "      <td>2</td>\n",
       "      <td>3</td>\n",
       "    </tr>\n",
       "    <tr>\n",
       "      <th>1</th>\n",
       "      <td>2</td>\n",
       "      <td>5</td>\n",
       "      <td>3</td>\n",
       "    </tr>\n",
       "    <tr>\n",
       "      <th>2</th>\n",
       "      <td>4</td>\n",
       "      <td>5</td>\n",
       "      <td>3</td>\n",
       "    </tr>\n",
       "    <tr>\n",
       "      <th>3</th>\n",
       "      <td>5</td>\n",
       "      <td>2</td>\n",
       "      <td>4</td>\n",
       "    </tr>\n",
       "    <tr>\n",
       "      <th>4</th>\n",
       "      <td>4</td>\n",
       "      <td>1</td>\n",
       "      <td>5</td>\n",
       "    </tr>\n",
       "    <tr>\n",
       "      <th>5</th>\n",
       "      <td>5</td>\n",
       "      <td>5</td>\n",
       "      <td>2</td>\n",
       "    </tr>\n",
       "  </tbody>\n",
       "</table>\n",
       "</div>"
      ],
      "text/plain": [
       "   Die1  Die2  Die3\n",
       "0     1     2     3\n",
       "1     2     5     3\n",
       "2     4     5     3\n",
       "3     5     2     4\n",
       "4     4     1     5\n",
       "5     5     5     2"
      ]
     },
     "execution_count": 23,
     "metadata": {},
     "output_type": "execute_result"
    }
   ],
   "source": [
    "rolls = pd.DataFrame(np.random.randint(1,6, (6,3)), columns = [\"Die1\", \"Die2\", \"Die3\"])\n",
    "rolls\n"
   ]
  },
  {
   "cell_type": "code",
   "execution_count": 24,
   "metadata": {},
   "outputs": [],
   "source": [
    "rolls.eval(\"Sum = Die1 + Die2 + Die3\", inplace = True)\n"
   ]
  },
  {
   "cell_type": "code",
   "execution_count": 25,
   "metadata": {},
   "outputs": [
    {
     "data": {
      "text/html": [
       "<div>\n",
       "<style scoped>\n",
       "    .dataframe tbody tr th:only-of-type {\n",
       "        vertical-align: middle;\n",
       "    }\n",
       "\n",
       "    .dataframe tbody tr th {\n",
       "        vertical-align: top;\n",
       "    }\n",
       "\n",
       "    .dataframe thead th {\n",
       "        text-align: right;\n",
       "    }\n",
       "</style>\n",
       "<table border=\"1\" class=\"dataframe\">\n",
       "  <thead>\n",
       "    <tr style=\"text-align: right;\">\n",
       "      <th></th>\n",
       "      <th>Die1</th>\n",
       "      <th>Die2</th>\n",
       "      <th>Die3</th>\n",
       "      <th>Sum</th>\n",
       "      <th>Winner</th>\n",
       "    </tr>\n",
       "  </thead>\n",
       "  <tbody>\n",
       "    <tr>\n",
       "      <th>0</th>\n",
       "      <td>1</td>\n",
       "      <td>2</td>\n",
       "      <td>3</td>\n",
       "      <td>6</td>\n",
       "      <td>False</td>\n",
       "    </tr>\n",
       "    <tr>\n",
       "      <th>1</th>\n",
       "      <td>2</td>\n",
       "      <td>5</td>\n",
       "      <td>3</td>\n",
       "      <td>10</td>\n",
       "      <td>False</td>\n",
       "    </tr>\n",
       "    <tr>\n",
       "      <th>2</th>\n",
       "      <td>4</td>\n",
       "      <td>5</td>\n",
       "      <td>3</td>\n",
       "      <td>12</td>\n",
       "      <td>True</td>\n",
       "    </tr>\n",
       "    <tr>\n",
       "      <th>3</th>\n",
       "      <td>5</td>\n",
       "      <td>2</td>\n",
       "      <td>4</td>\n",
       "      <td>11</td>\n",
       "      <td>False</td>\n",
       "    </tr>\n",
       "    <tr>\n",
       "      <th>4</th>\n",
       "      <td>4</td>\n",
       "      <td>1</td>\n",
       "      <td>5</td>\n",
       "      <td>10</td>\n",
       "      <td>False</td>\n",
       "    </tr>\n",
       "    <tr>\n",
       "      <th>5</th>\n",
       "      <td>5</td>\n",
       "      <td>5</td>\n",
       "      <td>2</td>\n",
       "      <td>12</td>\n",
       "      <td>True</td>\n",
       "    </tr>\n",
       "  </tbody>\n",
       "</table>\n",
       "</div>"
      ],
      "text/plain": [
       "   Die1  Die2  Die3  Sum  Winner\n",
       "0     1     2     3    6   False\n",
       "1     2     5     3   10   False\n",
       "2     4     5     3   12    True\n",
       "3     5     2     4   11   False\n",
       "4     4     1     5   10   False\n",
       "5     5     5     2   12    True"
      ]
     },
     "execution_count": 25,
     "metadata": {},
     "output_type": "execute_result"
    }
   ],
   "source": [
    "high = 11,\n",
    "rolls.eval(\"Winner = Sum > @high\")"
   ]
  },
  {
   "cell_type": "code",
   "execution_count": 27,
   "metadata": {},
   "outputs": [
    {
     "data": {
      "text/html": [
       "<div>\n",
       "<style scoped>\n",
       "    .dataframe tbody tr th:only-of-type {\n",
       "        vertical-align: middle;\n",
       "    }\n",
       "\n",
       "    .dataframe tbody tr th {\n",
       "        vertical-align: top;\n",
       "    }\n",
       "\n",
       "    .dataframe thead th {\n",
       "        text-align: right;\n",
       "    }\n",
       "</style>\n",
       "<table border=\"1\" class=\"dataframe\">\n",
       "  <thead>\n",
       "    <tr style=\"text-align: right;\">\n",
       "      <th></th>\n",
       "      <th>Die1</th>\n",
       "      <th>Die2</th>\n",
       "      <th>Die3</th>\n",
       "      <th>Sum</th>\n",
       "    </tr>\n",
       "  </thead>\n",
       "  <tbody>\n",
       "    <tr>\n",
       "      <th>2</th>\n",
       "      <td>4</td>\n",
       "      <td>5</td>\n",
       "      <td>3</td>\n",
       "      <td>12</td>\n",
       "    </tr>\n",
       "    <tr>\n",
       "      <th>5</th>\n",
       "      <td>5</td>\n",
       "      <td>5</td>\n",
       "      <td>2</td>\n",
       "      <td>12</td>\n",
       "    </tr>\n",
       "  </tbody>\n",
       "</table>\n",
       "</div>"
      ],
      "text/plain": [
       "   Die1  Die2  Die3  Sum\n",
       "2     4     5     3   12\n",
       "5     5     5     2   12"
      ]
     },
     "execution_count": 27,
     "metadata": {},
     "output_type": "execute_result"
    }
   ],
   "source": [
    "# Traditional way to filter from DataFrame.\n",
    "\n",
    "rolls[rolls[\"Sum\"] > high]"
   ]
  },
  {
   "cell_type": "markdown",
   "metadata": {},
   "source": [
    "## Query\n",
    "\n",
    "- filter using query"
   ]
  },
  {
   "cell_type": "code",
   "execution_count": 34,
   "metadata": {},
   "outputs": [
    {
     "data": {
      "text/html": [
       "<div>\n",
       "<style scoped>\n",
       "    .dataframe tbody tr th:only-of-type {\n",
       "        vertical-align: middle;\n",
       "    }\n",
       "\n",
       "    .dataframe tbody tr th {\n",
       "        vertical-align: top;\n",
       "    }\n",
       "\n",
       "    .dataframe thead th {\n",
       "        text-align: right;\n",
       "    }\n",
       "</style>\n",
       "<table border=\"1\" class=\"dataframe\">\n",
       "  <thead>\n",
       "    <tr style=\"text-align: right;\">\n",
       "      <th></th>\n",
       "      <th>Die1</th>\n",
       "      <th>Die2</th>\n",
       "      <th>Die3</th>\n",
       "      <th>Sum</th>\n",
       "    </tr>\n",
       "  </thead>\n",
       "  <tbody>\n",
       "    <tr>\n",
       "      <th>2</th>\n",
       "      <td>4</td>\n",
       "      <td>5</td>\n",
       "      <td>3</td>\n",
       "      <td>12</td>\n",
       "    </tr>\n",
       "  </tbody>\n",
       "</table>\n",
       "</div>"
      ],
      "text/plain": [
       "   Die1  Die2  Die3  Sum\n",
       "2     4     5     3   12"
      ]
     },
     "execution_count": 34,
     "metadata": {},
     "output_type": "execute_result"
    }
   ],
   "source": [
    "rolls.query(\"Sum > @high\")\n",
    "\n",
    "rolls.query(\"Sum > @high & Die3 > 2\") # you can use & symbol aswell."
   ]
  },
  {
   "cell_type": "code",
   "execution_count": 36,
   "metadata": {},
   "outputs": [],
   "source": [
    "df_os = pd.read_csv(\"../Data/athlete_events.csv\")\n",
    "#Same as above.\n",
    "df_os = pd.read_csv(\"https://raw.githubusercontent.com/Rufshod/Databehandling-Alexander-Andersson/main/Data/athlete_events.csv\")"
   ]
  },
  {
   "cell_type": "code",
   "execution_count": 45,
   "metadata": {},
   "outputs": [
    {
     "name": "stdout",
     "output_type": "stream",
     "text": [
      "17.1 ms ± 385 µs per loop (mean ± std. dev. of 7 runs, 100 loops each)\n"
     ]
    }
   ],
   "source": [
    "\n",
    "#Traditional way:\n",
    "%timeit df_os[df_os[\"NOC\"] == \"CAN\"].head()"
   ]
  },
  {
   "cell_type": "code",
   "execution_count": 44,
   "metadata": {},
   "outputs": [
    {
     "name": "stdout",
     "output_type": "stream",
     "text": [
      "12.6 ms ± 847 µs per loop (mean ± std. dev. of 7 runs, 100 loops each)\n"
     ]
    }
   ],
   "source": [
    "%timeit df_os.query(\"NOC == 'CAN'\").head()"
   ]
  },
  {
   "cell_type": "code",
   "execution_count": 47,
   "metadata": {},
   "outputs": [
    {
     "name": "stdout",
     "output_type": "stream",
     "text": [
      "13.4 ms ± 321 µs per loop (mean ± std. dev. of 7 runs, 10 loops each)\n",
      "10.2 ms ± 68.3 µs per loop (mean ± std. dev. of 7 runs, 100 loops each)\n"
     ]
    }
   ],
   "source": [
    "%timeit df_os.query(\"Height > 180\") # not always faster.\n",
    "%timeit df_os[df_os[\"Height\"]>180]"
   ]
  },
  {
   "cell_type": "code",
   "execution_count": 51,
   "metadata": {},
   "outputs": [
    {
     "name": "stdout",
     "output_type": "stream",
     "text": [
      "28.1 ms ± 418 µs per loop (mean ± std. dev. of 7 runs, 10 loops each)\n",
      "14.3 ms ± 938 µs per loop (mean ± std. dev. of 7 runs, 100 loops each)\n"
     ]
    }
   ],
   "source": [
    "%timeit df_os[(df_os[\"Sex\"] == \"F\") & (df_os[\"Height\"]>180) & (df_os[\"NOC\"] == \"CAN\")].head()\n",
    "%timeit df_os.query(\"Sex == 'F' & Height > 180 & NOC == 'CAN'\").head() # Much faster."
   ]
  },
  {
   "cell_type": "code",
   "execution_count": 52,
   "metadata": {},
   "outputs": [
    {
     "data": {
      "text/html": [
       "<div>\n",
       "<style scoped>\n",
       "    .dataframe tbody tr th:only-of-type {\n",
       "        vertical-align: middle;\n",
       "    }\n",
       "\n",
       "    .dataframe tbody tr th {\n",
       "        vertical-align: top;\n",
       "    }\n",
       "\n",
       "    .dataframe thead th {\n",
       "        text-align: right;\n",
       "    }\n",
       "</style>\n",
       "<table border=\"1\" class=\"dataframe\">\n",
       "  <thead>\n",
       "    <tr style=\"text-align: right;\">\n",
       "      <th></th>\n",
       "      <th>ID</th>\n",
       "      <th>Name</th>\n",
       "      <th>Sex</th>\n",
       "      <th>Age</th>\n",
       "      <th>Height</th>\n",
       "      <th>Weight</th>\n",
       "      <th>Team</th>\n",
       "      <th>NOC</th>\n",
       "      <th>Games</th>\n",
       "      <th>Year</th>\n",
       "      <th>Season</th>\n",
       "      <th>City</th>\n",
       "      <th>Sport</th>\n",
       "      <th>Event</th>\n",
       "      <th>Medal</th>\n",
       "    </tr>\n",
       "  </thead>\n",
       "  <tbody>\n",
       "    <tr>\n",
       "      <th>1214</th>\n",
       "      <td>683</td>\n",
       "      <td>Natalie Chioma Achonwa</td>\n",
       "      <td>F</td>\n",
       "      <td>19.0</td>\n",
       "      <td>190.0</td>\n",
       "      <td>86.0</td>\n",
       "      <td>Canada</td>\n",
       "      <td>CAN</td>\n",
       "      <td>2012 Summer</td>\n",
       "      <td>2012</td>\n",
       "      <td>Summer</td>\n",
       "      <td>London</td>\n",
       "      <td>Basketball</td>\n",
       "      <td>Basketball Women's Basketball</td>\n",
       "      <td>NaN</td>\n",
       "    </tr>\n",
       "    <tr>\n",
       "      <th>1215</th>\n",
       "      <td>683</td>\n",
       "      <td>Natalie Chioma Achonwa</td>\n",
       "      <td>F</td>\n",
       "      <td>23.0</td>\n",
       "      <td>190.0</td>\n",
       "      <td>86.0</td>\n",
       "      <td>Canada</td>\n",
       "      <td>CAN</td>\n",
       "      <td>2016 Summer</td>\n",
       "      <td>2016</td>\n",
       "      <td>Summer</td>\n",
       "      <td>Rio de Janeiro</td>\n",
       "      <td>Basketball</td>\n",
       "      <td>Basketball Women's Basketball</td>\n",
       "      <td>NaN</td>\n",
       "    </tr>\n",
       "    <tr>\n",
       "      <th>6336</th>\n",
       "      <td>3552</td>\n",
       "      <td>Gail Amundrud (-Beattie)</td>\n",
       "      <td>F</td>\n",
       "      <td>19.0</td>\n",
       "      <td>183.0</td>\n",
       "      <td>70.0</td>\n",
       "      <td>Canada</td>\n",
       "      <td>CAN</td>\n",
       "      <td>1976 Summer</td>\n",
       "      <td>1976</td>\n",
       "      <td>Summer</td>\n",
       "      <td>Montreal</td>\n",
       "      <td>Swimming</td>\n",
       "      <td>Swimming Women's 100 metres Freestyle</td>\n",
       "      <td>NaN</td>\n",
       "    </tr>\n",
       "    <tr>\n",
       "      <th>6337</th>\n",
       "      <td>3552</td>\n",
       "      <td>Gail Amundrud (-Beattie)</td>\n",
       "      <td>F</td>\n",
       "      <td>19.0</td>\n",
       "      <td>183.0</td>\n",
       "      <td>70.0</td>\n",
       "      <td>Canada</td>\n",
       "      <td>CAN</td>\n",
       "      <td>1976 Summer</td>\n",
       "      <td>1976</td>\n",
       "      <td>Summer</td>\n",
       "      <td>Montreal</td>\n",
       "      <td>Swimming</td>\n",
       "      <td>Swimming Women's 200 metres Freestyle</td>\n",
       "      <td>NaN</td>\n",
       "    </tr>\n",
       "    <tr>\n",
       "      <th>6338</th>\n",
       "      <td>3552</td>\n",
       "      <td>Gail Amundrud (-Beattie)</td>\n",
       "      <td>F</td>\n",
       "      <td>19.0</td>\n",
       "      <td>183.0</td>\n",
       "      <td>70.0</td>\n",
       "      <td>Canada</td>\n",
       "      <td>CAN</td>\n",
       "      <td>1976 Summer</td>\n",
       "      <td>1976</td>\n",
       "      <td>Summer</td>\n",
       "      <td>Montreal</td>\n",
       "      <td>Swimming</td>\n",
       "      <td>Swimming Women's 4 x 100 metres Freestyle Relay</td>\n",
       "      <td>Bronze</td>\n",
       "    </tr>\n",
       "  </tbody>\n",
       "</table>\n",
       "</div>"
      ],
      "text/plain": [
       "        ID                      Name Sex   Age  Height  Weight    Team  NOC  \\\n",
       "1214   683    Natalie Chioma Achonwa   F  19.0   190.0    86.0  Canada  CAN   \n",
       "1215   683    Natalie Chioma Achonwa   F  23.0   190.0    86.0  Canada  CAN   \n",
       "6336  3552  Gail Amundrud (-Beattie)   F  19.0   183.0    70.0  Canada  CAN   \n",
       "6337  3552  Gail Amundrud (-Beattie)   F  19.0   183.0    70.0  Canada  CAN   \n",
       "6338  3552  Gail Amundrud (-Beattie)   F  19.0   183.0    70.0  Canada  CAN   \n",
       "\n",
       "            Games  Year  Season            City       Sport  \\\n",
       "1214  2012 Summer  2012  Summer          London  Basketball   \n",
       "1215  2016 Summer  2016  Summer  Rio de Janeiro  Basketball   \n",
       "6336  1976 Summer  1976  Summer        Montreal    Swimming   \n",
       "6337  1976 Summer  1976  Summer        Montreal    Swimming   \n",
       "6338  1976 Summer  1976  Summer        Montreal    Swimming   \n",
       "\n",
       "                                                Event   Medal  \n",
       "1214                    Basketball Women's Basketball     NaN  \n",
       "1215                    Basketball Women's Basketball     NaN  \n",
       "6336            Swimming Women's 100 metres Freestyle     NaN  \n",
       "6337            Swimming Women's 200 metres Freestyle     NaN  \n",
       "6338  Swimming Women's 4 x 100 metres Freestyle Relay  Bronze  "
      ]
     },
     "execution_count": 52,
     "metadata": {},
     "output_type": "execute_result"
    }
   ],
   "source": [
    "df_os.query(\"Sex == 'F' & Height > 180 & NOC == 'CAN'\").head()"
   ]
  }
 ],
 "metadata": {
  "kernelspec": {
   "display_name": "Python 3.9.13 ('Databehandling-Alexander-Andersson-cbHjl46c')",
   "language": "python",
   "name": "python3"
  },
  "language_info": {
   "codemirror_mode": {
    "name": "ipython",
    "version": 3
   },
   "file_extension": ".py",
   "mimetype": "text/x-python",
   "name": "python",
   "nbconvert_exporter": "python",
   "pygments_lexer": "ipython3",
   "version": "3.9.13"
  },
  "orig_nbformat": 4,
  "vscode": {
   "interpreter": {
    "hash": "304582795d779ea24f27fb27bdb50be6d750e455c1e18b013d2439a76addf1d6"
   }
  }
 },
 "nbformat": 4,
 "nbformat_minor": 2
}
