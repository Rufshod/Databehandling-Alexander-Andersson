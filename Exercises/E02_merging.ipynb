{
 "cells": [
  {
   "cell_type": "markdown",
   "metadata": {},
   "source": [
    "\n",
    "<a href=\"https://colab.research.google.com/github/kokchun/Databehandling-AI22/blob/main/Exercises/E02_merging.ipynb\" target=\"_parent\"><img align=\"left\" src=\"https://colab.research.google.com/assets/colab-badge.svg\" alt=\"Open In Colab\"/></a> &nbsp; to see hints and answers."
   ]
  },
  {
   "cell_type": "markdown",
   "metadata": {},
   "source": [
    "---\n",
    "# Merging exercises\n",
    "\n",
    "---\n",
    "These are introductory exercises in Pandas with focus in **syntax, indexing, data selection, missing data, aggregations, visualizations**, **data cleaning**, **merging**, **concatenation**, **joining**, **parse html tables** .\n",
    "\n",
    "<p class = \"alert alert-info\" role=\"alert\"><b>Note</b> all datasets used in this exercise can be found under Data folder of the course Github repo</p>\n",
    "\n",
    "<p class = \"alert alert-info\" role=\"alert\"><b>Note</b> that there are usually many ways to achieve same results using operations in pandas. Feel free to investigate several ways. </p>\n",
    "\n",
    "<p class = \"alert alert-info\" role=\"alert\"><b>Note</b> that in cases when you start to repeat code, try not to. Create functions to reuse code instead. </p>\n",
    "\n",
    "<p class = \"alert alert-info\" role=\"alert\"><b>Remember</b> to use <b>descriptive variable, function, index </b> and <b> column names</b> in order to get readable code </p>\n",
    "\n",
    "<p class = \"alert alert-info\" role=\"alert\"><b>Remember</b> to format your input questions in a pedagogical way to guide the user\n",
    "\n",
    "The number of stars (\\*), (\\*\\*), (\\*\\*\\*) denotes the difficulty level of the task\n",
    "\n",
    "---"
   ]
  },
  {
   "cell_type": "code",
   "execution_count": 43,
   "metadata": {},
   "outputs": [],
   "source": [
    "import pandas as pd\n",
    "import seaborn as sns\n",
    "import matplotlib.pyplot as plt"
   ]
  },
  {
   "cell_type": "markdown",
   "metadata": {},
   "source": [
    "## 1. Swedish demographic data (*)\n",
    "\n",
    "Go to Swedish-language wikipedia page [Sveriges demografi](https://sv.wikipedia.org/wiki/Sveriges_demografi). \n",
    "\n",
    "&nbsp; a) Read in the table under \"Befolkningsstatistik sedan 1900\" into a DataFrame\n",
    "\n",
    "&nbsp; b) Choose to do some EDA (exploratory data analysis) on this dataset. And draw some relevant graphs.\n",
    "\n",
    "&nbsp; c) Now we want to go backwards in time (before 1900) to see how population has changed in Sweden. Read in the table under history and keep the data of \"Folkmängd\" from 1570-1865. \n",
    "\n",
    "| År   | Folkmängd |\n",
    "| ---- | --------- | \n",
    "| 1570 | 900000    |     \n",
    "| 1650 | 1225000   |\n",
    "| 1700 | 1485000   |\n",
    "| 1720 | 1350000   |\n",
    "| 1755 | 1878000   |\n",
    "| 1815 | 2465000   |\n",
    "| 1865 | 4099000   |\n",
    "\n",
    "\n",
    "&nbsp; d) Now concatenate this with the table from 1900 so that you have population data from 1570 to 2020. Note that you may need to clean the data in order for it to fit properly. Also you may be able to do this in several ways. \n",
    "\n",
    "&nbsp; e) Draw a graph of population data from 1570-2020.\n",
    "\n",
    "<details>\n",
    "<summary>Hint</summary>\n",
    "\n",
    "Useful methods:\n",
    "- append()\n",
    "- join()\n",
    "- concat()\n",
    "- merge()\n",
    "\n",
    "</details>\n",
    "\n",
    "<br/>\n",
    "\n",
    "<details>\n",
    "\n",
    "<summary>Answer</summary>\n",
    "\n",
    "![Sweden population data 1952-2020](../assets/sverige_befolkning_tid.png)\n",
    "\n",
    "</details>"
   ]
  },
  {
   "cell_type": "markdown",
   "metadata": {},
   "source": [
    "Go to Swedish-language wikipedia page [Sveriges demografi](https://sv.wikipedia.org/wiki/Sveriges_demografi). \n",
    "\n",
    "&nbsp; a) Read in the table under \"Befolkningsstatistik sedan 1900\" into a DataFrame"
   ]
  },
  {
   "cell_type": "code",
   "execution_count": 175,
   "metadata": {},
   "outputs": [],
   "source": [
    "\n",
    "swe_demo = pd.read_html(\"https://sv.wikipedia.org/wiki/Sveriges_demografi\", decimal=\",\", thousands=\" \", match = \"1900\")[2] # Create Dataframe \n",
    "# Decimal check \n",
    "\n",
    "len(swe_demo), type(swe_demo)\n",
    "swe_demo.rename(columns={\"Unnamed: 0\": \"År\", \"Medel- folkmängd\": \"Medel folkmängd\"}, inplace= True)\n"
   ]
  },
  {
   "cell_type": "code",
   "execution_count": 176,
   "metadata": {},
   "outputs": [
    {
     "name": "stdout",
     "output_type": "stream",
     "text": [
      "<class 'pandas.core.frame.DataFrame'>\n",
      "RangeIndex: 122 entries, 0 to 121\n",
      "Data columns (total 9 columns):\n",
      " #   Column                                     Non-Null Count  Dtype  \n",
      "---  ------                                     --------------  -----  \n",
      " 0   År                                         122 non-null    int64  \n",
      " 1   Medel folkmängd                            122 non-null    float64\n",
      " 2   Födda                                      122 non-null    int64  \n",
      " 3   Döda                                       122 non-null    int64  \n",
      " 4   Naturlig befolkningsförändring             122 non-null    int64  \n",
      " 5   Nativitet (per 1000)                       122 non-null    float64\n",
      " 6   Dödstal (per 1000)                         122 non-null    float64\n",
      " 7   Naturlig befolkningsförändring (per 1000)  122 non-null    float64\n",
      " 8   Total fertilitet                           121 non-null    float64\n",
      "dtypes: float64(5), int64(4)\n",
      "memory usage: 8.7 KB\n"
     ]
    }
   ],
   "source": [
    "\n",
    "\n",
    "swe_demo.info()"
   ]
  },
  {
   "cell_type": "code",
   "execution_count": 174,
   "metadata": {},
   "outputs": [
    {
     "name": "stdout",
     "output_type": "stream",
     "text": [
      "<class 'pandas.core.frame.DataFrame'>\n",
      "RangeIndex: 122 entries, 0 to 121\n",
      "Data columns (total 9 columns):\n",
      " #   Column                                     Non-Null Count  Dtype  \n",
      "---  ------                                     --------------  -----  \n",
      " 0   År                                         122 non-null    int64  \n",
      " 1   Medel folkmängd                            122 non-null    float64\n",
      " 2   Födda                                      122 non-null    int64  \n",
      " 3   Döda                                       122 non-null    int64  \n",
      " 4   Naturlig befolkningsförändring             122 non-null    int64  \n",
      " 5   Nativitet (per 1000)                       122 non-null    float64\n",
      " 6   Dödstal (per 1000)                         122 non-null    float64\n",
      " 7   Naturlig befolkningsförändring (per 1000)  122 non-null    float64\n",
      " 8   Total fertilitet                           121 non-null    float64\n",
      "dtypes: float64(5), int64(4)\n",
      "memory usage: 8.7 KB\n"
     ]
    }
   ],
   "source": [
    "len(swe_demo), type(swe_demo)\n",
    "\n",
    "swe_demo.info() "
   ]
  },
  {
   "cell_type": "markdown",
   "metadata": {},
   "source": [
    "&nbsp; b) Choose to do some EDA (exploratory data analysis) on this dataset. And draw some relevant graphs."
   ]
  },
  {
   "cell_type": "code",
   "execution_count": 213,
   "metadata": {},
   "outputs": [
    {
     "data": {
      "text/plain": [
       "<AxesSubplot: xlabel='År', ylabel='Födda'>"
      ]
     },
     "execution_count": 213,
     "metadata": {},
     "output_type": "execute_result"
    },
    {
     "data": {
      "image/png": "[encoded data removed]",
      "text/plain": [
       "<Figure size 640x480 with 1 Axes>"
      ]
     },
     "metadata": {},
     "output_type": "display_data"
    }
   ],
   "source": [
    "data = swe_demo\n",
    "födda = swe_demo[\"Födda\"]\n",
    "döda = swe_demo[\"Döda\"]\n",
    "år = \"År\"\n",
    "\n",
    "\n",
    "\n",
    "#sns.lineplot(data= data, x=\"Medel folkmängd\", y=y)\n",
    "#sns.scatterplot()\n",
    "sns.lineplot(data= data, x=år, y=födda)\n",
    "sns.lineplot(data= data, x=år, y=döda)\n",
    "#sns.lineplot(data=swe_demo[\"År\"])\n",
    "#swe_demo[\"Födda\"].head()"
   ]
  },
  {
   "cell_type": "code",
   "execution_count": 219,
   "metadata": {},
   "outputs": [
    {
     "data": {
      "application/vnd.plotly.v1+json": {
       "config": {
        "plotlyServerURL": "https://plot.ly"
       },
       "data": [
        {
         "hovertemplate": "Total fertilitet=4.02<br>År=%{x}<br>Medel folkmängd=%{y}<extra></extra>",
         "legendgroup": "4.02",
         "line": {
          "color": "#636efa",
          "dash": "solid"
         },
         "marker": {
          "symbol": "circle"
         },
         "mode": "lines",
         "name": "4.02",
         "orientation": "v",
         "showlegend": true,
         "type": "scatter",
         "x": [
          1900
         ],
         "xaxis": "x",
         "y": [
          5117000
         ],
         "yaxis": "y"
        },
        {
         "hovertemplate": "Total fertilitet=4.04<br>År=%{x}<br>Medel folkmängd=%{y}<extra></extra>",
         "legendgroup": "4.04",
         "line": {
          "color": "#EF553B",
          "dash": "solid"
         },
         "marker": {
          "symbol": "circle"
         },
         "mode": "lines",
         "name": "4.04",
         "orientation": "v",
         "showlegend": true,
         "type": "scatter",
         "x": [
          1901
         ],
         "xaxis": "x",
         "y": [
          5156000
         ],
         "yaxis": "y"
        },
        {
         "hovertemplate": "Total fertilitet=3.95<br>År=%{x}<br>Medel folkmängd=%{y}<extra></extra>",
         "legendgroup": "3.95",
         "line": {
          "color": "#00cc96",
          "dash": "solid"
         },
         "marker": {
          "symbol": "circle"
         },
         "mode": "lines",
         "name": "3.95",
         "orientation": "v",
         "showlegend": true,
         "type": "scatter",
         "x": [
          1902
         ],
         "xaxis": "x",
         "y": [
          5187000
         ],
         "yaxis": "y"
        },
        {
         "hovertemplate": "Total fertilitet=3.82<br>År=%{x}<br>Medel folkmängd=%{y}<extra></extra>",
         "legendgroup": "3.82",
         "line": {
          "color": "#ab63fa",
          "dash": "solid"
         },
         "marker": {
          "symbol": "circle"
         },
         "mode": "lines",
         "name": "3.82",
         "orientation": "v",
         "showlegend": true,
         "type": "scatter",
         "x": [
          1903
         ],
         "xaxis": "x",
         "y": [
          5210000
         ],
         "yaxis": "y"
        },
        {
         "hovertemplate": "Total fertilitet=3.83<br>År=%{x}<br>Medel folkmängd=%{y}<extra></extra>",
         "legendgroup": "3.83",
         "line": {
          "color": "#FFA15A",
          "dash": "solid"
         },
         "marker": {
          "symbol": "circle"
         },
         "mode": "lines",
         "name": "3.83",
         "orientation": "v",
         "showlegend": true,
         "type": "scatter",
         "x": [
          1904,
          1905
         ],
         "xaxis": "x",
         "y": [
          5241000,
          5278000
         ],
         "yaxis": "y"
        },
        {
         "hovertemplate": "Total fertilitet=3.81<br>År=%{x}<br>Medel folkmängd=%{y}<extra></extra>",
         "legendgroup": "3.81",
         "line": {
          "color": "#19d3f3",
          "dash": "solid"
         },
         "marker": {
          "symbol": "circle"
         },
         "mode": "lines",
         "name": "3.81",
         "orientation": "v",
         "showlegend": true,
         "type": "scatter",
         "x": [
          1906
         ],
         "xaxis": "x",
         "y": [
          5316000
         ],
         "yaxis": "y"
        },
        {
         "hovertemplate": "Total fertilitet=3.77<br>År=%{x}<br>Medel folkmängd=%{y}<extra></extra>",
         "legendgroup": "3.77",
         "line": {
          "color": "#FF6692",
          "dash": "solid"
         },
         "marker": {
          "symbol": "circle"
         },
         "mode": "lines",
         "name": "3.77",
         "orientation": "v",
         "showlegend": true,
         "type": "scatter",
         "x": [
          1907
         ],
         "xaxis": "x",
         "y": [
          5357000
         ],
         "yaxis": "y"
        },
        {
         "hovertemplate": "Total fertilitet=3.79<br>År=%{x}<br>Medel folkmängd=%{y}<extra></extra>",
         "legendgroup": "3.79",
         "line": {
          "color": "#B6E880",
          "dash": "solid"
         },
         "marker": {
          "symbol": "circle"
         },
         "mode": "lines",
         "name": "3.79",
         "orientation": "v",
         "showlegend": true,
         "type": "scatter",
         "x": [
          1908
         ],
         "xaxis": "x",
         "y": [
          5404000
         ],
         "yaxis": "y"
        },
        {
         "hovertemplate": "Total fertilitet=3.71<br>År=%{x}<br>Medel folkmängd=%{y}<extra></extra>",
         "legendgroup": "3.71",
         "line": {
          "color": "#FF97FF",
          "dash": "solid"
         },
         "marker": {
          "symbol": "circle"
         },
         "mode": "lines",
         "name": "3.71",
         "orientation": "v",
         "showlegend": true,
         "type": "scatter",
         "x": [
          1909
         ],
         "xaxis": "x",
         "y": [
          5453000
         ],
         "yaxis": "y"
        },
        {
         "hovertemplate": "Total fertilitet=3.6<br>År=%{x}<br>Medel folkmängd=%{y}<extra></extra>",
         "legendgroup": "3.6",
         "line": {
          "color": "#FECB52",
          "dash": "solid"
         },
         "marker": {
          "symbol": "circle"
         },
         "mode": "lines",
         "name": "3.6",
         "orientation": "v",
         "showlegend": true,
         "type": "scatter",
         "x": [
          1910
         ],
         "xaxis": "x",
         "y": [
          5499000
         ],
         "yaxis": "y"
        },
        {
         "hovertemplate": "Total fertilitet=3.49<br>År=%{x}<br>Medel folkmängd=%{y}<extra></extra>",
         "legendgroup": "3.49",
         "line": {
          "color": "#636efa",
          "dash": "solid"
         },
         "marker": {
          "symbol": "circle"
         },
         "mode": "lines",
         "name": "3.49",
         "orientation": "v",
         "showlegend": true,
         "type": "scatter",
         "x": [
          1911
         ],
         "xaxis": "x",
         "y": [
          5542000
         ],
         "yaxis": "y"
        },
        {
         "hovertemplate": "Total fertilitet=3.44<br>År=%{x}<br>Medel folkmängd=%{y}<extra></extra>",
         "legendgroup": "3.44",
         "line": {
          "color": "#EF553B",
          "dash": "solid"
         },
         "marker": {
          "symbol": "circle"
         },
         "mode": "lines",
         "name": "3.44",
         "orientation": "v",
         "showlegend": true,
         "type": "scatter",
         "x": [
          1912
         ],
         "xaxis": "x",
         "y": [
          5583000
         ],
         "yaxis": "y"
        },
        {
         "hovertemplate": "Total fertilitet=3.32<br>År=%{x}<br>Medel folkmängd=%{y}<extra></extra>",
         "legendgroup": "3.32",
         "line": {
          "color": "#00cc96",
          "dash": "solid"
         },
         "marker": {
          "symbol": "circle"
         },
         "mode": "lines",
         "name": "3.32",
         "orientation": "v",
         "showlegend": true,
         "type": "scatter",
         "x": [
          1913
         ],
         "xaxis": "x",
         "y": [
          5621000
         ],
         "yaxis": "y"
        },
        {
         "hovertemplate": "Total fertilitet=3.29<br>År=%{x}<br>Medel folkmängd=%{y}<extra></extra>",
         "legendgroup": "3.29",
         "line": {
          "color": "#ab63fa",
          "dash": "solid"
         },
         "marker": {
          "symbol": "circle"
         },
         "mode": "lines",
         "name": "3.29",
         "orientation": "v",
         "showlegend": true,
         "type": "scatter",
         "x": [
          1914
         ],
         "xaxis": "x",
         "y": [
          5659000
         ],
         "yaxis": "y"
        },
        {
         "hovertemplate": "Total fertilitet=3.06<br>År=%{x}<br>Medel folkmängd=%{y}<extra></extra>",
         "legendgroup": "3.06",
         "line": {
          "color": "#FFA15A",
          "dash": "solid"
         },
         "marker": {
          "symbol": "circle"
         },
         "mode": "lines",
         "name": "3.06",
         "orientation": "v",
         "showlegend": true,
         "type": "scatter",
         "x": [
          1915
         ],
         "xaxis": "x",
         "y": [
          5696000
         ],
         "yaxis": "y"
        },
        {
         "hovertemplate": "Total fertilitet=2.99<br>År=%{x}<br>Medel folkmängd=%{y}<extra></extra>",
         "legendgroup": "2.99",
         "line": {
          "color": "#19d3f3",
          "dash": "solid"
         },
         "marker": {
          "symbol": "circle"
         },
         "mode": "lines",
         "name": "2.99",
         "orientation": "v",
         "showlegend": true,
         "type": "scatter",
         "x": [
          1916
         ],
         "xaxis": "x",
         "y": [
          5735000
         ],
         "yaxis": "y"
        },
        {
         "hovertemplate": "Total fertilitet=2.93<br>År=%{x}<br>Medel folkmängd=%{y}<extra></extra>",
         "legendgroup": "2.93",
         "line": {
          "color": "#FF6692",
          "dash": "solid"
         },
         "marker": {
          "symbol": "circle"
         },
         "mode": "lines",
         "name": "2.93",
         "orientation": "v",
         "showlegend": true,
         "type": "scatter",
         "x": [
          1917,
          1921
         ],
         "xaxis": "x",
         "y": [
          5779000,
          5929000
         ],
         "yaxis": "y"
        },
        {
         "hovertemplate": "Total fertilitet=2.83<br>År=%{x}<br>Medel folkmängd=%{y}<extra></extra>",
         "legendgroup": "2.83",
         "line": {
          "color": "#B6E880",
          "dash": "solid"
         },
         "marker": {
          "symbol": "circle"
         },
         "mode": "lines",
         "name": "2.83",
         "orientation": "v",
         "showlegend": true,
         "type": "scatter",
         "x": [
          1918
         ],
         "xaxis": "x",
         "y": [
          5807000
         ],
         "yaxis": "y"
        },
        {
         "hovertemplate": "Total fertilitet=2.72<br>År=%{x}<br>Medel folkmängd=%{y}<extra></extra>",
         "legendgroup": "2.72",
         "line": {
          "color": "#FF97FF",
          "dash": "solid"
         },
         "marker": {
          "symbol": "circle"
         },
         "mode": "lines",
         "name": "2.72",
         "orientation": "v",
         "showlegend": true,
         "type": "scatter",
         "x": [
          1919
         ],
         "xaxis": "x",
         "y": [
          5830000
         ],
         "yaxis": "y"
        },
        {
         "hovertemplate": "Total fertilitet=3.22<br>År=%{x}<br>Medel folkmängd=%{y}<extra></extra>",
         "legendgroup": "3.22",
         "line": {
          "color": "#FECB52",
          "dash": "solid"
         },
         "marker": {
          "symbol": "circle"
         },
         "mode": "lines",
         "name": "3.22",
         "orientation": "v",
         "showlegend": true,
         "type": "scatter",
         "x": [
          1920
         ],
         "xaxis": "x",
         "y": [
          5876000
         ],
         "yaxis": "y"
        },
        {
         "hovertemplate": "Total fertilitet=2.66<br>År=%{x}<br>Medel folkmängd=%{y}<extra></extra>",
         "legendgroup": "2.66",
         "line": {
          "color": "#636efa",
          "dash": "solid"
         },
         "marker": {
          "symbol": "circle"
         },
         "mode": "lines",
         "name": "2.66",
         "orientation": "v",
         "showlegend": true,
         "type": "scatter",
         "x": [
          1922
         ],
         "xaxis": "x",
         "y": [
          5971000
         ],
         "yaxis": "y"
        },
        {
         "hovertemplate": "Total fertilitet=2.55<br>År=%{x}<br>Medel folkmängd=%{y}<extra></extra>",
         "legendgroup": "2.55",
         "line": {
          "color": "#EF553B",
          "dash": "solid"
         },
         "marker": {
          "symbol": "circle"
         },
         "mode": "lines",
         "name": "2.55",
         "orientation": "v",
         "showlegend": true,
         "type": "scatter",
         "x": [
          1923
         ],
         "xaxis": "x",
         "y": [
          5997000
         ],
         "yaxis": "y"
        },
        {
         "hovertemplate": "Total fertilitet=2.43<br>År=%{x}<br>Medel folkmängd=%{y}<extra></extra>",
         "legendgroup": "2.43",
         "line": {
          "color": "#00cc96",
          "dash": "solid"
         },
         "marker": {
          "symbol": "circle"
         },
         "mode": "lines",
         "name": "2.43",
         "orientation": "v",
         "showlegend": true,
         "type": "scatter",
         "x": [
          1924
         ],
         "xaxis": "x",
         "y": [
          6021000
         ],
         "yaxis": "y"
        },
        {
         "hovertemplate": "Total fertilitet=2.34<br>År=%{x}<br>Medel folkmängd=%{y}<extra></extra>",
         "legendgroup": "2.34",
         "line": {
          "color": "#ab63fa",
          "dash": "solid"
         },
         "marker": {
          "symbol": "circle"
         },
         "mode": "lines",
         "name": "2.34",
         "orientation": "v",
         "showlegend": true,
         "type": "scatter",
         "x": [
          1925
         ],
         "xaxis": "x",
         "y": [
          6045000
         ],
         "yaxis": "y"
        },
        {
         "hovertemplate": "Total fertilitet=2.22<br>År=%{x}<br>Medel folkmängd=%{y}<extra></extra>",
         "legendgroup": "2.22",
         "line": {
          "color": "#FFA15A",
          "dash": "solid"
         },
         "marker": {
          "symbol": "circle"
         },
         "mode": "lines",
         "name": "2.22",
         "orientation": "v",
         "showlegend": true,
         "type": "scatter",
         "x": [
          1926,
          1952
         ],
         "xaxis": "x",
         "y": [
          6064000,
          7125000
         ],
         "yaxis": "y"
        },
        {
         "hovertemplate": "Total fertilitet=2.11<br>År=%{x}<br>Medel folkmängd=%{y}<extra></extra>",
         "legendgroup": "2.11",
         "line": {
          "color": "#19d3f3",
          "dash": "solid"
         },
         "marker": {
          "symbol": "circle"
         },
         "mode": "lines",
         "name": "2.11",
         "orientation": "v",
         "showlegend": true,
         "type": "scatter",
         "x": [
          1927
         ],
         "xaxis": "x",
         "y": [
          6081000
         ],
         "yaxis": "y"
        },
        {
         "hovertemplate": "Total fertilitet=2.08<br>År=%{x}<br>Medel folkmängd=%{y}<extra></extra>",
         "legendgroup": "2.08",
         "line": {
          "color": "#FF6692",
          "dash": "solid"
         },
         "marker": {
          "symbol": "circle"
         },
         "mode": "lines",
         "name": "2.08",
         "orientation": "v",
         "showlegend": true,
         "type": "scatter",
         "x": [
          1928
         ],
         "xaxis": "x",
         "y": [
          6097000
         ],
         "yaxis": "y"
        },
        {
         "hovertemplate": "Total fertilitet=1.95<br>År=%{x}<br>Medel folkmängd=%{y}<extra></extra>",
         "legendgroup": "1.95",
         "line": {
          "color": "#B6E880",
          "dash": "solid"
         },
         "marker": {
          "symbol": "circle"
         },
         "mode": "lines",
         "name": "1.95",
         "orientation": "v",
         "showlegend": true,
         "type": "scatter",
         "x": [
          1929
         ],
         "xaxis": "x",
         "y": [
          6113000
         ],
         "yaxis": "y"
        },
        {
         "hovertemplate": "Total fertilitet=1.96<br>År=%{x}<br>Medel folkmängd=%{y}<extra></extra>",
         "legendgroup": "1.96",
         "line": {
          "color": "#FF97FF",
          "dash": "solid"
         },
         "marker": {
          "symbol": "circle"
         },
         "mode": "lines",
         "name": "1.96",
         "orientation": "v",
         "showlegend": true,
         "type": "scatter",
         "x": [
          1930,
          1988
         ],
         "xaxis": "x",
         "y": [
          6131000,
          8436485.5
         ],
         "yaxis": "y"
        },
        {
         "hovertemplate": "Total fertilitet=1.88<br>År=%{x}<br>Medel folkmängd=%{y}<extra></extra>",
         "legendgroup": "1.88",
         "line": {
          "color": "#FECB52",
          "dash": "solid"
         },
         "marker": {
          "symbol": "circle"
         },
         "mode": "lines",
         "name": "1.88",
         "orientation": "v",
         "showlegend": true,
         "type": "scatter",
         "x": [
          1931,
          1973,
          2007,
          2014
         ],
         "xaxis": "x",
         "y": [
          6152000,
          8137000,
          9148092,
          9696109.5
         ],
         "yaxis": "y"
        },
        {
         "hovertemplate": "Total fertilitet=1.83<br>År=%{x}<br>Medel folkmängd=%{y}<extra></extra>",
         "legendgroup": "1.83",
         "line": {
          "color": "#636efa",
          "dash": "solid"
         },
         "marker": {
          "symbol": "circle"
         },
         "mode": "lines",
         "name": "1.83",
         "orientation": "v",
         "showlegend": true,
         "type": "scatter",
         "x": [
          1932
         ],
         "xaxis": "x",
         "y": [
          6176000
         ],
         "yaxis": "y"
        },
        {
         "hovertemplate": "Total fertilitet=1.72<br>År=%{x}<br>Medel folkmängd=%{y}<extra></extra>",
         "legendgroup": "1.72",
         "line": {
          "color": "#EF553B",
          "dash": "solid"
         },
         "marker": {
          "symbol": "circle"
         },
         "mode": "lines",
         "name": "1.72",
         "orientation": "v",
         "showlegend": true,
         "type": "scatter",
         "x": [
          1933
         ],
         "xaxis": "x",
         "y": [
          6201000
         ],
         "yaxis": "y"
        },
        {
         "hovertemplate": "Total fertilitet=1.67<br>År=%{x}<br>Medel folkmängd=%{y}<extra></extra>",
         "legendgroup": "1.67",
         "line": {
          "color": "#00cc96",
          "dash": "solid"
         },
         "marker": {
          "symbol": "circle"
         },
         "mode": "lines",
         "name": "1.67",
         "orientation": "v",
         "showlegend": true,
         "type": "scatter",
         "x": [
          1934
         ],
         "xaxis": "x",
         "y": [
          6222000
         ],
         "yaxis": "y"
        },
        {
         "hovertemplate": "Total fertilitet=1.7<br>År=%{x}<br>Medel folkmängd=%{y}<extra></extra>",
         "legendgroup": "1.7",
         "line": {
          "color": "#ab63fa",
          "dash": "solid"
         },
         "marker": {
          "symbol": "circle"
         },
         "mode": "lines",
         "name": "1.7",
         "orientation": "v",
         "showlegend": true,
         "type": "scatter",
         "x": [
          1935,
          1976,
          2019
         ],
         "xaxis": "x",
         "y": [
          6242000,
          8222000,
          10278887
         ],
         "yaxis": "y"
        },
        {
         "hovertemplate": "Total fertilitet=1.75<br>År=%{x}<br>Medel folkmängd=%{y}<extra></extra>",
         "legendgroup": "1.75",
         "line": {
          "color": "#FFA15A",
          "dash": "solid"
         },
         "marker": {
          "symbol": "circle"
         },
         "mode": "lines",
         "name": "1.75",
         "orientation": "v",
         "showlegend": true,
         "type": "scatter",
         "x": [
          1936,
          2004,
          2018
         ],
         "xaxis": "x",
         "y": [
          6259000,
          8993531,
          10175213.5
         ],
         "yaxis": "y"
        },
        {
         "hovertemplate": "Total fertilitet=1.77<br>År=%{x}<br>Medel folkmängd=%{y}<extra></extra>",
         "legendgroup": "1.77",
         "line": {
          "color": "#19d3f3",
          "dash": "solid"
         },
         "marker": {
          "symbol": "circle"
         },
         "mode": "lines",
         "name": "1.77",
         "orientation": "v",
         "showlegend": true,
         "type": "scatter",
         "x": [
          1937,
          2005
         ],
         "xaxis": "x",
         "y": [
          6276000,
          9029572
         ],
         "yaxis": "y"
        },
        {
         "hovertemplate": "Total fertilitet=1.84<br>År=%{x}<br>Medel folkmängd=%{y}<extra></extra>",
         "legendgroup": "1.84",
         "line": {
          "color": "#FF6692",
          "dash": "solid"
         },
         "marker": {
          "symbol": "circle"
         },
         "mode": "lines",
         "name": "1.84",
         "orientation": "v",
         "showlegend": true,
         "type": "scatter",
         "x": [
          1938,
          1987
         ],
         "xaxis": "x",
         "y": [
          6297000,
          8397799
         ],
         "yaxis": "y"
        },
        {
         "hovertemplate": "Total fertilitet=1.9<br>År=%{x}<br>Medel folkmängd=%{y}<extra></extra>",
         "legendgroup": "1.9",
         "line": {
          "color": "#B6E880",
          "dash": "solid"
         },
         "marker": {
          "symbol": "circle"
         },
         "mode": "lines",
         "name": "1.9",
         "orientation": "v",
         "showlegend": true,
         "type": "scatter",
         "x": [
          1939,
          1994,
          2011
         ],
         "xaxis": "x",
         "y": [
          6326000,
          8780745,
          9449212.5
         ],
         "yaxis": "y"
        },
        {
         "hovertemplate": "Total fertilitet=1.86<br>År=%{x}<br>Medel folkmängd=%{y}<extra></extra>",
         "legendgroup": "1.86",
         "line": {
          "color": "#FF97FF",
          "dash": "solid"
         },
         "marker": {
          "symbol": "circle"
         },
         "mode": "lines",
         "name": "1.86",
         "orientation": "v",
         "showlegend": true,
         "type": "scatter",
         "x": [
          1940
         ],
         "xaxis": "x",
         "y": [
          6356000
         ],
         "yaxis": "y"
        },
        {
         "hovertemplate": "Total fertilitet=1.92<br>År=%{x}<br>Medel folkmängd=%{y}<extra></extra>",
         "legendgroup": "1.92",
         "line": {
          "color": "#FECB52",
          "dash": "solid"
         },
         "marker": {
          "symbol": "circle"
         },
         "mode": "lines",
         "name": "1.92",
         "orientation": "v",
         "showlegend": true,
         "type": "scatter",
         "x": [
          1941
         ],
         "xaxis": "x",
         "y": [
          6389000
         ],
         "yaxis": "y"
        },
        {
         "hovertemplate": "Total fertilitet=2.19<br>År=%{x}<br>Medel folkmängd=%{y}<extra></extra>",
         "legendgroup": "2.19",
         "line": {
          "color": "#636efa",
          "dash": "solid"
         },
         "marker": {
          "symbol": "circle"
         },
         "mode": "lines",
         "name": "2.19",
         "orientation": "v",
         "showlegend": true,
         "type": "scatter",
         "x": [
          1942
         ],
         "xaxis": "x",
         "y": [
          6432000
         ],
         "yaxis": "y"
        },
        {
         "hovertemplate": "Total fertilitet=2.41<br>År=%{x}<br>Medel folkmängd=%{y}<extra></extra>",
         "legendgroup": "2.41",
         "line": {
          "color": "#EF553B",
          "dash": "solid"
         },
         "marker": {
          "symbol": "circle"
         },
         "mode": "lines",
         "name": "2.41",
         "orientation": "v",
         "showlegend": true,
         "type": "scatter",
         "x": [
          1943
         ],
         "xaxis": "x",
         "y": [
          6491000
         ],
         "yaxis": "y"
        },
        {
         "hovertemplate": "Total fertilitet=2.61<br>År=%{x}<br>Medel folkmängd=%{y}<extra></extra>",
         "legendgroup": "2.61",
         "line": {
          "color": "#00cc96",
          "dash": "solid"
         },
         "marker": {
          "symbol": "circle"
         },
         "mode": "lines",
         "name": "2.61",
         "orientation": "v",
         "showlegend": true,
         "type": "scatter",
         "x": [
          1944
         ],
         "xaxis": "x",
         "y": [
          6560000
         ],
         "yaxis": "y"
        },
        {
         "hovertemplate": "Total fertilitet=2.63<br>År=%{x}<br>Medel folkmängd=%{y}<extra></extra>",
         "legendgroup": "2.63",
         "line": {
          "color": "#ab63fa",
          "dash": "solid"
         },
         "marker": {
          "symbol": "circle"
         },
         "mode": "lines",
         "name": "2.63",
         "orientation": "v",
         "showlegend": true,
         "type": "scatter",
         "x": [
          1945
         ],
         "xaxis": "x",
         "y": [
          6636000
         ],
         "yaxis": "y"
        },
        {
         "hovertemplate": "Total fertilitet=2.57<br>År=%{x}<br>Medel folkmängd=%{y}<extra></extra>",
         "legendgroup": "2.57",
         "line": {
          "color": "#FFA15A",
          "dash": "solid"
         },
         "marker": {
          "symbol": "circle"
         },
         "mode": "lines",
         "name": "2.57",
         "orientation": "v",
         "showlegend": true,
         "type": "scatter",
         "x": [
          1946
         ],
         "xaxis": "x",
         "y": [
          6719000
         ],
         "yaxis": "y"
        },
        {
         "hovertemplate": "Total fertilitet=2.5<br>År=%{x}<br>Medel folkmängd=%{y}<extra></extra>",
         "legendgroup": "2.5",
         "line": {
          "color": "#19d3f3",
          "dash": "solid"
         },
         "marker": {
          "symbol": "circle"
         },
         "mode": "lines",
         "name": "2.5",
         "orientation": "v",
         "showlegend": true,
         "type": "scatter",
         "x": [
          1947
         ],
         "xaxis": "x",
         "y": [
          6803000
         ],
         "yaxis": "y"
        },
        {
         "hovertemplate": "Total fertilitet=2.47<br>År=%{x}<br>Medel folkmängd=%{y}<extra></extra>",
         "legendgroup": "2.47",
         "line": {
          "color": "#FF6692",
          "dash": "solid"
         },
         "marker": {
          "symbol": "circle"
         },
         "mode": "lines",
         "name": "2.47",
         "orientation": "v",
         "showlegend": true,
         "type": "scatter",
         "x": [
          1948,
          1964
         ],
         "xaxis": "x",
         "y": [
          6883000,
          7661000
         ],
         "yaxis": "y"
        },
        {
         "hovertemplate": "Total fertilitet=2.39<br>År=%{x}<br>Medel folkmängd=%{y}<extra></extra>",
         "legendgroup": "2.39",
         "line": {
          "color": "#B6E880",
          "dash": "solid"
         },
         "marker": {
          "symbol": "circle"
         },
         "mode": "lines",
         "name": "2.39",
         "orientation": "v",
         "showlegend": true,
         "type": "scatter",
         "x": [
          1949,
          1965
         ],
         "xaxis": "x",
         "y": [
          6956000,
          7734000
         ],
         "yaxis": "y"
        },
        {
         "hovertemplate": "Total fertilitet=2.28<br>År=%{x}<br>Medel folkmängd=%{y}<extra></extra>",
         "legendgroup": "2.28",
         "line": {
          "color": "#FF97FF",
          "dash": "solid"
         },
         "marker": {
          "symbol": "circle"
         },
         "mode": "lines",
         "name": "2.28",
         "orientation": "v",
         "showlegend": true,
         "type": "scatter",
         "x": [
          1950,
          1967
         ],
         "xaxis": "x",
         "y": [
          7014000,
          7868000
         ],
         "yaxis": "y"
        },
        {
         "hovertemplate": "Total fertilitet=2.2<br>År=%{x}<br>Medel folkmängd=%{y}<extra></extra>",
         "legendgroup": "2.2",
         "line": {
          "color": "#FECB52",
          "dash": "solid"
         },
         "marker": {
          "symbol": "circle"
         },
         "mode": "lines",
         "name": "2.2",
         "orientation": "v",
         "showlegend": true,
         "type": "scatter",
         "x": [
          1951
         ],
         "xaxis": "x",
         "y": [
          7073000
         ],
         "yaxis": "y"
        },
        {
         "hovertemplate": "Total fertilitet=2.25<br>År=%{x}<br>Medel folkmängd=%{y}<extra></extra>",
         "legendgroup": "2.25",
         "line": {
          "color": "#636efa",
          "dash": "solid"
         },
         "marker": {
          "symbol": "circle"
         },
         "mode": "lines",
         "name": "2.25",
         "orientation": "v",
         "showlegend": true,
         "type": "scatter",
         "x": [
          1953,
          1955,
          1962
         ],
         "xaxis": "x",
         "y": [
          7171000,
          7262000,
          7562000
         ],
         "yaxis": "y"
        },
        {
         "hovertemplate": "Total fertilitet=2.18<br>År=%{x}<br>Medel folkmängd=%{y}<extra></extra>",
         "legendgroup": "2.18",
         "line": {
          "color": "#EF553B",
          "dash": "solid"
         },
         "marker": {
          "symbol": "circle"
         },
         "mode": "lines",
         "name": "2.18",
         "orientation": "v",
         "showlegend": true,
         "type": "scatter",
         "x": [
          1954
         ],
         "xaxis": "x",
         "y": [
          7213000
         ],
         "yaxis": "y"
        },
        {
         "hovertemplate": "Total fertilitet=2.29<br>År=%{x}<br>Medel folkmängd=%{y}<extra></extra>",
         "legendgroup": "2.29",
         "line": {
          "color": "#00cc96",
          "dash": "solid"
         },
         "marker": {
          "symbol": "circle"
         },
         "mode": "lines",
         "name": "2.29",
         "orientation": "v",
         "showlegend": true,
         "type": "scatter",
         "x": [
          1956,
          1957,
          1959
         ],
         "xaxis": "x",
         "y": [
          7315000,
          7364000,
          7446000
         ],
         "yaxis": "y"
        },
        {
         "hovertemplate": "Total fertilitet=2.26<br>År=%{x}<br>Medel folkmängd=%{y}<extra></extra>",
         "legendgroup": "2.26",
         "line": {
          "color": "#ab63fa",
          "dash": "solid"
         },
         "marker": {
          "symbol": "circle"
         },
         "mode": "lines",
         "name": "2.26",
         "orientation": "v",
         "showlegend": true,
         "type": "scatter",
         "x": [
          1958
         ],
         "xaxis": "x",
         "y": [
          7409000
         ],
         "yaxis": "y"
        },
        {
         "hovertemplate": "Total fertilitet=2.17<br>År=%{x}<br>Medel folkmängd=%{y}<extra></extra>",
         "legendgroup": "2.17",
         "line": {
          "color": "#FFA15A",
          "dash": "solid"
         },
         "marker": {
          "symbol": "circle"
         },
         "mode": "lines",
         "name": "2.17",
         "orientation": "v",
         "showlegend": true,
         "type": "scatter",
         "x": [
          1960
         ],
         "xaxis": "x",
         "y": [
          7480000
         ],
         "yaxis": "y"
        },
        {
         "hovertemplate": "Total fertilitet=2.21<br>År=%{x}<br>Medel folkmängd=%{y}<extra></extra>",
         "legendgroup": "2.21",
         "line": {
          "color": "#19d3f3",
          "dash": "solid"
         },
         "marker": {
          "symbol": "circle"
         },
         "mode": "lines",
         "name": "2.21",
         "orientation": "v",
         "showlegend": true,
         "type": "scatter",
         "x": [
          1961
         ],
         "xaxis": "x",
         "y": [
          7520000
         ],
         "yaxis": "y"
        },
        {
         "hovertemplate": "Total fertilitet=2.33<br>År=%{x}<br>Medel folkmängd=%{y}<extra></extra>",
         "legendgroup": "2.33",
         "line": {
          "color": "#FF6692",
          "dash": "solid"
         },
         "marker": {
          "symbol": "circle"
         },
         "mode": "lines",
         "name": "2.33",
         "orientation": "v",
         "showlegend": true,
         "type": "scatter",
         "x": [
          1963
         ],
         "xaxis": "x",
         "y": [
          7604000
         ],
         "yaxis": "y"
        },
        {
         "hovertemplate": "Total fertilitet=2.37<br>År=%{x}<br>Medel folkmängd=%{y}<extra></extra>",
         "legendgroup": "2.37",
         "line": {
          "color": "#B6E880",
          "dash": "solid"
         },
         "marker": {
          "symbol": "circle"
         },
         "mode": "lines",
         "name": "2.37",
         "orientation": "v",
         "showlegend": true,
         "type": "scatter",
         "x": [
          1966
         ],
         "xaxis": "x",
         "y": [
          7808000
         ],
         "yaxis": "y"
        },
        {
         "hovertemplate": "Total fertilitet=2.07<br>År=%{x}<br>Medel folkmängd=%{y}<extra></extra>",
         "legendgroup": "2.07",
         "line": {
          "color": "#FF97FF",
          "dash": "solid"
         },
         "marker": {
          "symbol": "circle"
         },
         "mode": "lines",
         "name": "2.07",
         "orientation": "v",
         "showlegend": true,
         "type": "scatter",
         "x": [
          1968
         ],
         "xaxis": "x",
         "y": [
          7914000
         ],
         "yaxis": "y"
        },
        {
         "hovertemplate": "Total fertilitet=1.94<br>År=%{x}<br>Medel folkmängd=%{y}<extra></extra>",
         "legendgroup": "1.94",
         "line": {
          "color": "#FECB52",
          "dash": "solid"
         },
         "marker": {
          "symbol": "circle"
         },
         "mode": "lines",
         "name": "1.94",
         "orientation": "v",
         "showlegend": true,
         "type": "scatter",
         "x": [
          1969,
          1970,
          2009
         ],
         "xaxis": "x",
         "y": [
          7968000,
          8043000,
          9298514.5
         ],
         "yaxis": "y"
        },
        {
         "hovertemplate": "Total fertilitet=1.98<br>År=%{x}<br>Medel folkmängd=%{y}<extra></extra>",
         "legendgroup": "1.98",
         "line": {
          "color": "#636efa",
          "dash": "solid"
         },
         "marker": {
          "symbol": "circle"
         },
         "mode": "lines",
         "name": "1.98",
         "orientation": "v",
         "showlegend": true,
         "type": "scatter",
         "x": [
          1971,
          2010
         ],
         "xaxis": "x",
         "y": [
          8098000,
          9378126
         ],
         "yaxis": "y"
        },
        {
         "hovertemplate": "Total fertilitet=1.93<br>År=%{x}<br>Medel folkmängd=%{y}<extra></extra>",
         "legendgroup": "1.93",
         "line": {
          "color": "#EF553B",
          "dash": "solid"
         },
         "marker": {
          "symbol": "circle"
         },
         "mode": "lines",
         "name": "1.93",
         "orientation": "v",
         "showlegend": true,
         "type": "scatter",
         "x": [
          1972
         ],
         "xaxis": "x",
         "y": [
          8122000
         ],
         "yaxis": "y"
        },
        {
         "hovertemplate": "Total fertilitet=1.91<br>År=%{x}<br>Medel folkmängd=%{y}<extra></extra>",
         "legendgroup": "1.91",
         "line": {
          "color": "#00cc96",
          "dash": "solid"
         },
         "marker": {
          "symbol": "circle"
         },
         "mode": "lines",
         "name": "1.91",
         "orientation": "v",
         "showlegend": true,
         "type": "scatter",
         "x": [
          1974,
          2008,
          2012
         ],
         "xaxis": "x",
         "y": [
          8161000,
          9219637,
          9519374
         ],
         "yaxis": "y"
        },
        {
         "hovertemplate": "Total fertilitet=1.78<br>År=%{x}<br>Medel folkmängd=%{y}<extra></extra>",
         "legendgroup": "1.78",
         "line": {
          "color": "#ab63fa",
          "dash": "solid"
         },
         "marker": {
          "symbol": "circle"
         },
         "mode": "lines",
         "name": "1.78",
         "orientation": "v",
         "showlegend": true,
         "type": "scatter",
         "x": [
          1975
         ],
         "xaxis": "x",
         "y": [
          8193000
         ],
         "yaxis": "y"
        },
        {
         "hovertemplate": "Total fertilitet=1.64<br>År=%{x}<br>Medel folkmängd=%{y}<extra></extra>",
         "legendgroup": "1.64",
         "line": {
          "color": "#FFA15A",
          "dash": "solid"
         },
         "marker": {
          "symbol": "circle"
         },
         "mode": "lines",
         "name": "1.64",
         "orientation": "v",
         "showlegend": true,
         "type": "scatter",
         "x": [
          1977
         ],
         "xaxis": "x",
         "y": [
          8252000
         ],
         "yaxis": "y"
        },
        {
         "hovertemplate": "Total fertilitet=1.61<br>År=%{x}<br>Medel folkmängd=%{y}<extra></extra>",
         "legendgroup": "1.61",
         "line": {
          "color": "#19d3f3",
          "dash": "solid"
         },
         "marker": {
          "symbol": "circle"
         },
         "mode": "lines",
         "name": "1.61",
         "orientation": "v",
         "showlegend": true,
         "type": "scatter",
         "x": [
          1978,
          1983,
          1996
         ],
         "xaxis": "x",
         "y": [
          8276000,
          8329000,
          8840997.5
         ],
         "yaxis": "y"
        },
        {
         "hovertemplate": "Total fertilitet=1.66<br>År=%{x}<br>Medel folkmängd=%{y}<extra></extra>",
         "legendgroup": "1.66",
         "line": {
          "color": "#FF6692",
          "dash": "solid"
         },
         "marker": {
          "symbol": "circle"
         },
         "mode": "lines",
         "name": "1.66",
         "orientation": "v",
         "showlegend": true,
         "type": "scatter",
         "x": [
          1979,
          1984,
          2020
         ],
         "xaxis": "x",
         "y": [
          8294000,
          8337000,
          10353442
         ],
         "yaxis": "y"
        },
        {
         "hovertemplate": "Total fertilitet=1.69<br>År=%{x}<br>Medel folkmängd=%{y}<extra></extra>",
         "legendgroup": "1.69",
         "line": {
          "color": "#B6E880",
          "dash": "solid"
         },
         "marker": {
          "symbol": "circle"
         },
         "mode": "lines",
         "name": "1.69",
         "orientation": "v",
         "showlegend": true,
         "type": "scatter",
         "x": [
          1980
         ],
         "xaxis": "x",
         "y": [
          8310000
         ],
         "yaxis": "y"
        },
        {
         "hovertemplate": "Total fertilitet=1.63<br>År=%{x}<br>Medel folkmängd=%{y}<extra></extra>",
         "legendgroup": "1.63",
         "line": {
          "color": "#FF97FF",
          "dash": "solid"
         },
         "marker": {
          "symbol": "circle"
         },
         "mode": "lines",
         "name": "1.63",
         "orientation": "v",
         "showlegend": true,
         "type": "scatter",
         "x": [
          1981
         ],
         "xaxis": "x",
         "y": [
          8320000
         ],
         "yaxis": "y"
        },
        {
         "hovertemplate": "Total fertilitet=1.6<br>År=%{x}<br>Medel folkmängd=%{y}<extra></extra>",
         "legendgroup": "1.6",
         "line": {
          "color": "#FECB52",
          "dash": "solid"
         },
         "marker": {
          "symbol": "circle"
         },
         "mode": "lines",
         "name": "1.6",
         "orientation": "v",
         "showlegend": true,
         "type": "scatter",
         "x": [
          1982
         ],
         "xaxis": "x",
         "y": [
          8325000
         ],
         "yaxis": "y"
        },
        {
         "hovertemplate": "Total fertilitet=1.74<br>År=%{x}<br>Medel folkmängd=%{y}<extra></extra>",
         "legendgroup": "1.74",
         "line": {
          "color": "#636efa",
          "dash": "solid"
         },
         "marker": {
          "symbol": "circle"
         },
         "mode": "lines",
         "name": "1.74",
         "orientation": "v",
         "showlegend": true,
         "type": "scatter",
         "x": [
          1985,
          1995
         ],
         "xaxis": "x",
         "y": [
          8350000,
          8826938.5
         ],
         "yaxis": "y"
        },
        {
         "hovertemplate": "Total fertilitet=1.79<br>År=%{x}<br>Medel folkmängd=%{y}<extra></extra>",
         "legendgroup": "1.79",
         "line": {
          "color": "#EF553B",
          "dash": "solid"
         },
         "marker": {
          "symbol": "circle"
         },
         "mode": "lines",
         "name": "1.79",
         "orientation": "v",
         "showlegend": true,
         "type": "scatter",
         "x": [
          1986,
          2017
         ],
         "xaxis": "x",
         "y": [
          8370000,
          10057697.5
         ],
         "yaxis": "y"
        },
        {
         "hovertemplate": "Total fertilitet=2.02<br>År=%{x}<br>Medel folkmängd=%{y}<extra></extra>",
         "legendgroup": "2.02",
         "line": {
          "color": "#00cc96",
          "dash": "solid"
         },
         "marker": {
          "symbol": "circle"
         },
         "mode": "lines",
         "name": "2.02",
         "orientation": "v",
         "showlegend": true,
         "type": "scatter",
         "x": [
          1989
         ],
         "xaxis": "x",
         "y": [
          8492962
         ],
         "yaxis": "y"
        },
        {
         "hovertemplate": "Total fertilitet=2.14<br>År=%{x}<br>Medel folkmängd=%{y}<extra></extra>",
         "legendgroup": "2.14",
         "line": {
          "color": "#ab63fa",
          "dash": "solid"
         },
         "marker": {
          "symbol": "circle"
         },
         "mode": "lines",
         "name": "2.14",
         "orientation": "v",
         "showlegend": true,
         "type": "scatter",
         "x": [
          1990
         ],
         "xaxis": "x",
         "y": [
          8558833
         ],
         "yaxis": "y"
        },
        {
         "hovertemplate": "Total fertilitet=2.12<br>År=%{x}<br>Medel folkmängd=%{y}<extra></extra>",
         "legendgroup": "2.12",
         "line": {
          "color": "#FFA15A",
          "dash": "solid"
         },
         "marker": {
          "symbol": "circle"
         },
         "mode": "lines",
         "name": "2.12",
         "orientation": "v",
         "showlegend": true,
         "type": "scatter",
         "x": [
          1991
         ],
         "xaxis": "x",
         "y": [
          8617374.5
         ],
         "yaxis": "y"
        },
        {
         "hovertemplate": "Total fertilitet=2.09<br>År=%{x}<br>Medel folkmängd=%{y}<extra></extra>",
         "legendgroup": "2.09",
         "line": {
          "color": "#19d3f3",
          "dash": "solid"
         },
         "marker": {
          "symbol": "circle"
         },
         "mode": "lines",
         "name": "2.09",
         "orientation": "v",
         "showlegend": true,
         "type": "scatter",
         "x": [
          1992
         ],
         "xaxis": "x",
         "y": [
          8668066
         ],
         "yaxis": "y"
        },
        {
         "hovertemplate": "Total fertilitet=2.0<br>År=%{x}<br>Medel folkmängd=%{y}<extra></extra>",
         "legendgroup": "2.0",
         "line": {
          "color": "#FF6692",
          "dash": "solid"
         },
         "marker": {
          "symbol": "circle"
         },
         "mode": "lines",
         "name": "2.0",
         "orientation": "v",
         "showlegend": true,
         "type": "scatter",
         "x": [
          1993
         ],
         "xaxis": "x",
         "y": [
          8718561
         ],
         "yaxis": "y"
        },
        {
         "hovertemplate": "Total fertilitet=1.52<br>År=%{x}<br>Medel folkmängd=%{y}<extra></extra>",
         "legendgroup": "1.52",
         "line": {
          "color": "#B6E880",
          "dash": "solid"
         },
         "marker": {
          "symbol": "circle"
         },
         "mode": "lines",
         "name": "1.52",
         "orientation": "v",
         "showlegend": true,
         "type": "scatter",
         "x": [
          1997
         ],
         "xaxis": "x",
         "y": [
          8846062
         ],
         "yaxis": "y"
        },
        {
         "hovertemplate": "Total fertilitet=1.51<br>År=%{x}<br>Medel folkmängd=%{y}<extra></extra>",
         "legendgroup": "1.51",
         "line": {
          "color": "#FF97FF",
          "dash": "solid"
         },
         "marker": {
          "symbol": "circle"
         },
         "mode": "lines",
         "name": "1.51",
         "orientation": "v",
         "showlegend": true,
         "type": "scatter",
         "x": [
          1998
         ],
         "xaxis": "x",
         "y": [
          8850973.5
         ],
         "yaxis": "y"
        },
        {
         "hovertemplate": "Total fertilitet=1.5<br>År=%{x}<br>Medel folkmängd=%{y}<extra></extra>",
         "legendgroup": "1.5",
         "line": {
          "color": "#FECB52",
          "dash": "solid"
         },
         "marker": {
          "symbol": "circle"
         },
         "mode": "lines",
         "name": "1.5",
         "orientation": "v",
         "showlegend": true,
         "type": "scatter",
         "x": [
          1999
         ],
         "xaxis": "x",
         "y": [
          8857874
         ],
         "yaxis": "y"
        },
        {
         "hovertemplate": "Total fertilitet=1.54<br>År=%{x}<br>Medel folkmängd=%{y}<extra></extra>",
         "legendgroup": "1.54",
         "line": {
          "color": "#636efa",
          "dash": "solid"
         },
         "marker": {
          "symbol": "circle"
         },
         "mode": "lines",
         "name": "1.54",
         "orientation": "v",
         "showlegend": true,
         "type": "scatter",
         "x": [
          2000
         ],
         "xaxis": "x",
         "y": [
          8872109
         ],
         "yaxis": "y"
        },
        {
         "hovertemplate": "Total fertilitet=1.57<br>År=%{x}<br>Medel folkmängd=%{y}<extra></extra>",
         "legendgroup": "1.57",
         "line": {
          "color": "#EF553B",
          "dash": "solid"
         },
         "marker": {
          "symbol": "circle"
         },
         "mode": "lines",
         "name": "1.57",
         "orientation": "v",
         "showlegend": true,
         "type": "scatter",
         "x": [
          2001
         ],
         "xaxis": "x",
         "y": [
          8895960
         ],
         "yaxis": "y"
        },
        {
         "hovertemplate": "Total fertilitet=1.65<br>År=%{x}<br>Medel folkmängd=%{y}<extra></extra>",
         "legendgroup": "1.65",
         "line": {
          "color": "#00cc96",
          "dash": "solid"
         },
         "marker": {
          "symbol": "circle"
         },
         "mode": "lines",
         "name": "1.65",
         "orientation": "v",
         "showlegend": true,
         "type": "scatter",
         "x": [
          2002
         ],
         "xaxis": "x",
         "y": [
          8924958
         ],
         "yaxis": "y"
        },
        {
         "hovertemplate": "Total fertilitet=1.71<br>År=%{x}<br>Medel folkmängd=%{y}<extra></extra>",
         "legendgroup": "1.71",
         "line": {
          "color": "#ab63fa",
          "dash": "solid"
         },
         "marker": {
          "symbol": "circle"
         },
         "mode": "lines",
         "name": "1.71",
         "orientation": "v",
         "showlegend": true,
         "type": "scatter",
         "x": [
          2003
         ],
         "xaxis": "x",
         "y": [
          8958229
         ],
         "yaxis": "y"
        },
        {
         "hovertemplate": "Total fertilitet=1.85<br>År=%{x}<br>Medel folkmängd=%{y}<extra></extra>",
         "legendgroup": "1.85",
         "line": {
          "color": "#FFA15A",
          "dash": "solid"
         },
         "marker": {
          "symbol": "circle"
         },
         "mode": "lines",
         "name": "1.85",
         "orientation": "v",
         "showlegend": true,
         "type": "scatter",
         "x": [
          2006,
          2015,
          2016
         ],
         "xaxis": "x",
         "y": [
          9080504.5,
          9799186,
          9923085
         ],
         "yaxis": "y"
        },
        {
         "hovertemplate": "Total fertilitet=1.89<br>År=%{x}<br>Medel folkmängd=%{y}<extra></extra>",
         "legendgroup": "1.89",
         "line": {
          "color": "#19d3f3",
          "dash": "solid"
         },
         "marker": {
          "symbol": "circle"
         },
         "mode": "lines",
         "name": "1.89",
         "orientation": "v",
         "showlegend": true,
         "type": "scatter",
         "x": [
          2013
         ],
         "xaxis": "x",
         "y": [
          9600378.5
         ],
         "yaxis": "y"
        }
       ],
       "layout": {
        "hovermode": "x",
        "legend": {
         "title": {
          "text": "Total fertilitet"
         },
         "tracegroupgap": 0
        },
        "template": {
         "data": {
          "bar": [
           {
            "error_x": {
             "color": "#2a3f5f"
            },
            "error_y": {
             "color": "#2a3f5f"
            },
            "marker": {
             "line": {
              "color": "#E5ECF6",
              "width": 0.5
             },
             "pattern": {
              "fillmode": "overlay",
              "size": 10,
              "solidity": 0.2
             }
            },
            "type": "bar"
           }
          ],
          "barpolar": [
           {
            "marker": {
             "line": {
              "color": "#E5ECF6",
              "width": 0.5
             },
             "pattern": {
              "fillmode": "overlay",
              "size": 10,
              "solidity": 0.2
             }
            },
            "type": "barpolar"
           }
          ],
          "carpet": [
           {
            "aaxis": {
             "endlinecolor": "#2a3f5f",
             "gridcolor": "white",
             "linecolor": "white",
             "minorgridcolor": "white",
             "startlinecolor": "#2a3f5f"
            },
            "baxis": {
             "endlinecolor": "#2a3f5f",
             "gridcolor": "white",
             "linecolor": "white",
             "minorgridcolor": "white",
             "startlinecolor": "#2a3f5f"
            },
            "type": "carpet"
           }
          ],
          "choropleth": [
           {
            "colorbar": {
             "outlinewidth": 0,
             "ticks": ""
            },
            "type": "choropleth"
           }
          ],
          "contour": [
           {
            "colorbar": {
             "outlinewidth": 0,
             "ticks": ""
            },
            "colorscale": [
             [
              0,
              "#0d0887"
             ],
             [
              0.1111111111111111,
              "#46039f"
             ],
             [
              0.2222222222222222,
              "#7201a8"
             ],
             [
              0.3333333333333333,
              "#9c179e"
             ],
             [
              0.4444444444444444,
              "#bd3786"
             ],
             [
              0.5555555555555556,
              "#d8576b"
             ],
             [
              0.6666666666666666,
              "#ed7953"
             ],
             [
              0.7777777777777778,
              "#fb9f3a"
             ],
             [
              0.8888888888888888,
              "#fdca26"
             ],
             [
              1,
              "#f0f921"
             ]
            ],
            "type": "contour"
           }
          ],
          "contourcarpet": [
           {
            "colorbar": {
             "outlinewidth": 0,
             "ticks": ""
            },
            "type": "contourcarpet"
           }
          ],
          "heatmap": [
           {
            "colorbar": {
             "outlinewidth": 0,
             "ticks": ""
            },
            "colorscale": [
             [
              0,
              "#0d0887"
             ],
             [
              0.1111111111111111,
              "#46039f"
             ],
             [
              0.2222222222222222,
              "#7201a8"
             ],
             [
              0.3333333333333333,
              "#9c179e"
             ],
             [
              0.4444444444444444,
              "#bd3786"
             ],
             [
              0.5555555555555556,
              "#d8576b"
             ],
             [
              0.6666666666666666,
              "#ed7953"
             ],
             [
              0.7777777777777778,
              "#fb9f3a"
             ],
             [
              0.8888888888888888,
              "#fdca26"
             ],
             [
              1,
              "#f0f921"
             ]
            ],
            "type": "heatmap"
           }
          ],
          "heatmapgl": [
           {
            "colorbar": {
             "outlinewidth": 0,
             "ticks": ""
            },
            "colorscale": [
             [
              0,
              "#0d0887"
             ],
             [
              0.1111111111111111,
              "#46039f"
             ],
             [
              0.2222222222222222,
              "#7201a8"
             ],
             [
              0.3333333333333333,
              "#9c179e"
             ],
             [
              0.4444444444444444,
              "#bd3786"
             ],
             [
              0.5555555555555556,
              "#d8576b"
             ],
             [
              0.6666666666666666,
              "#ed7953"
             ],
             [
              0.7777777777777778,
              "#fb9f3a"
             ],
             [
              0.8888888888888888,
              "#fdca26"
             ],
             [
              1,
              "#f0f921"
             ]
            ],
            "type": "heatmapgl"
           }
          ],
          "histogram": [
           {
            "marker": {
             "pattern": {
              "fillmode": "overlay",
              "size": 10,
              "solidity": 0.2
             }
            },
            "type": "histogram"
           }
          ],
          "histogram2d": [
           {
            "colorbar": {
             "outlinewidth": 0,
             "ticks": ""
            },
            "colorscale": [
             [
              0,
              "#0d0887"
             ],
             [
              0.1111111111111111,
              "#46039f"
             ],
             [
              0.2222222222222222,
              "#7201a8"
             ],
             [
              0.3333333333333333,
              "#9c179e"
             ],
             [
              0.4444444444444444,
              "#bd3786"
             ],
             [
              0.5555555555555556,
              "#d8576b"
             ],
             [
              0.6666666666666666,
              "#ed7953"
             ],
             [
              0.7777777777777778,
              "#fb9f3a"
             ],
             [
              0.8888888888888888,
              "#fdca26"
             ],
             [
              1,
              "#f0f921"
             ]
            ],
            "type": "histogram2d"
           }
          ],
          "histogram2dcontour": [
           {
            "colorbar": {
             "outlinewidth": 0,
             "ticks": ""
            },
            "colorscale": [
             [
              0,
              "#0d0887"
             ],
             [
              0.1111111111111111,
              "#46039f"
             ],
             [
              0.2222222222222222,
              "#7201a8"
             ],
             [
              0.3333333333333333,
              "#9c179e"
             ],
             [
              0.4444444444444444,
              "#bd3786"
             ],
             [
              0.5555555555555556,
              "#d8576b"
             ],
             [
              0.6666666666666666,
              "#ed7953"
             ],
             [
              0.7777777777777778,
              "#fb9f3a"
             ],
             [
              0.8888888888888888,
              "#fdca26"
             ],
             [
              1,
              "#f0f921"
             ]
            ],
            "type": "histogram2dcontour"
           }
          ],
          "mesh3d": [
           {
            "colorbar": {
             "outlinewidth": 0,
             "ticks": ""
            },
            "type": "mesh3d"
           }
          ],
          "parcoords": [
           {
            "line": {
             "colorbar": {
              "outlinewidth": 0,
              "ticks": ""
             }
            },
            "type": "parcoords"
           }
          ],
          "pie": [
           {
            "automargin": true,
            "type": "pie"
           }
          ],
          "scatter": [
           {
            "fillpattern": {
             "fillmode": "overlay",
             "size": 10,
             "solidity": 0.2
            },
            "type": "scatter"
           }
          ],
          "scatter3d": [
           {
            "line": {
             "colorbar": {
              "outlinewidth": 0,
              "ticks": ""
             }
            },
            "marker": {
             "colorbar": {
              "outlinewidth": 0,
              "ticks": ""
             }
            },
            "type": "scatter3d"
           }
          ],
          "scattercarpet": [
           {
            "marker": {
             "colorbar": {
              "outlinewidth": 0,
              "ticks": ""
             }
            },
            "type": "scattercarpet"
           }
          ],
          "scattergeo": [
           {
            "marker": {
             "colorbar": {
              "outlinewidth": 0,
              "ticks": ""
             }
            },
            "type": "scattergeo"
           }
          ],
          "scattergl": [
           {
            "marker": {
             "colorbar": {
              "outlinewidth": 0,
              "ticks": ""
             }
            },
            "type": "scattergl"
           }
          ],
          "scattermapbox": [
           {
            "marker": {
             "colorbar": {
              "outlinewidth": 0,
              "ticks": ""
             }
            },
            "type": "scattermapbox"
           }
          ],
          "scatterpolar": [
           {
            "marker": {
             "colorbar": {
              "outlinewidth": 0,
              "ticks": ""
             }
            },
            "type": "scatterpolar"
           }
          ],
          "scatterpolargl": [
           {
            "marker": {
             "colorbar": {
              "outlinewidth": 0,
              "ticks": ""
             }
            },
            "type": "scatterpolargl"
           }
          ],
          "scatterternary": [
           {
            "marker": {
             "colorbar": {
              "outlinewidth": 0,
              "ticks": ""
             }
            },
            "type": "scatterternary"
           }
          ],
          "surface": [
           {
            "colorbar": {
             "outlinewidth": 0,
             "ticks": ""
            },
            "colorscale": [
             [
              0,
              "#0d0887"
             ],
             [
              0.1111111111111111,
              "#46039f"
             ],
             [
              0.2222222222222222,
              "#7201a8"
             ],
             [
              0.3333333333333333,
              "#9c179e"
             ],
             [
              0.4444444444444444,
              "#bd3786"
             ],
             [
              0.5555555555555556,
              "#d8576b"
             ],
             [
              0.6666666666666666,
              "#ed7953"
             ],
             [
              0.7777777777777778,
              "#fb9f3a"
             ],
             [
              0.8888888888888888,
              "#fdca26"
             ],
             [
              1,
              "#f0f921"
             ]
            ],
            "type": "surface"
           }
          ],
          "table": [
           {
            "cells": {
             "fill": {
              "color": "#EBF0F8"
             },
             "line": {
              "color": "white"
             }
            },
            "header": {
             "fill": {
              "color": "#C8D4E3"
             },
             "line": {
              "color": "white"
             }
            },
            "type": "table"
           }
          ]
         },
         "layout": {
          "annotationdefaults": {
           "arrowcolor": "#2a3f5f",
           "arrowhead": 0,
           "arrowwidth": 1
          },
          "autotypenumbers": "strict",
          "coloraxis": {
           "colorbar": {
            "outlinewidth": 0,
            "ticks": ""
           }
          },
          "colorscale": {
           "diverging": [
            [
             0,
             "#8e0152"
            ],
            [
             0.1,
             "#c51b7d"
            ],
            [
             0.2,
             "#de77ae"
            ],
            [
             0.3,
             "#f1b6da"
            ],
            [
             0.4,
             "#fde0ef"
            ],
            [
             0.5,
             "#f7f7f7"
            ],
            [
             0.6,
             "#e6f5d0"
            ],
            [
             0.7,
             "#b8e186"
            ],
            [
             0.8,
             "#7fbc41"
            ],
            [
             0.9,
             "#4d9221"
            ],
            [
             1,
             "#276419"
            ]
           ],
           "sequential": [
            [
             0,
             "#0d0887"
            ],
            [
             0.1111111111111111,
             "#46039f"
            ],
            [
             0.2222222222222222,
             "#7201a8"
            ],
            [
             0.3333333333333333,
             "#9c179e"
            ],
            [
             0.4444444444444444,
             "#bd3786"
            ],
            [
             0.5555555555555556,
             "#d8576b"
            ],
            [
             0.6666666666666666,
             "#ed7953"
            ],
            [
             0.7777777777777778,
             "#fb9f3a"
            ],
            [
             0.8888888888888888,
             "#fdca26"
            ],
            [
             1,
             "#f0f921"
            ]
           ],
           "sequentialminus": [
            [
             0,
             "#0d0887"
            ],
            [
             0.1111111111111111,
             "#46039f"
            ],
            [
             0.2222222222222222,
             "#7201a8"
            ],
            [
             0.3333333333333333,
             "#9c179e"
            ],
            [
             0.4444444444444444,
             "#bd3786"
            ],
            [
             0.5555555555555556,
             "#d8576b"
            ],
            [
             0.6666666666666666,
             "#ed7953"
            ],
            [
             0.7777777777777778,
             "#fb9f3a"
            ],
            [
             0.8888888888888888,
             "#fdca26"
            ],
            [
             1,
             "#f0f921"
            ]
           ]
          },
          "colorway": [
           "#636efa",
           "#EF553B",
           "#00cc96",
           "#ab63fa",
           "#FFA15A",
           "#19d3f3",
           "#FF6692",
           "#B6E880",
           "#FF97FF",
           "#FECB52"
          ],
          "font": {
           "color": "#2a3f5f"
          },
          "geo": {
           "bgcolor": "white",
           "lakecolor": "white",
           "landcolor": "#E5ECF6",
           "showlakes": true,
           "showland": true,
           "subunitcolor": "white"
          },
          "hoverlabel": {
           "align": "left"
          },
          "hovermode": "closest",
          "mapbox": {
           "style": "light"
          },
          "paper_bgcolor": "white",
          "plot_bgcolor": "#E5ECF6",
          "polar": {
           "angularaxis": {
            "gridcolor": "white",
            "linecolor": "white",
            "ticks": ""
           },
           "bgcolor": "#E5ECF6",
           "radialaxis": {
            "gridcolor": "white",
            "linecolor": "white",
            "ticks": ""
           }
          },
          "scene": {
           "xaxis": {
            "backgroundcolor": "#E5ECF6",
            "gridcolor": "white",
            "gridwidth": 2,
            "linecolor": "white",
            "showbackground": true,
            "ticks": "",
            "zerolinecolor": "white"
           },
           "yaxis": {
            "backgroundcolor": "#E5ECF6",
            "gridcolor": "white",
            "gridwidth": 2,
            "linecolor": "white",
            "showbackground": true,
            "ticks": "",
            "zerolinecolor": "white"
           },
           "zaxis": {
            "backgroundcolor": "#E5ECF6",
            "gridcolor": "white",
            "gridwidth": 2,
            "linecolor": "white",
            "showbackground": true,
            "ticks": "",
            "zerolinecolor": "white"
           }
          },
          "shapedefaults": {
           "line": {
            "color": "#2a3f5f"
           }
          },
          "ternary": {
           "aaxis": {
            "gridcolor": "white",
            "linecolor": "white",
            "ticks": ""
           },
           "baxis": {
            "gridcolor": "white",
            "linecolor": "white",
            "ticks": ""
           },
           "bgcolor": "#E5ECF6",
           "caxis": {
            "gridcolor": "white",
            "linecolor": "white",
            "ticks": ""
           }
          },
          "title": {
           "x": 0.05
          },
          "xaxis": {
           "automargin": true,
           "gridcolor": "white",
           "linecolor": "white",
           "ticks": "",
           "title": {
            "standoff": 15
           },
           "zerolinecolor": "white",
           "zerolinewidth": 2
          },
          "yaxis": {
           "automargin": true,
           "gridcolor": "white",
           "linecolor": "white",
           "ticks": "",
           "title": {
            "standoff": 15
           },
           "zerolinecolor": "white",
           "zerolinewidth": 2
          }
         }
        },
        "title": {
         "text": "Medel folkmängd per år"
        },
        "xaxis": {
         "anchor": "y",
         "domain": [
          0,
          1
         ],
         "showspikes": true,
         "spikecolor": "white",
         "spikedash": "solid",
         "spikemode": "across",
         "spikesnap": "cursor",
         "title": {
          "text": "År"
         }
        },
        "yaxis": {
         "anchor": "x",
         "domain": [
          0,
          1
         ],
         "title": {
          "text": "Medel folkmängd"
         }
        }
       }
      }
     },
     "metadata": {},
     "output_type": "display_data"
    }
   ],
   "source": [
    "import plotly_express as px\n",
    "test = swe_demo[\"Medel folkmängd\"]\n",
    "\n",
    "fig = px.line(\n",
    "    swe_demo,\n",
    "    x=\"År\",\n",
    "    y=\"Medel folkmängd\",\n",
    "    color=\"Total fertilitet\",\n",
    "    title=\"Medel folkmängd per år\",\n",
    "    labels=dict(test=\"Medel\", år=\"År\"),\n",
    ")\n",
    "fig.update_layout(hovermode=\"x\") # Try \"y\" for good times\n",
    "fig.update_xaxes(\n",
    "    showspikes=True, spikedash=\"solid\", spikecolor=\"white\", spikemode=\"across\", spikesnap =\"cursor\"\n",
    ")\n",
    "fig.show()"
   ]
  },
  {
   "cell_type": "markdown",
   "metadata": {},
   "source": [
    "&nbsp; c) Now we want to go backwards in time (before 1900) to see how population has changed in Sweden. Read in the table under history and keep the data of \"Folkmängd\" from 1570-1865. \n",
    "\n",
    "| År   | Folkmängd |\n",
    "| ---- | --------- | \n",
    "| 1570 | 900000    |     \n",
    "| 1650 | 1225000   |\n",
    "| 1700 | 1485000   |\n",
    "| 1720 | 1350000   |\n",
    "| 1755 | 1878000   |\n",
    "| 1815 | 2465000   |\n",
    "| 1865 | 4099000   |"
   ]
  },
  {
   "cell_type": "code",
   "execution_count": 359,
   "metadata": {},
   "outputs": [
    {
     "name": "stderr",
     "output_type": "stream",
     "text": [
      "C:\\Users\\Agam\\AppData\\Local\\Temp\\ipykernel_16652\\1771762813.py:14: SettingWithCopyWarning:\n",
      "\n",
      "\n",
      "A value is trying to be set on a copy of a slice from a DataFrame\n",
      "\n",
      "See the caveats in the documentation: https://pandas.pydata.org/pandas-docs/stable/user_guide/indexing.html#returning-a-view-versus-a-copy\n",
      "\n"
     ]
    },
    {
     "data": {
      "text/plain": [
       "'900000'"
      ]
     },
     "execution_count": 359,
     "metadata": {},
     "output_type": "execute_result"
    }
   ],
   "source": [
    "\n",
    "swe_old = pd.read_html(\"https://sv.wikipedia.org/wiki/Sveriges_demografi\", thousands= \" \", match = \"Vid utgången av år\", header = 1, skiprows=[9, 10, 11, 12])[0]\n",
    "swe_old.pop(\"Totalt\")\n",
    "swe_old.pop(\"Promille\")\n",
    "\n",
    "swe_old.rename(columns={\"Vid utgången av år\": \"År\"}, inplace= True)\n",
    "\n",
    "#swe_old[\"Folkmängd\"].astype(float)\n",
    "len(swe_old)\n",
    "#swe_old.drop([\"1900\", \"2000\", \"2020\", \"Datan avser folkmängden inom Sveriges nuvarande gränser.\"], inplace=True)\n",
    "#swe_old.drop([7, 8, 9, 10], inplace=True) # Used skip rows instead when we read in data for same result\n",
    "\n",
    "\n",
    "#swe_old.set_index(\"År\", inplace=True)\n",
    "swe_old[\"Folkmängd\"][0] = swe_old[\"Folkmängd\"][0].replace(u'\\xa0', u'') # This is horrid... This is absolute trash, and I hate it.\n",
    "swe_old[\"Folkmängd\"][0]"
   ]
  },
  {
   "cell_type": "markdown",
   "metadata": {},
   "source": [
    "&nbsp; d) Now concatenate this with the table from 1900 so that you have population data from 1570 to 2020. Note that you may need to clean the data in order for it to fit properly. Also you may be able to do this in several ways. "
   ]
  },
  {
   "cell_type": "code",
   "execution_count": null,
   "metadata": {},
   "outputs": [],
   "source": []
  },
  {
   "cell_type": "markdown",
   "metadata": {},
   "source": [
    "\n",
    "&nbsp; e) Draw a graph of population data from 1570-2020."
   ]
  },
  {
   "cell_type": "code",
   "execution_count": null,
   "metadata": {},
   "outputs": [],
   "source": []
  },
  {
   "cell_type": "markdown",
   "metadata": {},
   "source": [
    "---\n",
    "## 2. Denmark demographic data (*)\n",
    "\n",
    "Go to the Danish-language wikipedia page [Danmarks demografi](https://da.wikipedia.org/wiki/Danmarks_demografi). \n",
    "\n",
    "&nbsp; a) Read in the table under \"Demografiske data\" into a DataFrame (*)\n",
    "\n",
    "&nbsp; b) Clean the data and draw a graph of population against year from 1769-2020. (**)\n"
   ]
  },
  {
   "cell_type": "markdown",
   "metadata": {},
   "source": [
    "---\n",
    "## 3. Norwegian demographic data (*)\n",
    "\n",
    "Go to Swedish-language wikipedia page [Norges demografi](https://sv.wikipedia.org/wiki/Norges_demografi). \n",
    "\n",
    "&nbsp; a) Read in the table under \"Befolkningsstatistik sedan 1900\" into a DataFrame\n",
    "\n",
    "&nbsp; b) You see some missing data in column \"Total fertilitet\". Go to the [English page](https://en.wikipedia.org/wiki/Demographics_of_Norway) and read in the data from \"Vital statistics since 1900\".  \n",
    "\n",
    "&nbsp; c) Pick out the fertility column from b) dataset, merge it into a) dataset and clean the data so that you only have columns \"År\", \"Folkmängd\", \"Fertilitet\". \n"
   ]
  },
  {
   "cell_type": "markdown",
   "metadata": {},
   "source": [
    "---\n",
    "## 4. Merge Sweden-Norway (*)\n",
    "\n",
    "Create a population graph and a fertility graph showing Sweden and Norway.\n",
    "\n",
    "<details>\n",
    "\n",
    "<summary>Answer</summary>\n",
    "\n",
    "![Fertilitet Norge och Sverige](../assets/fertilitet_sv_no.png)\n",
    "\n",
    "![Folkmängd Norge och Sverige](../assets/folkmangd_sverige_norge.png)\n",
    "\n",
    "</details>"
   ]
  },
  {
   "cell_type": "markdown",
   "metadata": {},
   "source": [
    "---\n",
    "\n",
    "Kokchun Giang\n",
    "\n",
    "[LinkedIn][linkedIn_kokchun]\n",
    "\n",
    "[GitHub portfolio][github_portfolio]\n",
    "\n",
    "[linkedIn_kokchun]: https://www.linkedin.com/in/kokchungiang/\n",
    "[github_portfolio]: https://github.com/kokchun/Portfolio-Kokchun-Giang\n",
    "\n",
    "---"
   ]
  }
 ],
 "metadata": {
  "kernelspec": {
   "display_name": "Python 3.9.13 ('Databehandling-Alexander-Andersson-jbYcviYV')",
   "language": "python",
   "name": "python3"
  },
  "language_info": {
   "codemirror_mode": {
    "name": "ipython",
    "version": 3
   },
   "file_extension": ".py",
   "mimetype": "text/x-python",
   "name": "python",
   "nbconvert_exporter": "python",
   "pygments_lexer": "ipython3",
   "version": "3.9.13"
  },
  "orig_nbformat": 4,
  "vscode": {
   "interpreter": {
    "hash": "bad45b5faf7660be7d58e690107ade78bf525b126a1896ef207e7c11bfbf012c"
   }
  }
 },
 "nbformat": 4,
 "nbformat_minor": 2
}
