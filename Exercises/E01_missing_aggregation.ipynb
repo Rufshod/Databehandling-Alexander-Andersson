{
 "cells": [
  {
   "cell_type": "markdown",
   "metadata": {},
   "source": [
    "\n",
    "<a href=\"https://colab.research.google.com/github/kokchun/Databehandling-AI22/blob/main/Exercises/E01_missing_aggregation.ipynb\" target=\"_parent\"><img align=\"left\" src=\"https://colab.research.google.com/assets/colab-badge.svg\" alt=\"Open In Colab\"/></a> &nbsp; to see hints and answers."
   ]
  },
  {
   "cell_type": "markdown",
   "metadata": {},
   "source": [
    "---\n",
    "# Missing data and aggregations exercises\n",
    "\n",
    "---\n",
    "These are introductory exercises in Pandas with focus in **syntax, indexing, data selection, missing data, aggregations, visualizations** and **data cleaning**.\n",
    "\n",
    "<p class = \"alert alert-info\" role=\"alert\"><b>Note</b> all datasets used in this exercise can be found under Data folder of the course Github repo</p>\n",
    "\n",
    "<p class = \"alert alert-info\" role=\"alert\"><b>Note</b> that there are usually many ways to achieve same results using operations in pandas. Feel free to investigate several ways. </p>\n",
    "\n",
    "<p class = \"alert alert-info\" role=\"alert\"><b>Note</b> that in cases when you start to repeat code, try not to. Create functions to reuse code instead. </p>\n",
    "\n",
    "<p class = \"alert alert-info\" role=\"alert\"><b>Remember</b> to use <b>descriptive variable, function, index </b> and <b> column names</b> in order to get readable code </p>\n",
    "\n",
    "<p class = \"alert alert-info\" role=\"alert\"><b>Remember</b> to format your input questions in a pedagogical way to guide the user\n",
    "\n",
    "The number of stars (\\*), (\\*\\*), (\\*\\*\\*) denotes the difficulty level of the task\n",
    "\n",
    "---"
   ]
  },
  {
   "cell_type": "markdown",
   "metadata": {},
   "source": [
    "\n",
    "&nbsp; f) Find all rows where the freetime **or** the age is NaN.  \n",
    "\n",
    "&nbsp; g) You will notice that some rows have several NaNs. Now compute the proportion that these rows constitute of the whole dataset.\n",
    "\n",
    "<details>\n",
    "<summary>Hint</summary>\n",
    "\n",
    "&nbsp; c) Use \n",
    "```py\n",
    "isnull()\n",
    "```\n",
    "in combination with aggregation functions such as \n",
    "```py\n",
    "sum()\n",
    "```\n",
    "\n",
    "Use seaborn to plot\n",
    "\n",
    "f) use bitwise or: | \n",
    "\n",
    "\n",
    "</details>\n",
    "\n",
    "<br/>\n",
    "\n",
    "<details>\n",
    "\n",
    "<summary>Answer</summary>\n",
    "\n",
    "d)\n",
    "\n",
    "![null values graph](../assets/null_vals_student.png)\n",
    "\n",
    "e) \n",
    "\n",
    "These row indices: \n",
    "[87, 99, 130, 149, 151, 160, 191, 257, 276, 293, 308, 330, 343, 359, 372, 385]\n",
    " \n",
    "f) \n",
    "\n",
    "These row indices:\n",
    "[20,  71,  87,  99, 102, 106, 121, 130, 149, 151, 160, 188, 191, 214, 257, 270, 276, 293, 308, 330, 343, 348, 359, 372, 385]\n",
    "\n",
    "g) \n",
    "\n",
    "These rows constitutes 0.0127 of the dataset\n",
    "\n",
    "h)\n",
    "\n",
    "![null values graph after cleaned once](../assets/null_vals_student_2.png)\n",
    "\n",
    "</details>"
   ]
  },
  {
   "cell_type": "code",
   "execution_count": 1,
   "metadata": {},
   "outputs": [],
   "source": [
    "import pandas as pd # importing pandas\n"
   ]
  },
  {
   "cell_type": "markdown",
   "metadata": {},
   "source": [
    "## 1. Find missing values (*)\n",
    "\n",
    "&nbsp; a) Read in the file \"student-mat-missing-data.csv\" into a Pandas DataFrame"
   ]
  },
  {
   "cell_type": "code",
   "execution_count": 2,
   "metadata": {},
   "outputs": [],
   "source": [
    "df = pd.read_csv(\"../Data/student-mat-missing-data.csv\")"
   ]
  },
  {
   "cell_type": "markdown",
   "metadata": {},
   "source": [
    "\n",
    "\n",
    "&nbsp; b) Do some initial explorations with the methods to get an understanding of the dataset:\n",
    "```py\n",
    "head(), info(), describe(), value_counts(), unique(), columns()"
   ]
  },
  {
   "cell_type": "code",
   "execution_count": 3,
   "metadata": {},
   "outputs": [],
   "source": [
    "#df.head() # 34 columns\n",
    "#df.columns() # does not work \"'Index' object is not callable\"\n",
    "#df.info() # 395 entries, Dtype are object(17), int64(11), float64(6)\n",
    "#df.isna().sum() == 0 # age, adress, famrel, freetime, goout, health absences all miss data.\n",
    "#df.value_counts() # 370 entries\n"
   ]
  },
  {
   "cell_type": "markdown",
   "metadata": {},
   "source": [
    "\n",
    "&nbsp; c) Create a function that takes in a DataFrame as input parameter and plots a barplot with the columns that have missing values. Put this function into a file called data_utils.py.\n",
    "When you come across more useful functions, you can store them in your data_utils module. "
   ]
  },
  {
   "cell_type": "code",
   "execution_count": 4,
   "metadata": {},
   "outputs": [],
   "source": [
    "import data_utils as du # shorten to du so I do not have to import \"from\" for every new function i add to data_utils"
   ]
  },
  {
   "cell_type": "markdown",
   "metadata": {},
   "source": [
    "\n",
    "\n",
    "&nbsp; d) Now import your function from the module data_utils and use it to visualize NaNs in your dataset.\n"
   ]
  },
  {
   "cell_type": "code",
   "execution_count": 5,
   "metadata": {},
   "outputs": [
    {
     "data": {
      "image/png": "[encoded data removed]",
      "text/plain": [
       "<Figure size 640x480 with 1 Axes>"
      ]
     },
     "metadata": {},
     "output_type": "display_data"
    }
   ],
   "source": [
    "du.nan_bar_plot(df)"
   ]
  },
  {
   "cell_type": "markdown",
   "metadata": {},
   "source": [
    "&nbsp; e) Find all rows where the freetime is NaN.   "
   ]
  },
  {
   "cell_type": "code",
   "execution_count": null,
   "metadata": {},
   "outputs": [],
   "source": []
  },
  {
   "cell_type": "markdown",
   "metadata": {},
   "source": [
    "---\n",
    "## 2. Clean the data (*)\n",
    "\n",
    "&nbsp; a) As you have conversed with a domain expert you both agree that there are too many missing data to fill in and the proportion is small enough to be safe to just remove.  \n",
    "Now remove these rows and use your missing-value utility function visualize the remaining NaNs.\n",
    "\n",
    "&nbsp; b) The domain expert has told you that you have to fill in the missing age values.\n",
    "Start with visualising the age distribution in the dataset using a histogram. \n",
    "\n",
    "&nbsp; c) Check which columns there are in the dataset to see what can be utilised in determining the age.\n",
    "\n",
    "&nbsp; d) The column higher seems interesting. Let's see which unique values it can have. \n",
    "\n",
    "&nbsp; e) Let's see if we can see some connection between age distribution and higher.\n",
    "Make 3 subplots of age histograms:\n",
    "- Plot 1: same as b)\n",
    "- Plot 2: age distribution when higher is yes \n",
    "- Plot 3: age distribution when higher is no  \n",
    "\n",
    "&nbsp; f) That was hard to find a connection. When reading [dataset source](https://www.kaggle.com/uciml/student-alcohol-consumption) we find alcohol consumption, maybe there is some connection between age and alcohol consumption.\n",
    "- Dalc - workday alcohol consumption (numeric: from 1 - very low to 5 - very high)\n",
    "- Walc - weekend alcohol consumption (numeric: from 1 - very low to 5 - very high)\n",
    "\n",
    "&nbsp; Start with creating a new column called Alcohol, which is a sum of Dalc and Walc columns\n",
    "\n",
    "&nbsp; g) Make a barchart for alcohol consumption vs age.\n",
    "\n",
    "&nbsp; h) We see that older students tend to drink more, but notice how few 20-22 year-old students we have in the dataset. We can definitely exclude them when computing the missing values. However there are also few 19 year-old students in the dataset, say for simplicity that we can exclude them as well. This leaves: \n",
    "- alcohol level >= 4 -> 16, 17 or 18 years old -> take median to simplify \n",
    "- alcohol level < 4 -> 15 years old\n",
    "\n",
    "Fill these in and visualize missing values. \n",
    "\n",
    "&nbsp; Note: could make more stringent by computing percentages based on the distribution\n",
    "\n",
    "\n",
    "<details>\n",
    "<summary>Answer</summary>\n",
    "\n",
    "a)\n",
    "\n",
    "![null values graph after cleaned once](../assets/null_vals_student_2.png)\n",
    "\n",
    "b)\n",
    "\n",
    "![Age distribution](../assets/age_distribution_student.png)\n",
    "\n",
    "c)\n",
    "\n",
    "```python\n",
    "\n",
    "Index(['Unnamed: 0', 'school', 'sex', 'age', 'address', 'famsize', 'Pstatus',\n",
    "       'Medu', 'Fedu', 'Mjob', 'Fjob', 'reason', 'guardian', 'traveltime',\n",
    "       'studytime', 'failures', 'schoolsup', 'famsup', 'paid', 'activities',\n",
    "       'nursery', 'higher', 'internet', 'romantic', 'famrel', 'freetime',\n",
    "       'goout', 'Dalc', 'Walc', 'health', 'absences', 'G1', 'G2', 'G3'],\n",
    "      dtype='object')\n",
    "```\n",
    "\n",
    "d)\n",
    "\n",
    "```python\n",
    "\n",
    "array(['yes', 'no'], dtype=object)\n",
    "\n",
    "```\n",
    "\n",
    "e)\n",
    "\n",
    "![Age distribution with higher](../assets/age_dist_higher.png)\n",
    "\n",
    "f) \n",
    "\n",
    "```python\n",
    "\n",
    "0      2\n",
    "1      2\n",
    "2      5\n",
    "3      2\n",
    "4      3\n",
    "      ..\n",
    "390    9\n",
    "391    7\n",
    "392    6\n",
    "393    7\n",
    "394    6\n",
    "Name: Alcohol, Length: 390, dtype: int64\n",
    "\n",
    "```\n",
    "\n",
    "g)\n",
    "\n",
    "![Age distribution vs alcohol](../assets/alcohol_age.png)\n",
    "\n",
    "</details>"
   ]
  },
  {
   "cell_type": "markdown",
   "metadata": {},
   "source": [
    "---\n",
    "## 3. Clean freetime column (**)\n",
    "\n",
    "Now there are missing data on freetime that needs to be filled. \n",
    "- Try yourself and find reasonable approaches for how you would fill those missing data.\n",
    "- Document what you have tried and different findings\n",
    "- Combine suitable visualizations with pandas methods"
   ]
  },
  {
   "cell_type": "markdown",
   "metadata": {},
   "source": [
    "---\n",
    "\n",
    "Kokchun Giang\n",
    "\n",
    "[LinkedIn][linkedIn_kokchun]\n",
    "\n",
    "[GitHub portfolio][github_portfolio]\n",
    "\n",
    "[linkedIn_kokchun]: https://www.linkedin.com/in/kokchungiang/\n",
    "[github_portfolio]: https://github.com/kokchun/Portfolio-Kokchun-Giang\n",
    "\n",
    "---"
   ]
  }
 ],
 "metadata": {
  "kernelspec": {
   "display_name": "Python 3.9.13 ('Databehandling-Alexander-Andersson-jbYcviYV')",
   "language": "python",
   "name": "python3"
  },
  "language_info": {
   "codemirror_mode": {
    "name": "ipython",
    "version": 3
   },
   "file_extension": ".py",
   "mimetype": "text/x-python",
   "name": "python",
   "nbconvert_exporter": "python",
   "pygments_lexer": "ipython3",
   "version": "3.9.13"
  },
  "orig_nbformat": 4,
  "vscode": {
   "interpreter": {
    "hash": "bad45b5faf7660be7d58e690107ade78bf525b126a1896ef207e7c11bfbf012c"
   }
  }
 },
 "nbformat": 4,
 "nbformat_minor": 2
}
