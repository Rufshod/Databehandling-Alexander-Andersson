{
 "cells": [
  {
   "cell_type": "markdown",
   "metadata": {},
   "source": [
    "# Importing necessary packages"
   ]
  },
  {
   "cell_type": "code",
   "execution_count": 38,
   "metadata": {},
   "outputs": [],
   "source": [
    "import pandas as pd  # For handling the data\n",
    "\n",
    "import seaborn as sns  # For plotting\n",
    "import matplotlib.pyplot as plt  # for subplots\n",
    "import plotly_express as px  # for interactiv plots\n",
    "\n",
    "# import warnings\n",
    "# warnings.filterwarnings(action=\"ignore\")\n",
    "\n",
    "import plotly.io as pio\n",
    "\n",
    "pio.templates.default = \"gridon\"  # Sets \"gridon\" as default for all Plotly graphs\n"
   ]
  },
  {
   "cell_type": "markdown",
   "metadata": {},
   "source": [
    "# Task 2\n",
    "Warm up Vaccine Data\n",
    "___"
   ]
  },
  {
   "cell_type": "code",
   "execution_count": 39,
   "metadata": {},
   "outputs": [],
   "source": [
    "# read in data:\n",
    "df_vaccine = pd.read_excel(\n",
    "    \"../Lab_Data/Vaccine.xlsx\", sheet_name=\"Vaccinerade kommun och ålder\"\n",
    ")\n"
   ]
  },
  {
   "cell_type": "code",
   "execution_count": 40,
   "metadata": {},
   "outputs": [
    {
     "data": {
      "text/plain": [
       "Län                       0\n",
       "Län_namn                  0\n",
       "Kommun                    0\n",
       "Kommun_namn               0\n",
       "Ålder                     0\n",
       "Befolkning                0\n",
       "Antal minst 1 dos         0\n",
       "Antal minst 2 doser       0\n",
       "Antal 3 doser           580\n",
       "Antal 4 doser          2030\n",
       "Andel minst 1 dos         0\n",
       "Andel minst 2 doser       0\n",
       "Andel 3 doser           580\n",
       "Andel 4 doser          2030\n",
       "dtype: int64"
      ]
     },
     "execution_count": 40,
     "metadata": {},
     "output_type": "execute_result"
    }
   ],
   "source": [
    "# Initial information gathering.\n",
    "\n",
    "# df_vaccine.info()  # Län_namn, Kommun_namn and Ålder are objects. rest are int or floats\n",
    "df_vaccine.isnull().sum()  # Ammount of nulls are: Antal 3 doser 580, Antal 4 doser 2030, Andel 3 doser 580, Andel 4 doser 2030\n"
   ]
  },
  {
   "cell_type": "code",
   "execution_count": 41,
   "metadata": {},
   "outputs": [],
   "source": [
    "df_vaccine.rename(\n",
    "    columns={\"Ålder\": \"Age group\"}, inplace=True\n",
    ")  # Renaming Ålder into Age group.\n",
    "df_vaccine.replace(\n",
    "    {\"90 eller äldre\": \"90 or older\"},\n",
    "    inplace=True,\n",
    ")\n"
   ]
  },
  {
   "cell_type": "markdown",
   "metadata": {},
   "source": [
    "a) How many regional Regional Councils are represented in the data set."
   ]
  },
  {
   "cell_type": "code",
   "execution_count": 42,
   "metadata": {},
   "outputs": [
    {
     "data": {
      "text/plain": [
       "21"
      ]
     },
     "execution_count": 42,
     "metadata": {},
     "output_type": "execute_result"
    }
   ],
   "source": [
    "len(df_vaccine[\"Län\"].drop_duplicates().value_counts())\n",
    "# answer = 21\n"
   ]
  },
  {
   "cell_type": "markdown",
   "metadata": {},
   "source": [
    "b) How many municipalitys are represented in the data set?"
   ]
  },
  {
   "cell_type": "code",
   "execution_count": 43,
   "metadata": {},
   "outputs": [
    {
     "data": {
      "text/plain": [
       "290"
      ]
     },
     "execution_count": 43,
     "metadata": {},
     "output_type": "execute_result"
    }
   ],
   "source": [
    "len(df_vaccine[\"Kommun\"].drop_duplicates().value_counts())\n",
    "# Answer is 290 Kommuner.\n"
   ]
  },
  {
   "cell_type": "markdown",
   "metadata": {},
   "source": [
    "c) How large is the population in the data set?"
   ]
  },
  {
   "cell_type": "code",
   "execution_count": 44,
   "metadata": {},
   "outputs": [
    {
     "name": "stdout",
     "output_type": "stream",
     "text": [
      "Population according to sheet = 9092790\n"
     ]
    }
   ],
   "source": [
    "sheet_population = df_vaccine[\"Befolkning\"].sum()\n",
    "# Answer is 9 092 790\n",
    "print(f\"Population according to sheet = {sheet_population}\")\n"
   ]
  },
  {
   "cell_type": "markdown",
   "metadata": {},
   "source": [
    "d) Calculate how many children that are under 18 years old in Sweden based on this data sheet."
   ]
  },
  {
   "cell_type": "code",
   "execution_count": 45,
   "metadata": {},
   "outputs": [
    {
     "name": "stdout",
     "output_type": "stream",
     "text": [
      "Amount of children under the age of 18 represented in sheet = 745370\n"
     ]
    }
   ],
   "source": [
    "# Håkan helped me with this code, my previous attempt was a for loop. Changed into this instead due to efficency.\n",
    "sheet_population_under_18 = df_vaccine[\n",
    "    (df_vaccine[\"Age group\"] == \"12-15\") | (df_vaccine[\"Age group\"] == \"16-17\")\n",
    "][\"Befolkning\"].sum()\n",
    "print(\n",
    "    f\"Amount of children under the age of 18 represented in sheet = {sheet_population_under_18}\"\n",
    ")\n"
   ]
  },
  {
   "cell_type": "markdown",
   "metadata": {},
   "source": [
    "d)2 Calculate how many children under the age of 18 when compared to actual data for population in sweden."
   ]
  },
  {
   "cell_type": "code",
   "execution_count": 54,
   "metadata": {},
   "outputs": [
    {
     "name": "stdout",
     "output_type": "stream",
     "text": [
      "Amount of children in age group 0-11: 1359536. Total population: 10452326\n"
     ]
    }
   ],
   "source": [
    "# Calculating how many children are below 12:\n",
    "swedish_population = 10452326  # Source: https://www.scb.se/hitta-statistik/sverige-i-siffror/manniskorna-i-sverige/sveriges-befolkning/\n",
    "age_0_11 = (\n",
    "    swedish_population - df_vaccine[\"Befolkning\"].sum()\n",
    ")  # Calculates value for how many children between 0-11\n",
    "print(\n",
    "    f\"Amount of children in age group 0-11: {age_0_11}. Total population: {sheet_population + age_0_11}\"\n",
    ")\n",
    "\n",
    "swedish_population_all = df_vaccine.append(\n",
    "    {\"Age group\": \"0-11\", \"Befolkning\": age_0_11}, ignore_index=True\n",
    ")\n",
    "# Creating a new variable with all agegroups\n",
    "swedish_population_all.sort_values(\n",
    "    by=\"Age group\", ascending=True, inplace=True\n",
    ")  # Sorts them so 0-11 is displayed first\n"
   ]
  },
  {
   "cell_type": "code",
   "execution_count": 56,
   "metadata": {},
   "outputs": [
    {
     "name": "stdout",
     "output_type": "stream",
     "text": [
      "Real amount of children under the age of 18 = 2104906\n"
     ]
    }
   ],
   "source": [
    "swedish_population_under_18 = swedish_population_all[\n",
    "    (swedish_population_all[\"Age group\"] == \"0-11\")\n",
    "    | (swedish_population_all[\"Age group\"] == \"12-15\")\n",
    "    | (swedish_population_all[\"Age group\"] == \"16-17\")\n",
    "][\"Befolkning\"].sum()\n",
    "print(f\"Real amount of children under the age of 18 = {swedish_population_under_18}\")\n"
   ]
  }
 ],
 "metadata": {
  "kernelspec": {
   "display_name": "Python 3.9.13 ('Databehandling-Alexander-Andersson-jbYcviYV')",
   "language": "python",
   "name": "python3"
  },
  "language_info": {
   "codemirror_mode": {
    "name": "ipython",
    "version": 3
   },
   "file_extension": ".py",
   "mimetype": "text/x-python",
   "name": "python",
   "nbconvert_exporter": "python",
   "pygments_lexer": "ipython3",
   "version": "3.9.13"
  },
  "orig_nbformat": 4,
  "vscode": {
   "interpreter": {
    "hash": "bad45b5faf7660be7d58e690107ade78bf525b126a1896ef207e7c11bfbf012c"
   }
  }
 },
 "nbformat": 4,
 "nbformat_minor": 2
}
