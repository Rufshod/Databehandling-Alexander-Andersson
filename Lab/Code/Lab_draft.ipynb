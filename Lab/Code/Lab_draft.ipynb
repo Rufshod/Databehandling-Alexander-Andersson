{
 "cells": [
  {
   "cell_type": "markdown",
   "metadata": {},
   "source": [
    "# Importing necessary packages"
   ]
  },
  {
   "cell_type": "code",
   "execution_count": 27,
   "metadata": {},
   "outputs": [],
   "source": [
    "import pandas as pd # For handling the data\n",
    "\n",
    "import seaborn as sns # For plotting\n",
    "import matplotlib.pyplot as plt \n",
    "import plotly_express as px \n",
    "\n",
    "import numpy as np"
   ]
  },
  {
   "cell_type": "markdown",
   "metadata": {},
   "source": [
    "# reading in the file\n"
   ]
  },
  {
   "cell_type": "code",
   "execution_count": 28,
   "metadata": {},
   "outputs": [],
   "source": [
    "df = pd.read_excel(\"../Lab_Data/Covid19.xlsx\", sheet_name=\"Veckodata Riket\") # Using pandas read_excel function to read the data in excel\n"
   ]
  },
  {
   "cell_type": "markdown",
   "metadata": {},
   "source": [
    "## Initial Data Analisys"
   ]
  },
  {
   "cell_type": "code",
   "execution_count": 29,
   "metadata": {},
   "outputs": [
    {
     "data": {
      "text/html": [
       "<div>\n",
       "<style scoped>\n",
       "    .dataframe tbody tr th:only-of-type {\n",
       "        vertical-align: middle;\n",
       "    }\n",
       "\n",
       "    .dataframe tbody tr th {\n",
       "        vertical-align: top;\n",
       "    }\n",
       "\n",
       "    .dataframe thead th {\n",
       "        text-align: right;\n",
       "    }\n",
       "</style>\n",
       "<table border=\"1\" class=\"dataframe\">\n",
       "  <thead>\n",
       "    <tr style=\"text-align: right;\">\n",
       "      <th></th>\n",
       "      <th>år</th>\n",
       "      <th>veckonummer</th>\n",
       "      <th>Antal_fall_vecka</th>\n",
       "      <th>Antal_fall_100000inv_vecka</th>\n",
       "      <th>Antal_fall_100000inv_14dagar</th>\n",
       "      <th>Kum_antal_fall</th>\n",
       "      <th>Kum_fall_100000inv</th>\n",
       "      <th>Antal_nyaintensivvårdade_vecka</th>\n",
       "      <th>Kum_antal_intensivvårdade</th>\n",
       "      <th>Antal_avlidna_vecka</th>\n",
       "      <th>Antal_avlidna_milj_inv_vecka</th>\n",
       "      <th>Kum_antal_avlidna</th>\n",
       "      <th>Kum_antal_avlidna_milj_inv</th>\n",
       "    </tr>\n",
       "  </thead>\n",
       "  <tbody>\n",
       "    <tr>\n",
       "      <th>0</th>\n",
       "      <td>2020</td>\n",
       "      <td>6</td>\n",
       "      <td>1</td>\n",
       "      <td>0</td>\n",
       "      <td>0</td>\n",
       "      <td>1</td>\n",
       "      <td>0</td>\n",
       "      <td>0</td>\n",
       "      <td>0</td>\n",
       "      <td>0</td>\n",
       "      <td>0.0</td>\n",
       "      <td>0</td>\n",
       "      <td>0.0</td>\n",
       "    </tr>\n",
       "    <tr>\n",
       "      <th>1</th>\n",
       "      <td>2020</td>\n",
       "      <td>7</td>\n",
       "      <td>0</td>\n",
       "      <td>0</td>\n",
       "      <td>0</td>\n",
       "      <td>1</td>\n",
       "      <td>0</td>\n",
       "      <td>0</td>\n",
       "      <td>0</td>\n",
       "      <td>0</td>\n",
       "      <td>0.0</td>\n",
       "      <td>0</td>\n",
       "      <td>0.0</td>\n",
       "    </tr>\n",
       "    <tr>\n",
       "      <th>2</th>\n",
       "      <td>2020</td>\n",
       "      <td>8</td>\n",
       "      <td>0</td>\n",
       "      <td>0</td>\n",
       "      <td>0</td>\n",
       "      <td>1</td>\n",
       "      <td>0</td>\n",
       "      <td>0</td>\n",
       "      <td>0</td>\n",
       "      <td>0</td>\n",
       "      <td>0.0</td>\n",
       "      <td>0</td>\n",
       "      <td>0.0</td>\n",
       "    </tr>\n",
       "  </tbody>\n",
       "</table>\n",
       "</div>"
      ],
      "text/plain": [
       "     år  veckonummer  Antal_fall_vecka  Antal_fall_100000inv_vecka  \\\n",
       "0  2020            6                 1                           0   \n",
       "1  2020            7                 0                           0   \n",
       "2  2020            8                 0                           0   \n",
       "\n",
       "   Antal_fall_100000inv_14dagar  Kum_antal_fall  Kum_fall_100000inv  \\\n",
       "0                             0               1                   0   \n",
       "1                             0               1                   0   \n",
       "2                             0               1                   0   \n",
       "\n",
       "   Antal_nyaintensivvårdade_vecka  Kum_antal_intensivvårdade  \\\n",
       "0                               0                          0   \n",
       "1                               0                          0   \n",
       "2                               0                          0   \n",
       "\n",
       "   Antal_avlidna_vecka  Antal_avlidna_milj_inv_vecka  Kum_antal_avlidna  \\\n",
       "0                    0                           0.0                  0   \n",
       "1                    0                           0.0                  0   \n",
       "2                    0                           0.0                  0   \n",
       "\n",
       "   Kum_antal_avlidna_milj_inv  \n",
       "0                         0.0  \n",
       "1                         0.0  \n",
       "2                         0.0  "
      ]
     },
     "execution_count": 29,
     "metadata": {},
     "output_type": "execute_result"
    }
   ],
   "source": [
    "df.head(3) #  To get the 3 first just to see what the column names are and a bit of info och what the data looks like"
   ]
  },
  {
   "cell_type": "code",
   "execution_count": 30,
   "metadata": {},
   "outputs": [
    {
     "name": "stdout",
     "output_type": "stream",
     "text": [
      "<class 'pandas.core.frame.DataFrame'>\n",
      "RangeIndex: 142 entries, 0 to 141\n",
      "Data columns (total 13 columns):\n",
      " #   Column                          Non-Null Count  Dtype  \n",
      "---  ------                          --------------  -----  \n",
      " 0   år                              142 non-null    int64  \n",
      " 1   veckonummer                     142 non-null    int64  \n",
      " 2   Antal_fall_vecka                142 non-null    int64  \n",
      " 3   Antal_fall_100000inv_vecka      142 non-null    int64  \n",
      " 4   Antal_fall_100000inv_14dagar    142 non-null    int64  \n",
      " 5   Kum_antal_fall                  142 non-null    int64  \n",
      " 6   Kum_fall_100000inv              142 non-null    int64  \n",
      " 7   Antal_nyaintensivvårdade_vecka  142 non-null    int64  \n",
      " 8   Kum_antal_intensivvårdade       142 non-null    int64  \n",
      " 9   Antal_avlidna_vecka             142 non-null    int64  \n",
      " 10  Antal_avlidna_milj_inv_vecka    142 non-null    float64\n",
      " 11  Kum_antal_avlidna               142 non-null    int64  \n",
      " 12  Kum_antal_avlidna_milj_inv      142 non-null    float64\n",
      "dtypes: float64(2), int64(11)\n",
      "memory usage: 14.5 KB\n"
     ]
    }
   ],
   "source": [
    "df.info() # Get relevant data och how many entries are null and what Data type they are\n",
    "# No nulls, No objects in data types."
   ]
  },
  {
   "cell_type": "code",
   "execution_count": 31,
   "metadata": {},
   "outputs": [
    {
     "data": {
      "text/html": [
       "<div>\n",
       "<style scoped>\n",
       "    .dataframe tbody tr th:only-of-type {\n",
       "        vertical-align: middle;\n",
       "    }\n",
       "\n",
       "    .dataframe tbody tr th {\n",
       "        vertical-align: top;\n",
       "    }\n",
       "\n",
       "    .dataframe thead th {\n",
       "        text-align: right;\n",
       "    }\n",
       "</style>\n",
       "<table border=\"1\" class=\"dataframe\">\n",
       "  <thead>\n",
       "    <tr style=\"text-align: right;\">\n",
       "      <th></th>\n",
       "      <th>år</th>\n",
       "      <th>veckonummer</th>\n",
       "      <th>Antal_fall_vecka</th>\n",
       "      <th>Antal_fall_100000inv_vecka</th>\n",
       "      <th>Antal_fall_100000inv_14dagar</th>\n",
       "      <th>Kum_antal_fall</th>\n",
       "      <th>Kum_fall_100000inv</th>\n",
       "      <th>Antal_nyaintensivvårdade_vecka</th>\n",
       "      <th>Kum_antal_intensivvårdade</th>\n",
       "      <th>Antal_avlidna_vecka</th>\n",
       "      <th>Antal_avlidna_milj_inv_vecka</th>\n",
       "      <th>Kum_antal_avlidna</th>\n",
       "      <th>Kum_antal_avlidna_milj_inv</th>\n",
       "    </tr>\n",
       "  </thead>\n",
       "  <tbody>\n",
       "    <tr>\n",
       "      <th>count</th>\n",
       "      <td>142.000000</td>\n",
       "      <td>142.000000</td>\n",
       "      <td>142.000000</td>\n",
       "      <td>142.000000</td>\n",
       "      <td>142.000000</td>\n",
       "      <td>1.420000e+02</td>\n",
       "      <td>142.000000</td>\n",
       "      <td>142.000000</td>\n",
       "      <td>142.000000</td>\n",
       "      <td>142.000000</td>\n",
       "      <td>142.000000</td>\n",
       "      <td>142.000000</td>\n",
       "      <td>142.000000</td>\n",
       "    </tr>\n",
       "    <tr>\n",
       "      <th>mean</th>\n",
       "      <td>2020.957746</td>\n",
       "      <td>26.035211</td>\n",
       "      <td>18378.345070</td>\n",
       "      <td>177.197183</td>\n",
       "      <td>354.169014</td>\n",
       "      <td>1.125288e+06</td>\n",
       "      <td>10843.281690</td>\n",
       "      <td>67.176056</td>\n",
       "      <td>6000.464789</td>\n",
       "      <td>144.936620</td>\n",
       "      <td>14.000000</td>\n",
       "      <td>12321.154930</td>\n",
       "      <td>1187.840841</td>\n",
       "    </tr>\n",
       "    <tr>\n",
       "      <th>std</th>\n",
       "      <td>0.797809</td>\n",
       "      <td>14.228835</td>\n",
       "      <td>38569.455753</td>\n",
       "      <td>371.689114</td>\n",
       "      <td>725.677174</td>\n",
       "      <td>9.618084e+05</td>\n",
       "      <td>9265.100705</td>\n",
       "      <td>73.435000</td>\n",
       "      <td>3076.853993</td>\n",
       "      <td>173.659331</td>\n",
       "      <td>16.796551</td>\n",
       "      <td>6103.235009</td>\n",
       "      <td>587.255605</td>\n",
       "    </tr>\n",
       "    <tr>\n",
       "      <th>min</th>\n",
       "      <td>2020.000000</td>\n",
       "      <td>1.000000</td>\n",
       "      <td>0.000000</td>\n",
       "      <td>0.000000</td>\n",
       "      <td>0.000000</td>\n",
       "      <td>1.000000e+00</td>\n",
       "      <td>0.000000</td>\n",
       "      <td>0.000000</td>\n",
       "      <td>0.000000</td>\n",
       "      <td>0.000000</td>\n",
       "      <td>0.000000</td>\n",
       "      <td>0.000000</td>\n",
       "      <td>0.000000</td>\n",
       "    </tr>\n",
       "    <tr>\n",
       "      <th>25%</th>\n",
       "      <td>2020.000000</td>\n",
       "      <td>14.000000</td>\n",
       "      <td>3075.000000</td>\n",
       "      <td>30.000000</td>\n",
       "      <td>59.750000</td>\n",
       "      <td>1.014860e+05</td>\n",
       "      <td>982.500000</td>\n",
       "      <td>14.000000</td>\n",
       "      <td>2643.750000</td>\n",
       "      <td>25.250000</td>\n",
       "      <td>2.425000</td>\n",
       "      <td>5880.000000</td>\n",
       "      <td>569.375000</td>\n",
       "    </tr>\n",
       "    <tr>\n",
       "      <th>50%</th>\n",
       "      <td>2021.000000</td>\n",
       "      <td>26.000000</td>\n",
       "      <td>5531.000000</td>\n",
       "      <td>53.000000</td>\n",
       "      <td>107.500000</td>\n",
       "      <td>1.085848e+06</td>\n",
       "      <td>10461.500000</td>\n",
       "      <td>27.500000</td>\n",
       "      <td>7559.500000</td>\n",
       "      <td>77.500000</td>\n",
       "      <td>7.450000</td>\n",
       "      <td>14610.500000</td>\n",
       "      <td>1407.650024</td>\n",
       "    </tr>\n",
       "    <tr>\n",
       "      <th>75%</th>\n",
       "      <td>2022.000000</td>\n",
       "      <td>37.750000</td>\n",
       "      <td>21125.000000</td>\n",
       "      <td>203.500000</td>\n",
       "      <td>421.250000</td>\n",
       "      <td>2.423603e+06</td>\n",
       "      <td>23350.500000</td>\n",
       "      <td>109.000000</td>\n",
       "      <td>8863.250000</td>\n",
       "      <td>185.500000</td>\n",
       "      <td>17.950000</td>\n",
       "      <td>17177.750000</td>\n",
       "      <td>1654.999969</td>\n",
       "    </tr>\n",
       "    <tr>\n",
       "      <th>max</th>\n",
       "      <td>2022.000000</td>\n",
       "      <td>53.000000</td>\n",
       "      <td>265043.000000</td>\n",
       "      <td>2554.000000</td>\n",
       "      <td>5024.000000</td>\n",
       "      <td>2.609725e+06</td>\n",
       "      <td>25144.000000</td>\n",
       "      <td>289.000000</td>\n",
       "      <td>9539.000000</td>\n",
       "      <td>664.000000</td>\n",
       "      <td>64.300003</td>\n",
       "      <td>20581.000000</td>\n",
       "      <td>1982.900024</td>\n",
       "    </tr>\n",
       "  </tbody>\n",
       "</table>\n",
       "</div>"
      ],
      "text/plain": [
       "                år  veckonummer  Antal_fall_vecka  Antal_fall_100000inv_vecka  \\\n",
       "count   142.000000   142.000000        142.000000                  142.000000   \n",
       "mean   2020.957746    26.035211      18378.345070                  177.197183   \n",
       "std       0.797809    14.228835      38569.455753                  371.689114   \n",
       "min    2020.000000     1.000000          0.000000                    0.000000   \n",
       "25%    2020.000000    14.000000       3075.000000                   30.000000   \n",
       "50%    2021.000000    26.000000       5531.000000                   53.000000   \n",
       "75%    2022.000000    37.750000      21125.000000                  203.500000   \n",
       "max    2022.000000    53.000000     265043.000000                 2554.000000   \n",
       "\n",
       "       Antal_fall_100000inv_14dagar  Kum_antal_fall  Kum_fall_100000inv  \\\n",
       "count                    142.000000    1.420000e+02          142.000000   \n",
       "mean                     354.169014    1.125288e+06        10843.281690   \n",
       "std                      725.677174    9.618084e+05         9265.100705   \n",
       "min                        0.000000    1.000000e+00            0.000000   \n",
       "25%                       59.750000    1.014860e+05          982.500000   \n",
       "50%                      107.500000    1.085848e+06        10461.500000   \n",
       "75%                      421.250000    2.423603e+06        23350.500000   \n",
       "max                     5024.000000    2.609725e+06        25144.000000   \n",
       "\n",
       "       Antal_nyaintensivvårdade_vecka  Kum_antal_intensivvårdade  \\\n",
       "count                      142.000000                 142.000000   \n",
       "mean                        67.176056                6000.464789   \n",
       "std                         73.435000                3076.853993   \n",
       "min                          0.000000                   0.000000   \n",
       "25%                         14.000000                2643.750000   \n",
       "50%                         27.500000                7559.500000   \n",
       "75%                        109.000000                8863.250000   \n",
       "max                        289.000000                9539.000000   \n",
       "\n",
       "       Antal_avlidna_vecka  Antal_avlidna_milj_inv_vecka  Kum_antal_avlidna  \\\n",
       "count           142.000000                    142.000000         142.000000   \n",
       "mean            144.936620                     14.000000       12321.154930   \n",
       "std             173.659331                     16.796551        6103.235009   \n",
       "min               0.000000                      0.000000           0.000000   \n",
       "25%              25.250000                      2.425000        5880.000000   \n",
       "50%              77.500000                      7.450000       14610.500000   \n",
       "75%             185.500000                     17.950000       17177.750000   \n",
       "max             664.000000                     64.300003       20581.000000   \n",
       "\n",
       "       Kum_antal_avlidna_milj_inv  \n",
       "count                  142.000000  \n",
       "mean                  1187.840841  \n",
       "std                    587.255605  \n",
       "min                      0.000000  \n",
       "25%                    569.375000  \n",
       "50%                   1407.650024  \n",
       "75%                   1654.999969  \n",
       "max                   1982.900024  "
      ]
     },
     "execution_count": 31,
     "metadata": {},
     "output_type": "execute_result"
    }
   ],
   "source": [
    "df.describe() # Get useful data like max number in veckonumber is 53. "
   ]
  },
  {
   "cell_type": "code",
   "execution_count": 32,
   "metadata": {},
   "outputs": [
    {
     "data": {
      "text/plain": [
       "år                                0\n",
       "veckonummer                       0\n",
       "Antal_fall_vecka                  0\n",
       "Antal_fall_100000inv_vecka        0\n",
       "Antal_fall_100000inv_14dagar      0\n",
       "Kum_antal_fall                    0\n",
       "Kum_fall_100000inv                0\n",
       "Antal_nyaintensivvårdade_vecka    0\n",
       "Kum_antal_intensivvårdade         0\n",
       "Antal_avlidna_vecka               0\n",
       "Antal_avlidna_milj_inv_vecka      0\n",
       "Kum_antal_avlidna                 0\n",
       "Kum_antal_avlidna_milj_inv        0\n",
       "dtype: int64"
      ]
     },
     "execution_count": 32,
     "metadata": {},
     "output_type": "execute_result"
    }
   ],
   "source": [
    "df.isnull().sum() # No nulls."
   ]
  },
  {
   "cell_type": "markdown",
   "metadata": {},
   "source": [
    "# Combine Year and Veckonummer"
   ]
  },
  {
   "cell_type": "code",
   "execution_count": 33,
   "metadata": {},
   "outputs": [
    {
     "data": {
      "text/html": [
       "<div>\n",
       "<style scoped>\n",
       "    .dataframe tbody tr th:only-of-type {\n",
       "        vertical-align: middle;\n",
       "    }\n",
       "\n",
       "    .dataframe tbody tr th {\n",
       "        vertical-align: top;\n",
       "    }\n",
       "\n",
       "    .dataframe thead th {\n",
       "        text-align: right;\n",
       "    }\n",
       "</style>\n",
       "<table border=\"1\" class=\"dataframe\">\n",
       "  <thead>\n",
       "    <tr style=\"text-align: right;\">\n",
       "      <th></th>\n",
       "      <th>Vecka</th>\n",
       "      <th>Antal_fall_vecka</th>\n",
       "      <th>Antal_fall_100000inv_vecka</th>\n",
       "      <th>Antal_fall_100000inv_14dagar</th>\n",
       "      <th>Kum_antal_fall</th>\n",
       "      <th>Kum_fall_100000inv</th>\n",
       "      <th>Antal_nyaintensivvårdade_vecka</th>\n",
       "      <th>Kum_antal_intensivvårdade</th>\n",
       "      <th>Antal_avlidna_vecka</th>\n",
       "      <th>Antal_avlidna_milj_inv_vecka</th>\n",
       "      <th>Kum_antal_avlidna</th>\n",
       "      <th>Kum_antal_avlidna_milj_inv</th>\n",
       "    </tr>\n",
       "  </thead>\n",
       "  <tbody>\n",
       "    <tr>\n",
       "      <th>0</th>\n",
       "      <td>2020v6</td>\n",
       "      <td>1</td>\n",
       "      <td>0</td>\n",
       "      <td>0</td>\n",
       "      <td>1</td>\n",
       "      <td>0</td>\n",
       "      <td>0</td>\n",
       "      <td>0</td>\n",
       "      <td>0</td>\n",
       "      <td>0.0</td>\n",
       "      <td>0</td>\n",
       "      <td>0.0</td>\n",
       "    </tr>\n",
       "    <tr>\n",
       "      <th>1</th>\n",
       "      <td>2020v7</td>\n",
       "      <td>0</td>\n",
       "      <td>0</td>\n",
       "      <td>0</td>\n",
       "      <td>1</td>\n",
       "      <td>0</td>\n",
       "      <td>0</td>\n",
       "      <td>0</td>\n",
       "      <td>0</td>\n",
       "      <td>0.0</td>\n",
       "      <td>0</td>\n",
       "      <td>0.0</td>\n",
       "    </tr>\n",
       "    <tr>\n",
       "      <th>2</th>\n",
       "      <td>2020v8</td>\n",
       "      <td>0</td>\n",
       "      <td>0</td>\n",
       "      <td>0</td>\n",
       "      <td>1</td>\n",
       "      <td>0</td>\n",
       "      <td>0</td>\n",
       "      <td>0</td>\n",
       "      <td>0</td>\n",
       "      <td>0.0</td>\n",
       "      <td>0</td>\n",
       "      <td>0.0</td>\n",
       "    </tr>\n",
       "    <tr>\n",
       "      <th>3</th>\n",
       "      <td>2020v9</td>\n",
       "      <td>13</td>\n",
       "      <td>0</td>\n",
       "      <td>0</td>\n",
       "      <td>14</td>\n",
       "      <td>0</td>\n",
       "      <td>0</td>\n",
       "      <td>0</td>\n",
       "      <td>0</td>\n",
       "      <td>0.0</td>\n",
       "      <td>0</td>\n",
       "      <td>0.0</td>\n",
       "    </tr>\n",
       "    <tr>\n",
       "      <th>4</th>\n",
       "      <td>2020v10</td>\n",
       "      <td>211</td>\n",
       "      <td>2</td>\n",
       "      <td>2</td>\n",
       "      <td>225</td>\n",
       "      <td>2</td>\n",
       "      <td>3</td>\n",
       "      <td>3</td>\n",
       "      <td>0</td>\n",
       "      <td>0.0</td>\n",
       "      <td>0</td>\n",
       "      <td>0.0</td>\n",
       "    </tr>\n",
       "  </tbody>\n",
       "</table>\n",
       "</div>"
      ],
      "text/plain": [
       "     Vecka  Antal_fall_vecka  Antal_fall_100000inv_vecka  \\\n",
       "0   2020v6                 1                           0   \n",
       "1   2020v7                 0                           0   \n",
       "2   2020v8                 0                           0   \n",
       "3   2020v9                13                           0   \n",
       "4  2020v10               211                           2   \n",
       "\n",
       "   Antal_fall_100000inv_14dagar  Kum_antal_fall  Kum_fall_100000inv  \\\n",
       "0                             0               1                   0   \n",
       "1                             0               1                   0   \n",
       "2                             0               1                   0   \n",
       "3                             0              14                   0   \n",
       "4                             2             225                   2   \n",
       "\n",
       "   Antal_nyaintensivvårdade_vecka  Kum_antal_intensivvårdade  \\\n",
       "0                               0                          0   \n",
       "1                               0                          0   \n",
       "2                               0                          0   \n",
       "3                               0                          0   \n",
       "4                               3                          3   \n",
       "\n",
       "   Antal_avlidna_vecka  Antal_avlidna_milj_inv_vecka  Kum_antal_avlidna  \\\n",
       "0                    0                           0.0                  0   \n",
       "1                    0                           0.0                  0   \n",
       "2                    0                           0.0                  0   \n",
       "3                    0                           0.0                  0   \n",
       "4                    0                           0.0                  0   \n",
       "\n",
       "   Kum_antal_avlidna_milj_inv  \n",
       "0                         0.0  \n",
       "1                         0.0  \n",
       "2                         0.0  \n",
       "3                         0.0  \n",
       "4                         0.0  "
      ]
     },
     "execution_count": 33,
     "metadata": {},
     "output_type": "execute_result"
    }
   ],
   "source": [
    "df.insert(0, \"Vecka\", df[\"år\"].astype(str) + \"v\" + df[\"veckonummer\"].astype(str))\n",
    "df.pop(\"år\")\n",
    "df.pop(\"veckonummer\")\n",
    "\n",
    "df.head()"
   ]
  },
  {
   "cell_type": "markdown",
   "metadata": {},
   "source": [
    "## Plotting with Seaborn"
   ]
  },
  {
   "cell_type": "code",
   "execution_count": 34,
   "metadata": {},
   "outputs": [
    {
     "data": {
      "image/png": "[encoded data removed]",
      "text/plain": [
       "<Figure size 1920x1440 with 4 Axes>"
      ]
     },
     "metadata": {},
     "output_type": "display_data"
    }
   ],
   "source": [
    "year = df[\"Vecka\"]\n",
    "\n",
    "fig, ax = plt.subplots(2,2, figsize = (16, 12), dpi = 120)\n",
    "\n",
    "sns.lineplot(df, x = year, y = df[\"Antal_avlidna_vecka\"], ax = ax[0,0]) # Title is not informativ. Change later\n",
    "sns.lineplot(df, x = year, y = df[\"Antal_nyaintensivvårdade_vecka\"], ax = ax[0,1]) # Same as above\n",
    "\n",
    "sns.lineplot(df, x = year, y = df[\"Antal_avlidna_vecka\"], ax = ax[1,0])\n",
    "sns.lineplot(df, x = year, y = df[\"Antal_nyaintensivvårdade_vecka\"], ax = ax[1,0]) # Same as above\n",
    "\n",
    "sns.lineplot(df, x = year, y = df[\"Kum_antal_fall\"], ax = ax[1,1]).set_yscale(\"log\") # Same as above\n",
    "\n",
    "\n",
    "ax[0,0].xaxis.set_major_locator(plt.MaxNLocator(9))\n",
    "ax[0,1].xaxis.set_major_locator(plt.MaxNLocator(9))\n",
    "ax[1,0].xaxis.set_major_locator(plt.MaxNLocator(9))\n",
    "ax[1,1].xaxis.set_major_locator(plt.MaxNLocator(9))\n",
    "\n",
    "ax[0,0].set(title=\"Avlidna per vecka\")\n",
    "ax[0,1].set(title=\"Nya fall per vecka\")\n",
    "ax[1,0].set(title=\"Avlinda / Fall per vecka\")\n",
    "ax[1,1].set(title=\"Kumulativt antal fall\");\n"
   ]
  },
  {
   "cell_type": "code",
   "execution_count": 35,
   "metadata": {},
   "outputs": [],
   "source": [
    "# Creating lists of necessary data\n",
    "# "
   ]
  },
  {
   "cell_type": "markdown",
   "metadata": {},
   "source": [
    "# Function for plotting Seaborn Graphs"
   ]
  },
  {
   "cell_type": "code",
   "execution_count": 36,
   "metadata": {},
   "outputs": [],
   "source": [
    "# Function for plotting seaborn graphs.\n",
    "titles = [\n",
    "    \"Antal Avlidna per Vecka\",\n",
    "    \"Antal Fall per Vecka\",\n",
    "    \"Avlidna och Fall / Vecka\",\n",
    "    \"Kumulativt Antal Fall\",\n",
    "]\n",
    "datapoints = [\n",
    "    \"Antal_avlidna_vecka\",\n",
    "    \"Antal_fall_vecka\",\n",
    "    \"Antal_avlidna_vecka\",\n",
    "    \"Antal_fall_vecka\",\n",
    "    \"Kum_antal_fall\",\n",
    "]\n",
    "y_label = [\"Antal Personer\"] * 4\n",
    "\n",
    "\n",
    "def sns_plot_func(x, y, label, data):  # setting the function\n",
    "    \"\"\"Used to quickly plot with seaborn\"\"\"  # Docstring PLACEHOLDER\n",
    "    fig, ax = plt.subplots(\n",
    "        figsize=(16, 8), dpi=120\n",
    "    )  # Subplot. TODO add actual subplots with ifstatement to check if list is >=2\n",
    "    sns.lineplot(data=data, x=x, y=y, label=label)  # Plot code\n",
    "    ax.xaxis.set_major_locator(\n",
    "        plt.MaxNLocator(15)\n",
    "    )  # Set major locator to not show all values on x.\n",
    "    ax.xaxis.set_tick_params(rotation=-45)\n",
    "    #ax.set_ylabel(y_label)\n",
    "    if (\n",
    "        data[y].max() >= 10**6\n",
    "    ):  # ifstatement to see if y data is above 1000000. if it is set yscale to logorithmic scale.\n",
    "        ax.set_yscale(\"log\")\n",
    "\n",
    "\n",
    "#for axes, title, y_label in zip(ax.reshape(-1), titles, y_label):\n",
    "#for i in range(5):\n",
    "    #sns_plot_func(year, datapoints[i], titles[i], df)\n"
   ]
  },
  {
   "cell_type": "code",
   "execution_count": 37,
   "metadata": {},
   "outputs": [
    {
     "name": "stdout",
     "output_type": "stream",
     "text": [
      "4\n",
      "4\n",
      "['Antal_avlidna_vecka', 'Antal_fall_vecka', 'Antal_avlidna_vecka', 'Antal_fall_vecka', 'Kum_antal_fall']\n"
     ]
    },
    {
     "data": {
      "image/png": "[encoded data removed]",
      "text/plain": [
       "<Figure size 1920x960 with 1 Axes>"
      ]
     },
     "metadata": {},
     "output_type": "display_data"
    }
   ],
   "source": [
    "sns_plot_func(year, \"Kum_antal_fall\",titles[3], df)#, #sns_plot_func(year, \"Antal_nyaintensivvårdade_vecka\",df)\n",
    "print(len(y_label))\n",
    "print(len(titles))\n",
    "print((datapoints))\n"
   ]
  },
  {
   "cell_type": "code",
   "execution_count": 38,
   "metadata": {},
   "outputs": [
    {
     "data": {
      "image/png": "[encoded data removed]",
      "text/plain": [
       "<Figure size 1200x800 with 1 Axes>"
      ]
     },
     "metadata": {},
     "output_type": "display_data"
    }
   ],
   "source": [
    "fig, ax = plt.subplots(figsize =(12,8)) # Sams code.Temporary for testing.\n",
    "ax = sns.lineplot(x = \"Vecka\", y = \"Antal_avlidna_vecka\", data=df, label= \"Antal avlinda per vecka\", linestyle=\"dashed\")\n",
    "ax1 = sns.lineplot(x = \"Vecka\", y = \"Antal_fall_vecka\", data=df, label=\"Antal fall per vecka\")\n",
    "ax.xaxis.set_major_locator(plt.MaxNLocator(10))\n",
    "ax.set(xlabel = \"Vecka\", ylabel=\"Antal\", title= \"Antal avlinda och fall per vecka från 2020\")\n",
    "ax1.set_yscale('log')\n",
    "\n",
    "#to fix scale 2 # https://www.geeksforgeeks.org/matplotlib-pyplot-twinx-in-python/\n",
    "\n"
   ]
  },
  {
   "cell_type": "code",
   "execution_count": 39,
   "metadata": {},
   "outputs": [
    {
     "data": {
      "image/png": "[encoded data removed]",
      "text/plain": [
       "<Figure size 640x480 with 2 Axes>"
      ]
     },
     "metadata": {},
     "output_type": "display_data"
    }
   ],
   "source": [
    "sns.lineplot(df, x = year, y = df[\"Antal_avlidna_vecka\"]).xaxis.set_major_locator(plt.MaxNLocator(9)) # Title is not informative. Change later\n",
    "sns.lineplot(df, x = year, y = df[\"Antal_nyaintensivvårdade_vecka\"], linestyle = \"dashed\").twinx();#.xaxis.set_major_locator(plt.MaxNLocator(9)) # Same as above"
   ]
  },
  {
   "cell_type": "code",
   "execution_count": 40,
   "metadata": {},
   "outputs": [
    {
     "data": {
      "image/png": "[encoded data removed]",
      "text/plain": [
       "<Figure size 640x480 with 1 Axes>"
      ]
     },
     "metadata": {},
     "output_type": "display_data"
    }
   ],
   "source": [
    "# f) Rita linjediagram av kumulativt antal fall från 2020v6 till nu.\n",
    "\n",
    "sns.lineplot(df, x = year, y = df[\"Kum_antal_fall\"]).xaxis.set_major_locator(plt.MaxNLocator(9))"
   ]
  },
  {
   "cell_type": "markdown",
   "metadata": {},
   "source": [
    "# Plotly express plotting C-F"
   ]
  },
  {
   "cell_type": "code",
   "execution_count": 41,
   "metadata": {},
   "outputs": [
    {
     "data": {
      "application/vnd.plotly.v1+json": {
       "config": {
        "plotlyServerURL": "https://plot.ly"
       },
       "data": [
        {
         "hovertemplate": "Vecka=%{x}<br>Antal_avlidna_vecka=%{y}<extra></extra>",
         "legendgroup": "",
         "line": {
          "color": "#636efa",
          "dash": "solid"
         },
         "marker": {
          "symbol": "circle"
         },
         "mode": "lines",
         "name": "",
         "orientation": "v",
         "showlegend": false,
         "type": "scatter",
         "x": [
          "2020v6",
          "2020v7",
          "2020v8",
          "2020v9",
          "2020v10",
          "2020v11",
          "2020v12",
          "2020v13",
          "2020v14",
          "2020v15",
          "2020v16",
          "2020v17",
          "2020v18",
          "2020v19",
          "2020v20",
          "2020v21",
          "2020v22",
          "2020v23",
          "2020v24",
          "2020v25",
          "2020v26",
          "2020v27",
          "2020v28",
          "2020v29",
          "2020v30",
          "2020v31",
          "2020v32",
          "2020v33",
          "2020v34",
          "2020v35",
          "2020v36",
          "2020v37",
          "2020v38",
          "2020v39",
          "2020v40",
          "2020v41",
          "2020v42",
          "2020v43",
          "2020v44",
          "2020v45",
          "2020v46",
          "2020v47",
          "2020v48",
          "2020v49",
          "2020v50",
          "2020v51",
          "2020v52",
          "2020v53",
          "2021v1",
          "2021v2",
          "2021v3",
          "2021v4",
          "2021v5",
          "2021v6",
          "2021v7",
          "2021v8",
          "2021v9",
          "2021v10",
          "2021v11",
          "2021v12",
          "2021v13",
          "2021v14",
          "2021v15",
          "2021v16",
          "2021v17",
          "2021v18",
          "2021v19",
          "2021v20",
          "2021v21",
          "2021v22",
          "2021v23",
          "2021v24",
          "2021v25",
          "2021v26",
          "2021v27",
          "2021v28",
          "2021v29",
          "2021v30",
          "2021v31",
          "2021v32",
          "2021v33",
          "2021v34",
          "2021v35",
          "2021v36",
          "2021v37",
          "2021v38",
          "2021v39",
          "2021v40",
          "2021v41",
          "2021v42",
          "2021v43",
          "2021v44",
          "2021v45",
          "2021v46",
          "2021v47",
          "2021v48",
          "2021v49",
          "2021v50",
          "2021v51",
          "2021v52",
          "2022v1",
          "2022v2",
          "2022v3",
          "2022v4",
          "2022v5",
          "2022v6",
          "2022v7",
          "2022v8",
          "2022v9",
          "2022v10",
          "2022v11",
          "2022v12",
          "2022v13",
          "2022v14",
          "2022v15",
          "2022v16",
          "2022v17",
          "2022v18",
          "2022v19",
          "2022v20",
          "2022v21",
          "2022v22",
          "2022v23",
          "2022v24",
          "2022v25",
          "2022v26",
          "2022v27",
          "2022v28",
          "2022v29",
          "2022v30",
          "2022v31",
          "2022v32",
          "2022v33",
          "2022v34",
          "2022v35",
          "2022v36",
          "2022v37",
          "2022v38",
          "2022v39",
          "2022v40",
          "2022v41",
          "2022v42"
         ],
         "xaxis": "x",
         "y": [
          0,
          0,
          0,
          0,
          0,
          5,
          44,
          190,
          451,
          664,
          657,
          546,
          543,
          509,
          380,
          360,
          272,
          246,
          234,
          200,
          138,
          98,
          84,
          57,
          30,
          18,
          18,
          16,
          19,
          10,
          12,
          13,
          12,
          11,
          17,
          22,
          16,
          43,
          82,
          157,
          235,
          332,
          417,
          476,
          500,
          645,
          643,
          663,
          644,
          598,
          513,
          389,
          269,
          205,
          172,
          146,
          129,
          141,
          127,
          126,
          142,
          133,
          141,
          131,
          115,
          107,
          111,
          70,
          47,
          39,
          22,
          17,
          9,
          8,
          3,
          2,
          3,
          4,
          7,
          7,
          11,
          20,
          25,
          49,
          51,
          43,
          39,
          49,
          32,
          23,
          30,
          33,
          31,
          30,
          15,
          29,
          38,
          49,
          44,
          70,
          130,
          172,
          243,
          301,
          359,
          329,
          361,
          319,
          273,
          204,
          195,
          157,
          122,
          120,
          71,
          70,
          51,
          52,
          42,
          41,
          26,
          23,
          28,
          22,
          36,
          42,
          59,
          62,
          114,
          95,
          110,
          119,
          133,
          85,
          96,
          85,
          95,
          88,
          92,
          88,
          73,
          25
         ],
         "yaxis": "y"
        }
       ],
       "layout": {
        "legend": {
         "tracegroupgap": 0
        },
        "template": {
         "data": {
          "bar": [
           {
            "error_x": {
             "color": "#2a3f5f"
            },
            "error_y": {
             "color": "#2a3f5f"
            },
            "marker": {
             "line": {
              "color": "#E5ECF6",
              "width": 0.5
             },
             "pattern": {
              "fillmode": "overlay",
              "size": 10,
              "solidity": 0.2
             }
            },
            "type": "bar"
           }
          ],
          "barpolar": [
           {
            "marker": {
             "line": {
              "color": "#E5ECF6",
              "width": 0.5
             },
             "pattern": {
              "fillmode": "overlay",
              "size": 10,
              "solidity": 0.2
             }
            },
            "type": "barpolar"
           }
          ],
          "carpet": [
           {
            "aaxis": {
             "endlinecolor": "#2a3f5f",
             "gridcolor": "white",
             "linecolor": "white",
             "minorgridcolor": "white",
             "startlinecolor": "#2a3f5f"
            },
            "baxis": {
             "endlinecolor": "#2a3f5f",
             "gridcolor": "white",
             "linecolor": "white",
             "minorgridcolor": "white",
             "startlinecolor": "#2a3f5f"
            },
            "type": "carpet"
           }
          ],
          "choropleth": [
           {
            "colorbar": {
             "outlinewidth": 0,
             "ticks": ""
            },
            "type": "choropleth"
           }
          ],
          "contour": [
           {
            "colorbar": {
             "outlinewidth": 0,
             "ticks": ""
            },
            "colorscale": [
             [
              0,
              "#0d0887"
             ],
             [
              0.1111111111111111,
              "#46039f"
             ],
             [
              0.2222222222222222,
              "#7201a8"
             ],
             [
              0.3333333333333333,
              "#9c179e"
             ],
             [
              0.4444444444444444,
              "#bd3786"
             ],
             [
              0.5555555555555556,
              "#d8576b"
             ],
             [
              0.6666666666666666,
              "#ed7953"
             ],
             [
              0.7777777777777778,
              "#fb9f3a"
             ],
             [
              0.8888888888888888,
              "#fdca26"
             ],
             [
              1,
              "#f0f921"
             ]
            ],
            "type": "contour"
           }
          ],
          "contourcarpet": [
           {
            "colorbar": {
             "outlinewidth": 0,
             "ticks": ""
            },
            "type": "contourcarpet"
           }
          ],
          "heatmap": [
           {
            "colorbar": {
             "outlinewidth": 0,
             "ticks": ""
            },
            "colorscale": [
             [
              0,
              "#0d0887"
             ],
             [
              0.1111111111111111,
              "#46039f"
             ],
             [
              0.2222222222222222,
              "#7201a8"
             ],
             [
              0.3333333333333333,
              "#9c179e"
             ],
             [
              0.4444444444444444,
              "#bd3786"
             ],
             [
              0.5555555555555556,
              "#d8576b"
             ],
             [
              0.6666666666666666,
              "#ed7953"
             ],
             [
              0.7777777777777778,
              "#fb9f3a"
             ],
             [
              0.8888888888888888,
              "#fdca26"
             ],
             [
              1,
              "#f0f921"
             ]
            ],
            "type": "heatmap"
           }
          ],
          "heatmapgl": [
           {
            "colorbar": {
             "outlinewidth": 0,
             "ticks": ""
            },
            "colorscale": [
             [
              0,
              "#0d0887"
             ],
             [
              0.1111111111111111,
              "#46039f"
             ],
             [
              0.2222222222222222,
              "#7201a8"
             ],
             [
              0.3333333333333333,
              "#9c179e"
             ],
             [
              0.4444444444444444,
              "#bd3786"
             ],
             [
              0.5555555555555556,
              "#d8576b"
             ],
             [
              0.6666666666666666,
              "#ed7953"
             ],
             [
              0.7777777777777778,
              "#fb9f3a"
             ],
             [
              0.8888888888888888,
              "#fdca26"
             ],
             [
              1,
              "#f0f921"
             ]
            ],
            "type": "heatmapgl"
           }
          ],
          "histogram": [
           {
            "marker": {
             "pattern": {
              "fillmode": "overlay",
              "size": 10,
              "solidity": 0.2
             }
            },
            "type": "histogram"
           }
          ],
          "histogram2d": [
           {
            "colorbar": {
             "outlinewidth": 0,
             "ticks": ""
            },
            "colorscale": [
             [
              0,
              "#0d0887"
             ],
             [
              0.1111111111111111,
              "#46039f"
             ],
             [
              0.2222222222222222,
              "#7201a8"
             ],
             [
              0.3333333333333333,
              "#9c179e"
             ],
             [
              0.4444444444444444,
              "#bd3786"
             ],
             [
              0.5555555555555556,
              "#d8576b"
             ],
             [
              0.6666666666666666,
              "#ed7953"
             ],
             [
              0.7777777777777778,
              "#fb9f3a"
             ],
             [
              0.8888888888888888,
              "#fdca26"
             ],
             [
              1,
              "#f0f921"
             ]
            ],
            "type": "histogram2d"
           }
          ],
          "histogram2dcontour": [
           {
            "colorbar": {
             "outlinewidth": 0,
             "ticks": ""
            },
            "colorscale": [
             [
              0,
              "#0d0887"
             ],
             [
              0.1111111111111111,
              "#46039f"
             ],
             [
              0.2222222222222222,
              "#7201a8"
             ],
             [
              0.3333333333333333,
              "#9c179e"
             ],
             [
              0.4444444444444444,
              "#bd3786"
             ],
             [
              0.5555555555555556,
              "#d8576b"
             ],
             [
              0.6666666666666666,
              "#ed7953"
             ],
             [
              0.7777777777777778,
              "#fb9f3a"
             ],
             [
              0.8888888888888888,
              "#fdca26"
             ],
             [
              1,
              "#f0f921"
             ]
            ],
            "type": "histogram2dcontour"
           }
          ],
          "mesh3d": [
           {
            "colorbar": {
             "outlinewidth": 0,
             "ticks": ""
            },
            "type": "mesh3d"
           }
          ],
          "parcoords": [
           {
            "line": {
             "colorbar": {
              "outlinewidth": 0,
              "ticks": ""
             }
            },
            "type": "parcoords"
           }
          ],
          "pie": [
           {
            "automargin": true,
            "type": "pie"
           }
          ],
          "scatter": [
           {
            "fillpattern": {
             "fillmode": "overlay",
             "size": 10,
             "solidity": 0.2
            },
            "type": "scatter"
           }
          ],
          "scatter3d": [
           {
            "line": {
             "colorbar": {
              "outlinewidth": 0,
              "ticks": ""
             }
            },
            "marker": {
             "colorbar": {
              "outlinewidth": 0,
              "ticks": ""
             }
            },
            "type": "scatter3d"
           }
          ],
          "scattercarpet": [
           {
            "marker": {
             "colorbar": {
              "outlinewidth": 0,
              "ticks": ""
             }
            },
            "type": "scattercarpet"
           }
          ],
          "scattergeo": [
           {
            "marker": {
             "colorbar": {
              "outlinewidth": 0,
              "ticks": ""
             }
            },
            "type": "scattergeo"
           }
          ],
          "scattergl": [
           {
            "marker": {
             "colorbar": {
              "outlinewidth": 0,
              "ticks": ""
             }
            },
            "type": "scattergl"
           }
          ],
          "scattermapbox": [
           {
            "marker": {
             "colorbar": {
              "outlinewidth": 0,
              "ticks": ""
             }
            },
            "type": "scattermapbox"
           }
          ],
          "scatterpolar": [
           {
            "marker": {
             "colorbar": {
              "outlinewidth": 0,
              "ticks": ""
             }
            },
            "type": "scatterpolar"
           }
          ],
          "scatterpolargl": [
           {
            "marker": {
             "colorbar": {
              "outlinewidth": 0,
              "ticks": ""
             }
            },
            "type": "scatterpolargl"
           }
          ],
          "scatterternary": [
           {
            "marker": {
             "colorbar": {
              "outlinewidth": 0,
              "ticks": ""
             }
            },
            "type": "scatterternary"
           }
          ],
          "surface": [
           {
            "colorbar": {
             "outlinewidth": 0,
             "ticks": ""
            },
            "colorscale": [
             [
              0,
              "#0d0887"
             ],
             [
              0.1111111111111111,
              "#46039f"
             ],
             [
              0.2222222222222222,
              "#7201a8"
             ],
             [
              0.3333333333333333,
              "#9c179e"
             ],
             [
              0.4444444444444444,
              "#bd3786"
             ],
             [
              0.5555555555555556,
              "#d8576b"
             ],
             [
              0.6666666666666666,
              "#ed7953"
             ],
             [
              0.7777777777777778,
              "#fb9f3a"
             ],
             [
              0.8888888888888888,
              "#fdca26"
             ],
             [
              1,
              "#f0f921"
             ]
            ],
            "type": "surface"
           }
          ],
          "table": [
           {
            "cells": {
             "fill": {
              "color": "#EBF0F8"
             },
             "line": {
              "color": "white"
             }
            },
            "header": {
             "fill": {
              "color": "#C8D4E3"
             },
             "line": {
              "color": "white"
             }
            },
            "type": "table"
           }
          ]
         },
         "layout": {
          "annotationdefaults": {
           "arrowcolor": "#2a3f5f",
           "arrowhead": 0,
           "arrowwidth": 1
          },
          "autotypenumbers": "strict",
          "coloraxis": {
           "colorbar": {
            "outlinewidth": 0,
            "ticks": ""
           }
          },
          "colorscale": {
           "diverging": [
            [
             0,
             "#8e0152"
            ],
            [
             0.1,
             "#c51b7d"
            ],
            [
             0.2,
             "#de77ae"
            ],
            [
             0.3,
             "#f1b6da"
            ],
            [
             0.4,
             "#fde0ef"
            ],
            [
             0.5,
             "#f7f7f7"
            ],
            [
             0.6,
             "#e6f5d0"
            ],
            [
             0.7,
             "#b8e186"
            ],
            [
             0.8,
             "#7fbc41"
            ],
            [
             0.9,
             "#4d9221"
            ],
            [
             1,
             "#276419"
            ]
           ],
           "sequential": [
            [
             0,
             "#0d0887"
            ],
            [
             0.1111111111111111,
             "#46039f"
            ],
            [
             0.2222222222222222,
             "#7201a8"
            ],
            [
             0.3333333333333333,
             "#9c179e"
            ],
            [
             0.4444444444444444,
             "#bd3786"
            ],
            [
             0.5555555555555556,
             "#d8576b"
            ],
            [
             0.6666666666666666,
             "#ed7953"
            ],
            [
             0.7777777777777778,
             "#fb9f3a"
            ],
            [
             0.8888888888888888,
             "#fdca26"
            ],
            [
             1,
             "#f0f921"
            ]
           ],
           "sequentialminus": [
            [
             0,
             "#0d0887"
            ],
            [
             0.1111111111111111,
             "#46039f"
            ],
            [
             0.2222222222222222,
             "#7201a8"
            ],
            [
             0.3333333333333333,
             "#9c179e"
            ],
            [
             0.4444444444444444,
             "#bd3786"
            ],
            [
             0.5555555555555556,
             "#d8576b"
            ],
            [
             0.6666666666666666,
             "#ed7953"
            ],
            [
             0.7777777777777778,
             "#fb9f3a"
            ],
            [
             0.8888888888888888,
             "#fdca26"
            ],
            [
             1,
             "#f0f921"
            ]
           ]
          },
          "colorway": [
           "#636efa",
           "#EF553B",
           "#00cc96",
           "#ab63fa",
           "#FFA15A",
           "#19d3f3",
           "#FF6692",
           "#B6E880",
           "#FF97FF",
           "#FECB52"
          ],
          "font": {
           "color": "#2a3f5f"
          },
          "geo": {
           "bgcolor": "white",
           "lakecolor": "white",
           "landcolor": "#E5ECF6",
           "showlakes": true,
           "showland": true,
           "subunitcolor": "white"
          },
          "hoverlabel": {
           "align": "left"
          },
          "hovermode": "closest",
          "mapbox": {
           "style": "light"
          },
          "paper_bgcolor": "white",
          "plot_bgcolor": "#E5ECF6",
          "polar": {
           "angularaxis": {
            "gridcolor": "white",
            "linecolor": "white",
            "ticks": ""
           },
           "bgcolor": "#E5ECF6",
           "radialaxis": {
            "gridcolor": "white",
            "linecolor": "white",
            "ticks": ""
           }
          },
          "scene": {
           "xaxis": {
            "backgroundcolor": "#E5ECF6",
            "gridcolor": "white",
            "gridwidth": 2,
            "linecolor": "white",
            "showbackground": true,
            "ticks": "",
            "zerolinecolor": "white"
           },
           "yaxis": {
            "backgroundcolor": "#E5ECF6",
            "gridcolor": "white",
            "gridwidth": 2,
            "linecolor": "white",
            "showbackground": true,
            "ticks": "",
            "zerolinecolor": "white"
           },
           "zaxis": {
            "backgroundcolor": "#E5ECF6",
            "gridcolor": "white",
            "gridwidth": 2,
            "linecolor": "white",
            "showbackground": true,
            "ticks": "",
            "zerolinecolor": "white"
           }
          },
          "shapedefaults": {
           "line": {
            "color": "#2a3f5f"
           }
          },
          "ternary": {
           "aaxis": {
            "gridcolor": "white",
            "linecolor": "white",
            "ticks": ""
           },
           "baxis": {
            "gridcolor": "white",
            "linecolor": "white",
            "ticks": ""
           },
           "bgcolor": "#E5ECF6",
           "caxis": {
            "gridcolor": "white",
            "linecolor": "white",
            "ticks": ""
           }
          },
          "title": {
           "x": 0.05
          },
          "xaxis": {
           "automargin": true,
           "gridcolor": "white",
           "linecolor": "white",
           "ticks": "",
           "title": {
            "standoff": 15
           },
           "zerolinecolor": "white",
           "zerolinewidth": 2
          },
          "yaxis": {
           "automargin": true,
           "gridcolor": "white",
           "linecolor": "white",
           "ticks": "",
           "title": {
            "standoff": 15
           },
           "zerolinecolor": "white",
           "zerolinewidth": 2
          }
         }
        },
        "title": {
         "text": "Antal Avldina per Vecka"
        },
        "xaxis": {
         "anchor": "y",
         "domain": [
          0,
          1
         ],
         "title": {
          "text": "Vecka"
         }
        },
        "yaxis": {
         "anchor": "x",
         "domain": [
          0,
          1
         ],
         "title": {
          "text": "Antal Personer"
         }
        }
       }
      }
     },
     "metadata": {},
     "output_type": "display_data"
    }
   ],
   "source": [
    "px.line(df, x = \"Vecka\", y = \"Antal_avlidna_vecka\", title = \"Antal Avldina per Vecka\").update_layout(yaxis_title = \"Antal Personer\")\n"
   ]
  },
  {
   "cell_type": "code",
   "execution_count": 42,
   "metadata": {},
   "outputs": [
    {
     "data": {
      "application/vnd.plotly.v1+json": {
       "config": {
        "plotlyServerURL": "https://plot.ly"
       },
       "data": [
        {
         "hovertemplate": "Vecka=%{x}<br>Antal_fall_vecka=%{y}<extra></extra>",
         "legendgroup": "",
         "line": {
          "color": "#636efa",
          "dash": "solid"
         },
         "marker": {
          "symbol": "circle"
         },
         "mode": "lines",
         "name": "",
         "orientation": "v",
         "showlegend": false,
         "type": "scatter",
         "x": [
          "2020v6",
          "2020v7",
          "2020v8",
          "2020v9",
          "2020v10",
          "2020v11",
          "2020v12",
          "2020v13",
          "2020v14",
          "2020v15",
          "2020v16",
          "2020v17",
          "2020v18",
          "2020v19",
          "2020v20",
          "2020v21",
          "2020v22",
          "2020v23",
          "2020v24",
          "2020v25",
          "2020v26",
          "2020v27",
          "2020v28",
          "2020v29",
          "2020v30",
          "2020v31",
          "2020v32",
          "2020v33",
          "2020v34",
          "2020v35",
          "2020v36",
          "2020v37",
          "2020v38",
          "2020v39",
          "2020v40",
          "2020v41",
          "2020v42",
          "2020v43",
          "2020v44",
          "2020v45",
          "2020v46",
          "2020v47",
          "2020v48",
          "2020v49",
          "2020v50",
          "2020v51",
          "2020v52",
          "2020v53",
          "2021v1",
          "2021v2",
          "2021v3",
          "2021v4",
          "2021v5",
          "2021v6",
          "2021v7",
          "2021v8",
          "2021v9",
          "2021v10",
          "2021v11",
          "2021v12",
          "2021v13",
          "2021v14",
          "2021v15",
          "2021v16",
          "2021v17",
          "2021v18",
          "2021v19",
          "2021v20",
          "2021v21",
          "2021v22",
          "2021v23",
          "2021v24",
          "2021v25",
          "2021v26",
          "2021v27",
          "2021v28",
          "2021v29",
          "2021v30",
          "2021v31",
          "2021v32",
          "2021v33",
          "2021v34",
          "2021v35",
          "2021v36",
          "2021v37",
          "2021v38",
          "2021v39",
          "2021v40",
          "2021v41",
          "2021v42",
          "2021v43",
          "2021v44",
          "2021v45",
          "2021v46",
          "2021v47",
          "2021v48",
          "2021v49",
          "2021v50",
          "2021v51",
          "2021v52",
          "2022v1",
          "2022v2",
          "2022v3",
          "2022v4",
          "2022v5",
          "2022v6",
          "2022v7",
          "2022v8",
          "2022v9",
          "2022v10",
          "2022v11",
          "2022v12",
          "2022v13",
          "2022v14",
          "2022v15",
          "2022v16",
          "2022v17",
          "2022v18",
          "2022v19",
          "2022v20",
          "2022v21",
          "2022v22",
          "2022v23",
          "2022v24",
          "2022v25",
          "2022v26",
          "2022v27",
          "2022v28",
          "2022v29",
          "2022v30",
          "2022v31",
          "2022v32",
          "2022v33",
          "2022v34",
          "2022v35",
          "2022v36",
          "2022v37",
          "2022v38",
          "2022v39",
          "2022v40",
          "2022v41",
          "2022v42"
         ],
         "xaxis": "x",
         "y": [
          1,
          0,
          0,
          13,
          211,
          838,
          924,
          1957,
          3229,
          3740,
          3752,
          4203,
          3832,
          4153,
          3869,
          3659,
          4280,
          6021,
          7123,
          7073,
          7455,
          4279,
          2179,
          1622,
          1316,
          1556,
          2014,
          2052,
          1687,
          1200,
          1332,
          1592,
          2080,
          2919,
          3642,
          4278,
          5620,
          9155,
          18474,
          25405,
          31319,
          31944,
          35560,
          36837,
          43631,
          46177,
          37134,
          41323,
          39446,
          28935,
          23222,
          20654,
          19604,
          21282,
          23613,
          26680,
          27739,
          28555,
          33032,
          37880,
          38384,
          41142,
          41036,
          36030,
          35306,
          33678,
          25914,
          18170,
          7974,
          9094,
          4394,
          2848,
          1983,
          1870,
          1514,
          1883,
          2661,
          3460,
          4609,
          5817,
          6463,
          6685,
          7236,
          7968,
          6259,
          4305,
          4231,
          4137,
          4069,
          5194,
          5910,
          5060,
          5819,
          7093,
          11915,
          13801,
          18649,
          24485,
          27907,
          59341,
          125275,
          164692,
          256323,
          265043,
          185716,
          62338,
          22160,
          17676,
          12587,
          10110,
          8502,
          7040,
          4952,
          4091,
          3070,
          2525,
          2319,
          1940,
          1656,
          1817,
          1316,
          1255,
          1896,
          2165,
          3090,
          4118,
          4236,
          5442,
          5951,
          5705,
          6235,
          6638,
          6320,
          4868,
          4485,
          4712,
          4978,
          4669,
          13532,
          3999,
          3408,
          3279
         ],
         "yaxis": "y"
        }
       ],
       "layout": {
        "legend": {
         "tracegroupgap": 0
        },
        "template": {
         "data": {
          "bar": [
           {
            "error_x": {
             "color": "#2a3f5f"
            },
            "error_y": {
             "color": "#2a3f5f"
            },
            "marker": {
             "line": {
              "color": "#E5ECF6",
              "width": 0.5
             },
             "pattern": {
              "fillmode": "overlay",
              "size": 10,
              "solidity": 0.2
             }
            },
            "type": "bar"
           }
          ],
          "barpolar": [
           {
            "marker": {
             "line": {
              "color": "#E5ECF6",
              "width": 0.5
             },
             "pattern": {
              "fillmode": "overlay",
              "size": 10,
              "solidity": 0.2
             }
            },
            "type": "barpolar"
           }
          ],
          "carpet": [
           {
            "aaxis": {
             "endlinecolor": "#2a3f5f",
             "gridcolor": "white",
             "linecolor": "white",
             "minorgridcolor": "white",
             "startlinecolor": "#2a3f5f"
            },
            "baxis": {
             "endlinecolor": "#2a3f5f",
             "gridcolor": "white",
             "linecolor": "white",
             "minorgridcolor": "white",
             "startlinecolor": "#2a3f5f"
            },
            "type": "carpet"
           }
          ],
          "choropleth": [
           {
            "colorbar": {
             "outlinewidth": 0,
             "ticks": ""
            },
            "type": "choropleth"
           }
          ],
          "contour": [
           {
            "colorbar": {
             "outlinewidth": 0,
             "ticks": ""
            },
            "colorscale": [
             [
              0,
              "#0d0887"
             ],
             [
              0.1111111111111111,
              "#46039f"
             ],
             [
              0.2222222222222222,
              "#7201a8"
             ],
             [
              0.3333333333333333,
              "#9c179e"
             ],
             [
              0.4444444444444444,
              "#bd3786"
             ],
             [
              0.5555555555555556,
              "#d8576b"
             ],
             [
              0.6666666666666666,
              "#ed7953"
             ],
             [
              0.7777777777777778,
              "#fb9f3a"
             ],
             [
              0.8888888888888888,
              "#fdca26"
             ],
             [
              1,
              "#f0f921"
             ]
            ],
            "type": "contour"
           }
          ],
          "contourcarpet": [
           {
            "colorbar": {
             "outlinewidth": 0,
             "ticks": ""
            },
            "type": "contourcarpet"
           }
          ],
          "heatmap": [
           {
            "colorbar": {
             "outlinewidth": 0,
             "ticks": ""
            },
            "colorscale": [
             [
              0,
              "#0d0887"
             ],
             [
              0.1111111111111111,
              "#46039f"
             ],
             [
              0.2222222222222222,
              "#7201a8"
             ],
             [
              0.3333333333333333,
              "#9c179e"
             ],
             [
              0.4444444444444444,
              "#bd3786"
             ],
             [
              0.5555555555555556,
              "#d8576b"
             ],
             [
              0.6666666666666666,
              "#ed7953"
             ],
             [
              0.7777777777777778,
              "#fb9f3a"
             ],
             [
              0.8888888888888888,
              "#fdca26"
             ],
             [
              1,
              "#f0f921"
             ]
            ],
            "type": "heatmap"
           }
          ],
          "heatmapgl": [
           {
            "colorbar": {
             "outlinewidth": 0,
             "ticks": ""
            },
            "colorscale": [
             [
              0,
              "#0d0887"
             ],
             [
              0.1111111111111111,
              "#46039f"
             ],
             [
              0.2222222222222222,
              "#7201a8"
             ],
             [
              0.3333333333333333,
              "#9c179e"
             ],
             [
              0.4444444444444444,
              "#bd3786"
             ],
             [
              0.5555555555555556,
              "#d8576b"
             ],
             [
              0.6666666666666666,
              "#ed7953"
             ],
             [
              0.7777777777777778,
              "#fb9f3a"
             ],
             [
              0.8888888888888888,
              "#fdca26"
             ],
             [
              1,
              "#f0f921"
             ]
            ],
            "type": "heatmapgl"
           }
          ],
          "histogram": [
           {
            "marker": {
             "pattern": {
              "fillmode": "overlay",
              "size": 10,
              "solidity": 0.2
             }
            },
            "type": "histogram"
           }
          ],
          "histogram2d": [
           {
            "colorbar": {
             "outlinewidth": 0,
             "ticks": ""
            },
            "colorscale": [
             [
              0,
              "#0d0887"
             ],
             [
              0.1111111111111111,
              "#46039f"
             ],
             [
              0.2222222222222222,
              "#7201a8"
             ],
             [
              0.3333333333333333,
              "#9c179e"
             ],
             [
              0.4444444444444444,
              "#bd3786"
             ],
             [
              0.5555555555555556,
              "#d8576b"
             ],
             [
              0.6666666666666666,
              "#ed7953"
             ],
             [
              0.7777777777777778,
              "#fb9f3a"
             ],
             [
              0.8888888888888888,
              "#fdca26"
             ],
             [
              1,
              "#f0f921"
             ]
            ],
            "type": "histogram2d"
           }
          ],
          "histogram2dcontour": [
           {
            "colorbar": {
             "outlinewidth": 0,
             "ticks": ""
            },
            "colorscale": [
             [
              0,
              "#0d0887"
             ],
             [
              0.1111111111111111,
              "#46039f"
             ],
             [
              0.2222222222222222,
              "#7201a8"
             ],
             [
              0.3333333333333333,
              "#9c179e"
             ],
             [
              0.4444444444444444,
              "#bd3786"
             ],
             [
              0.5555555555555556,
              "#d8576b"
             ],
             [
              0.6666666666666666,
              "#ed7953"
             ],
             [
              0.7777777777777778,
              "#fb9f3a"
             ],
             [
              0.8888888888888888,
              "#fdca26"
             ],
             [
              1,
              "#f0f921"
             ]
            ],
            "type": "histogram2dcontour"
           }
          ],
          "mesh3d": [
           {
            "colorbar": {
             "outlinewidth": 0,
             "ticks": ""
            },
            "type": "mesh3d"
           }
          ],
          "parcoords": [
           {
            "line": {
             "colorbar": {
              "outlinewidth": 0,
              "ticks": ""
             }
            },
            "type": "parcoords"
           }
          ],
          "pie": [
           {
            "automargin": true,
            "type": "pie"
           }
          ],
          "scatter": [
           {
            "fillpattern": {
             "fillmode": "overlay",
             "size": 10,
             "solidity": 0.2
            },
            "type": "scatter"
           }
          ],
          "scatter3d": [
           {
            "line": {
             "colorbar": {
              "outlinewidth": 0,
              "ticks": ""
             }
            },
            "marker": {
             "colorbar": {
              "outlinewidth": 0,
              "ticks": ""
             }
            },
            "type": "scatter3d"
           }
          ],
          "scattercarpet": [
           {
            "marker": {
             "colorbar": {
              "outlinewidth": 0,
              "ticks": ""
             }
            },
            "type": "scattercarpet"
           }
          ],
          "scattergeo": [
           {
            "marker": {
             "colorbar": {
              "outlinewidth": 0,
              "ticks": ""
             }
            },
            "type": "scattergeo"
           }
          ],
          "scattergl": [
           {
            "marker": {
             "colorbar": {
              "outlinewidth": 0,
              "ticks": ""
             }
            },
            "type": "scattergl"
           }
          ],
          "scattermapbox": [
           {
            "marker": {
             "colorbar": {
              "outlinewidth": 0,
              "ticks": ""
             }
            },
            "type": "scattermapbox"
           }
          ],
          "scatterpolar": [
           {
            "marker": {
             "colorbar": {
              "outlinewidth": 0,
              "ticks": ""
             }
            },
            "type": "scatterpolar"
           }
          ],
          "scatterpolargl": [
           {
            "marker": {
             "colorbar": {
              "outlinewidth": 0,
              "ticks": ""
             }
            },
            "type": "scatterpolargl"
           }
          ],
          "scatterternary": [
           {
            "marker": {
             "colorbar": {
              "outlinewidth": 0,
              "ticks": ""
             }
            },
            "type": "scatterternary"
           }
          ],
          "surface": [
           {
            "colorbar": {
             "outlinewidth": 0,
             "ticks": ""
            },
            "colorscale": [
             [
              0,
              "#0d0887"
             ],
             [
              0.1111111111111111,
              "#46039f"
             ],
             [
              0.2222222222222222,
              "#7201a8"
             ],
             [
              0.3333333333333333,
              "#9c179e"
             ],
             [
              0.4444444444444444,
              "#bd3786"
             ],
             [
              0.5555555555555556,
              "#d8576b"
             ],
             [
              0.6666666666666666,
              "#ed7953"
             ],
             [
              0.7777777777777778,
              "#fb9f3a"
             ],
             [
              0.8888888888888888,
              "#fdca26"
             ],
             [
              1,
              "#f0f921"
             ]
            ],
            "type": "surface"
           }
          ],
          "table": [
           {
            "cells": {
             "fill": {
              "color": "#EBF0F8"
             },
             "line": {
              "color": "white"
             }
            },
            "header": {
             "fill": {
              "color": "#C8D4E3"
             },
             "line": {
              "color": "white"
             }
            },
            "type": "table"
           }
          ]
         },
         "layout": {
          "annotationdefaults": {
           "arrowcolor": "#2a3f5f",
           "arrowhead": 0,
           "arrowwidth": 1
          },
          "autotypenumbers": "strict",
          "coloraxis": {
           "colorbar": {
            "outlinewidth": 0,
            "ticks": ""
           }
          },
          "colorscale": {
           "diverging": [
            [
             0,
             "#8e0152"
            ],
            [
             0.1,
             "#c51b7d"
            ],
            [
             0.2,
             "#de77ae"
            ],
            [
             0.3,
             "#f1b6da"
            ],
            [
             0.4,
             "#fde0ef"
            ],
            [
             0.5,
             "#f7f7f7"
            ],
            [
             0.6,
             "#e6f5d0"
            ],
            [
             0.7,
             "#b8e186"
            ],
            [
             0.8,
             "#7fbc41"
            ],
            [
             0.9,
             "#4d9221"
            ],
            [
             1,
             "#276419"
            ]
           ],
           "sequential": [
            [
             0,
             "#0d0887"
            ],
            [
             0.1111111111111111,
             "#46039f"
            ],
            [
             0.2222222222222222,
             "#7201a8"
            ],
            [
             0.3333333333333333,
             "#9c179e"
            ],
            [
             0.4444444444444444,
             "#bd3786"
            ],
            [
             0.5555555555555556,
             "#d8576b"
            ],
            [
             0.6666666666666666,
             "#ed7953"
            ],
            [
             0.7777777777777778,
             "#fb9f3a"
            ],
            [
             0.8888888888888888,
             "#fdca26"
            ],
            [
             1,
             "#f0f921"
            ]
           ],
           "sequentialminus": [
            [
             0,
             "#0d0887"
            ],
            [
             0.1111111111111111,
             "#46039f"
            ],
            [
             0.2222222222222222,
             "#7201a8"
            ],
            [
             0.3333333333333333,
             "#9c179e"
            ],
            [
             0.4444444444444444,
             "#bd3786"
            ],
            [
             0.5555555555555556,
             "#d8576b"
            ],
            [
             0.6666666666666666,
             "#ed7953"
            ],
            [
             0.7777777777777778,
             "#fb9f3a"
            ],
            [
             0.8888888888888888,
             "#fdca26"
            ],
            [
             1,
             "#f0f921"
            ]
           ]
          },
          "colorway": [
           "#636efa",
           "#EF553B",
           "#00cc96",
           "#ab63fa",
           "#FFA15A",
           "#19d3f3",
           "#FF6692",
           "#B6E880",
           "#FF97FF",
           "#FECB52"
          ],
          "font": {
           "color": "#2a3f5f"
          },
          "geo": {
           "bgcolor": "white",
           "lakecolor": "white",
           "landcolor": "#E5ECF6",
           "showlakes": true,
           "showland": true,
           "subunitcolor": "white"
          },
          "hoverlabel": {
           "align": "left"
          },
          "hovermode": "closest",
          "mapbox": {
           "style": "light"
          },
          "paper_bgcolor": "white",
          "plot_bgcolor": "#E5ECF6",
          "polar": {
           "angularaxis": {
            "gridcolor": "white",
            "linecolor": "white",
            "ticks": ""
           },
           "bgcolor": "#E5ECF6",
           "radialaxis": {
            "gridcolor": "white",
            "linecolor": "white",
            "ticks": ""
           }
          },
          "scene": {
           "xaxis": {
            "backgroundcolor": "#E5ECF6",
            "gridcolor": "white",
            "gridwidth": 2,
            "linecolor": "white",
            "showbackground": true,
            "ticks": "",
            "zerolinecolor": "white"
           },
           "yaxis": {
            "backgroundcolor": "#E5ECF6",
            "gridcolor": "white",
            "gridwidth": 2,
            "linecolor": "white",
            "showbackground": true,
            "ticks": "",
            "zerolinecolor": "white"
           },
           "zaxis": {
            "backgroundcolor": "#E5ECF6",
            "gridcolor": "white",
            "gridwidth": 2,
            "linecolor": "white",
            "showbackground": true,
            "ticks": "",
            "zerolinecolor": "white"
           }
          },
          "shapedefaults": {
           "line": {
            "color": "#2a3f5f"
           }
          },
          "ternary": {
           "aaxis": {
            "gridcolor": "white",
            "linecolor": "white",
            "ticks": ""
           },
           "baxis": {
            "gridcolor": "white",
            "linecolor": "white",
            "ticks": ""
           },
           "bgcolor": "#E5ECF6",
           "caxis": {
            "gridcolor": "white",
            "linecolor": "white",
            "ticks": ""
           }
          },
          "title": {
           "x": 0.05
          },
          "xaxis": {
           "automargin": true,
           "gridcolor": "white",
           "linecolor": "white",
           "ticks": "",
           "title": {
            "standoff": 15
           },
           "zerolinecolor": "white",
           "zerolinewidth": 2
          },
          "yaxis": {
           "automargin": true,
           "gridcolor": "white",
           "linecolor": "white",
           "ticks": "",
           "title": {
            "standoff": 15
           },
           "zerolinecolor": "white",
           "zerolinewidth": 2
          }
         }
        },
        "title": {
         "text": "Antal Fall per Vecka"
        },
        "xaxis": {
         "anchor": "y",
         "domain": [
          0,
          1
         ],
         "title": {
          "text": "Vecka"
         }
        },
        "yaxis": {
         "anchor": "x",
         "domain": [
          0,
          1
         ],
         "title": {
          "text": "Antal Personer"
         }
        }
       }
      }
     },
     "metadata": {},
     "output_type": "display_data"
    }
   ],
   "source": [
    "px.line(df, x = \"Vecka\", y = \"Antal_fall_vecka\", title = \"Antal Fall per Vecka\").update_layout(yaxis_title = \"Antal Personer\")"
   ]
  },
  {
   "cell_type": "code",
   "execution_count": 43,
   "metadata": {},
   "outputs": [
    {
     "data": {
      "application/vnd.plotly.v1+json": {
       "config": {
        "plotlyServerURL": "https://plot.ly"
       },
       "data": [
        {
         "hovertemplate": "variable=Antal_avlidna_vecka<br>Vecka=%{x}<br>value=%{y}<extra></extra>",
         "legendgroup": "Antal_avlidna_vecka",
         "line": {
          "color": "#636efa",
          "dash": "solid"
         },
         "marker": {
          "symbol": "circle"
         },
         "mode": "lines",
         "name": "Antal_avlidna_vecka",
         "orientation": "v",
         "showlegend": true,
         "type": "scatter",
         "x": [
          "2020v6",
          "2020v7",
          "2020v8",
          "2020v9",
          "2020v10",
          "2020v11",
          "2020v12",
          "2020v13",
          "2020v14",
          "2020v15",
          "2020v16",
          "2020v17",
          "2020v18",
          "2020v19",
          "2020v20",
          "2020v21",
          "2020v22",
          "2020v23",
          "2020v24",
          "2020v25",
          "2020v26",
          "2020v27",
          "2020v28",
          "2020v29",
          "2020v30",
          "2020v31",
          "2020v32",
          "2020v33",
          "2020v34",
          "2020v35",
          "2020v36",
          "2020v37",
          "2020v38",
          "2020v39",
          "2020v40",
          "2020v41",
          "2020v42",
          "2020v43",
          "2020v44",
          "2020v45",
          "2020v46",
          "2020v47",
          "2020v48",
          "2020v49",
          "2020v50",
          "2020v51",
          "2020v52",
          "2020v53",
          "2021v1",
          "2021v2",
          "2021v3",
          "2021v4",
          "2021v5",
          "2021v6",
          "2021v7",
          "2021v8",
          "2021v9",
          "2021v10",
          "2021v11",
          "2021v12",
          "2021v13",
          "2021v14",
          "2021v15",
          "2021v16",
          "2021v17",
          "2021v18",
          "2021v19",
          "2021v20",
          "2021v21",
          "2021v22",
          "2021v23",
          "2021v24",
          "2021v25",
          "2021v26",
          "2021v27",
          "2021v28",
          "2021v29",
          "2021v30",
          "2021v31",
          "2021v32",
          "2021v33",
          "2021v34",
          "2021v35",
          "2021v36",
          "2021v37",
          "2021v38",
          "2021v39",
          "2021v40",
          "2021v41",
          "2021v42",
          "2021v43",
          "2021v44",
          "2021v45",
          "2021v46",
          "2021v47",
          "2021v48",
          "2021v49",
          "2021v50",
          "2021v51",
          "2021v52",
          "2022v1",
          "2022v2",
          "2022v3",
          "2022v4",
          "2022v5",
          "2022v6",
          "2022v7",
          "2022v8",
          "2022v9",
          "2022v10",
          "2022v11",
          "2022v12",
          "2022v13",
          "2022v14",
          "2022v15",
          "2022v16",
          "2022v17",
          "2022v18",
          "2022v19",
          "2022v20",
          "2022v21",
          "2022v22",
          "2022v23",
          "2022v24",
          "2022v25",
          "2022v26",
          "2022v27",
          "2022v28",
          "2022v29",
          "2022v30",
          "2022v31",
          "2022v32",
          "2022v33",
          "2022v34",
          "2022v35",
          "2022v36",
          "2022v37",
          "2022v38",
          "2022v39",
          "2022v40",
          "2022v41",
          "2022v42"
         ],
         "xaxis": "x",
         "y": [
          0,
          0,
          0,
          0,
          0,
          5,
          44,
          190,
          451,
          664,
          657,
          546,
          543,
          509,
          380,
          360,
          272,
          246,
          234,
          200,
          138,
          98,
          84,
          57,
          30,
          18,
          18,
          16,
          19,
          10,
          12,
          13,
          12,
          11,
          17,
          22,
          16,
          43,
          82,
          157,
          235,
          332,
          417,
          476,
          500,
          645,
          643,
          663,
          644,
          598,
          513,
          389,
          269,
          205,
          172,
          146,
          129,
          141,
          127,
          126,
          142,
          133,
          141,
          131,
          115,
          107,
          111,
          70,
          47,
          39,
          22,
          17,
          9,
          8,
          3,
          2,
          3,
          4,
          7,
          7,
          11,
          20,
          25,
          49,
          51,
          43,
          39,
          49,
          32,
          23,
          30,
          33,
          31,
          30,
          15,
          29,
          38,
          49,
          44,
          70,
          130,
          172,
          243,
          301,
          359,
          329,
          361,
          319,
          273,
          204,
          195,
          157,
          122,
          120,
          71,
          70,
          51,
          52,
          42,
          41,
          26,
          23,
          28,
          22,
          36,
          42,
          59,
          62,
          114,
          95,
          110,
          119,
          133,
          85,
          96,
          85,
          95,
          88,
          92,
          88,
          73,
          25
         ],
         "yaxis": "y"
        },
        {
         "hovertemplate": "variable=Antal_fall_vecka<br>Vecka=%{x}<br>value=%{y}<extra></extra>",
         "legendgroup": "Antal_fall_vecka",
         "line": {
          "color": "#EF553B",
          "dash": "solid"
         },
         "marker": {
          "symbol": "circle"
         },
         "mode": "lines",
         "name": "Antal_fall_vecka",
         "orientation": "v",
         "showlegend": true,
         "type": "scatter",
         "x": [
          "2020v6",
          "2020v7",
          "2020v8",
          "2020v9",
          "2020v10",
          "2020v11",
          "2020v12",
          "2020v13",
          "2020v14",
          "2020v15",
          "2020v16",
          "2020v17",
          "2020v18",
          "2020v19",
          "2020v20",
          "2020v21",
          "2020v22",
          "2020v23",
          "2020v24",
          "2020v25",
          "2020v26",
          "2020v27",
          "2020v28",
          "2020v29",
          "2020v30",
          "2020v31",
          "2020v32",
          "2020v33",
          "2020v34",
          "2020v35",
          "2020v36",
          "2020v37",
          "2020v38",
          "2020v39",
          "2020v40",
          "2020v41",
          "2020v42",
          "2020v43",
          "2020v44",
          "2020v45",
          "2020v46",
          "2020v47",
          "2020v48",
          "2020v49",
          "2020v50",
          "2020v51",
          "2020v52",
          "2020v53",
          "2021v1",
          "2021v2",
          "2021v3",
          "2021v4",
          "2021v5",
          "2021v6",
          "2021v7",
          "2021v8",
          "2021v9",
          "2021v10",
          "2021v11",
          "2021v12",
          "2021v13",
          "2021v14",
          "2021v15",
          "2021v16",
          "2021v17",
          "2021v18",
          "2021v19",
          "2021v20",
          "2021v21",
          "2021v22",
          "2021v23",
          "2021v24",
          "2021v25",
          "2021v26",
          "2021v27",
          "2021v28",
          "2021v29",
          "2021v30",
          "2021v31",
          "2021v32",
          "2021v33",
          "2021v34",
          "2021v35",
          "2021v36",
          "2021v37",
          "2021v38",
          "2021v39",
          "2021v40",
          "2021v41",
          "2021v42",
          "2021v43",
          "2021v44",
          "2021v45",
          "2021v46",
          "2021v47",
          "2021v48",
          "2021v49",
          "2021v50",
          "2021v51",
          "2021v52",
          "2022v1",
          "2022v2",
          "2022v3",
          "2022v4",
          "2022v5",
          "2022v6",
          "2022v7",
          "2022v8",
          "2022v9",
          "2022v10",
          "2022v11",
          "2022v12",
          "2022v13",
          "2022v14",
          "2022v15",
          "2022v16",
          "2022v17",
          "2022v18",
          "2022v19",
          "2022v20",
          "2022v21",
          "2022v22",
          "2022v23",
          "2022v24",
          "2022v25",
          "2022v26",
          "2022v27",
          "2022v28",
          "2022v29",
          "2022v30",
          "2022v31",
          "2022v32",
          "2022v33",
          "2022v34",
          "2022v35",
          "2022v36",
          "2022v37",
          "2022v38",
          "2022v39",
          "2022v40",
          "2022v41",
          "2022v42"
         ],
         "xaxis": "x",
         "y": [
          1,
          0,
          0,
          13,
          211,
          838,
          924,
          1957,
          3229,
          3740,
          3752,
          4203,
          3832,
          4153,
          3869,
          3659,
          4280,
          6021,
          7123,
          7073,
          7455,
          4279,
          2179,
          1622,
          1316,
          1556,
          2014,
          2052,
          1687,
          1200,
          1332,
          1592,
          2080,
          2919,
          3642,
          4278,
          5620,
          9155,
          18474,
          25405,
          31319,
          31944,
          35560,
          36837,
          43631,
          46177,
          37134,
          41323,
          39446,
          28935,
          23222,
          20654,
          19604,
          21282,
          23613,
          26680,
          27739,
          28555,
          33032,
          37880,
          38384,
          41142,
          41036,
          36030,
          35306,
          33678,
          25914,
          18170,
          7974,
          9094,
          4394,
          2848,
          1983,
          1870,
          1514,
          1883,
          2661,
          3460,
          4609,
          5817,
          6463,
          6685,
          7236,
          7968,
          6259,
          4305,
          4231,
          4137,
          4069,
          5194,
          5910,
          5060,
          5819,
          7093,
          11915,
          13801,
          18649,
          24485,
          27907,
          59341,
          125275,
          164692,
          256323,
          265043,
          185716,
          62338,
          22160,
          17676,
          12587,
          10110,
          8502,
          7040,
          4952,
          4091,
          3070,
          2525,
          2319,
          1940,
          1656,
          1817,
          1316,
          1255,
          1896,
          2165,
          3090,
          4118,
          4236,
          5442,
          5951,
          5705,
          6235,
          6638,
          6320,
          4868,
          4485,
          4712,
          4978,
          4669,
          13532,
          3999,
          3408,
          3279
         ],
         "yaxis": "y"
        }
       ],
       "layout": {
        "legend": {
         "title": {
          "text": "variable"
         },
         "tracegroupgap": 0
        },
        "template": {
         "data": {
          "bar": [
           {
            "error_x": {
             "color": "#2a3f5f"
            },
            "error_y": {
             "color": "#2a3f5f"
            },
            "marker": {
             "line": {
              "color": "#E5ECF6",
              "width": 0.5
             },
             "pattern": {
              "fillmode": "overlay",
              "size": 10,
              "solidity": 0.2
             }
            },
            "type": "bar"
           }
          ],
          "barpolar": [
           {
            "marker": {
             "line": {
              "color": "#E5ECF6",
              "width": 0.5
             },
             "pattern": {
              "fillmode": "overlay",
              "size": 10,
              "solidity": 0.2
             }
            },
            "type": "barpolar"
           }
          ],
          "carpet": [
           {
            "aaxis": {
             "endlinecolor": "#2a3f5f",
             "gridcolor": "white",
             "linecolor": "white",
             "minorgridcolor": "white",
             "startlinecolor": "#2a3f5f"
            },
            "baxis": {
             "endlinecolor": "#2a3f5f",
             "gridcolor": "white",
             "linecolor": "white",
             "minorgridcolor": "white",
             "startlinecolor": "#2a3f5f"
            },
            "type": "carpet"
           }
          ],
          "choropleth": [
           {
            "colorbar": {
             "outlinewidth": 0,
             "ticks": ""
            },
            "type": "choropleth"
           }
          ],
          "contour": [
           {
            "colorbar": {
             "outlinewidth": 0,
             "ticks": ""
            },
            "colorscale": [
             [
              0,
              "#0d0887"
             ],
             [
              0.1111111111111111,
              "#46039f"
             ],
             [
              0.2222222222222222,
              "#7201a8"
             ],
             [
              0.3333333333333333,
              "#9c179e"
             ],
             [
              0.4444444444444444,
              "#bd3786"
             ],
             [
              0.5555555555555556,
              "#d8576b"
             ],
             [
              0.6666666666666666,
              "#ed7953"
             ],
             [
              0.7777777777777778,
              "#fb9f3a"
             ],
             [
              0.8888888888888888,
              "#fdca26"
             ],
             [
              1,
              "#f0f921"
             ]
            ],
            "type": "contour"
           }
          ],
          "contourcarpet": [
           {
            "colorbar": {
             "outlinewidth": 0,
             "ticks": ""
            },
            "type": "contourcarpet"
           }
          ],
          "heatmap": [
           {
            "colorbar": {
             "outlinewidth": 0,
             "ticks": ""
            },
            "colorscale": [
             [
              0,
              "#0d0887"
             ],
             [
              0.1111111111111111,
              "#46039f"
             ],
             [
              0.2222222222222222,
              "#7201a8"
             ],
             [
              0.3333333333333333,
              "#9c179e"
             ],
             [
              0.4444444444444444,
              "#bd3786"
             ],
             [
              0.5555555555555556,
              "#d8576b"
             ],
             [
              0.6666666666666666,
              "#ed7953"
             ],
             [
              0.7777777777777778,
              "#fb9f3a"
             ],
             [
              0.8888888888888888,
              "#fdca26"
             ],
             [
              1,
              "#f0f921"
             ]
            ],
            "type": "heatmap"
           }
          ],
          "heatmapgl": [
           {
            "colorbar": {
             "outlinewidth": 0,
             "ticks": ""
            },
            "colorscale": [
             [
              0,
              "#0d0887"
             ],
             [
              0.1111111111111111,
              "#46039f"
             ],
             [
              0.2222222222222222,
              "#7201a8"
             ],
             [
              0.3333333333333333,
              "#9c179e"
             ],
             [
              0.4444444444444444,
              "#bd3786"
             ],
             [
              0.5555555555555556,
              "#d8576b"
             ],
             [
              0.6666666666666666,
              "#ed7953"
             ],
             [
              0.7777777777777778,
              "#fb9f3a"
             ],
             [
              0.8888888888888888,
              "#fdca26"
             ],
             [
              1,
              "#f0f921"
             ]
            ],
            "type": "heatmapgl"
           }
          ],
          "histogram": [
           {
            "marker": {
             "pattern": {
              "fillmode": "overlay",
              "size": 10,
              "solidity": 0.2
             }
            },
            "type": "histogram"
           }
          ],
          "histogram2d": [
           {
            "colorbar": {
             "outlinewidth": 0,
             "ticks": ""
            },
            "colorscale": [
             [
              0,
              "#0d0887"
             ],
             [
              0.1111111111111111,
              "#46039f"
             ],
             [
              0.2222222222222222,
              "#7201a8"
             ],
             [
              0.3333333333333333,
              "#9c179e"
             ],
             [
              0.4444444444444444,
              "#bd3786"
             ],
             [
              0.5555555555555556,
              "#d8576b"
             ],
             [
              0.6666666666666666,
              "#ed7953"
             ],
             [
              0.7777777777777778,
              "#fb9f3a"
             ],
             [
              0.8888888888888888,
              "#fdca26"
             ],
             [
              1,
              "#f0f921"
             ]
            ],
            "type": "histogram2d"
           }
          ],
          "histogram2dcontour": [
           {
            "colorbar": {
             "outlinewidth": 0,
             "ticks": ""
            },
            "colorscale": [
             [
              0,
              "#0d0887"
             ],
             [
              0.1111111111111111,
              "#46039f"
             ],
             [
              0.2222222222222222,
              "#7201a8"
             ],
             [
              0.3333333333333333,
              "#9c179e"
             ],
             [
              0.4444444444444444,
              "#bd3786"
             ],
             [
              0.5555555555555556,
              "#d8576b"
             ],
             [
              0.6666666666666666,
              "#ed7953"
             ],
             [
              0.7777777777777778,
              "#fb9f3a"
             ],
             [
              0.8888888888888888,
              "#fdca26"
             ],
             [
              1,
              "#f0f921"
             ]
            ],
            "type": "histogram2dcontour"
           }
          ],
          "mesh3d": [
           {
            "colorbar": {
             "outlinewidth": 0,
             "ticks": ""
            },
            "type": "mesh3d"
           }
          ],
          "parcoords": [
           {
            "line": {
             "colorbar": {
              "outlinewidth": 0,
              "ticks": ""
             }
            },
            "type": "parcoords"
           }
          ],
          "pie": [
           {
            "automargin": true,
            "type": "pie"
           }
          ],
          "scatter": [
           {
            "fillpattern": {
             "fillmode": "overlay",
             "size": 10,
             "solidity": 0.2
            },
            "type": "scatter"
           }
          ],
          "scatter3d": [
           {
            "line": {
             "colorbar": {
              "outlinewidth": 0,
              "ticks": ""
             }
            },
            "marker": {
             "colorbar": {
              "outlinewidth": 0,
              "ticks": ""
             }
            },
            "type": "scatter3d"
           }
          ],
          "scattercarpet": [
           {
            "marker": {
             "colorbar": {
              "outlinewidth": 0,
              "ticks": ""
             }
            },
            "type": "scattercarpet"
           }
          ],
          "scattergeo": [
           {
            "marker": {
             "colorbar": {
              "outlinewidth": 0,
              "ticks": ""
             }
            },
            "type": "scattergeo"
           }
          ],
          "scattergl": [
           {
            "marker": {
             "colorbar": {
              "outlinewidth": 0,
              "ticks": ""
             }
            },
            "type": "scattergl"
           }
          ],
          "scattermapbox": [
           {
            "marker": {
             "colorbar": {
              "outlinewidth": 0,
              "ticks": ""
             }
            },
            "type": "scattermapbox"
           }
          ],
          "scatterpolar": [
           {
            "marker": {
             "colorbar": {
              "outlinewidth": 0,
              "ticks": ""
             }
            },
            "type": "scatterpolar"
           }
          ],
          "scatterpolargl": [
           {
            "marker": {
             "colorbar": {
              "outlinewidth": 0,
              "ticks": ""
             }
            },
            "type": "scatterpolargl"
           }
          ],
          "scatterternary": [
           {
            "marker": {
             "colorbar": {
              "outlinewidth": 0,
              "ticks": ""
             }
            },
            "type": "scatterternary"
           }
          ],
          "surface": [
           {
            "colorbar": {
             "outlinewidth": 0,
             "ticks": ""
            },
            "colorscale": [
             [
              0,
              "#0d0887"
             ],
             [
              0.1111111111111111,
              "#46039f"
             ],
             [
              0.2222222222222222,
              "#7201a8"
             ],
             [
              0.3333333333333333,
              "#9c179e"
             ],
             [
              0.4444444444444444,
              "#bd3786"
             ],
             [
              0.5555555555555556,
              "#d8576b"
             ],
             [
              0.6666666666666666,
              "#ed7953"
             ],
             [
              0.7777777777777778,
              "#fb9f3a"
             ],
             [
              0.8888888888888888,
              "#fdca26"
             ],
             [
              1,
              "#f0f921"
             ]
            ],
            "type": "surface"
           }
          ],
          "table": [
           {
            "cells": {
             "fill": {
              "color": "#EBF0F8"
             },
             "line": {
              "color": "white"
             }
            },
            "header": {
             "fill": {
              "color": "#C8D4E3"
             },
             "line": {
              "color": "white"
             }
            },
            "type": "table"
           }
          ]
         },
         "layout": {
          "annotationdefaults": {
           "arrowcolor": "#2a3f5f",
           "arrowhead": 0,
           "arrowwidth": 1
          },
          "autotypenumbers": "strict",
          "coloraxis": {
           "colorbar": {
            "outlinewidth": 0,
            "ticks": ""
           }
          },
          "colorscale": {
           "diverging": [
            [
             0,
             "#8e0152"
            ],
            [
             0.1,
             "#c51b7d"
            ],
            [
             0.2,
             "#de77ae"
            ],
            [
             0.3,
             "#f1b6da"
            ],
            [
             0.4,
             "#fde0ef"
            ],
            [
             0.5,
             "#f7f7f7"
            ],
            [
             0.6,
             "#e6f5d0"
            ],
            [
             0.7,
             "#b8e186"
            ],
            [
             0.8,
             "#7fbc41"
            ],
            [
             0.9,
             "#4d9221"
            ],
            [
             1,
             "#276419"
            ]
           ],
           "sequential": [
            [
             0,
             "#0d0887"
            ],
            [
             0.1111111111111111,
             "#46039f"
            ],
            [
             0.2222222222222222,
             "#7201a8"
            ],
            [
             0.3333333333333333,
             "#9c179e"
            ],
            [
             0.4444444444444444,
             "#bd3786"
            ],
            [
             0.5555555555555556,
             "#d8576b"
            ],
            [
             0.6666666666666666,
             "#ed7953"
            ],
            [
             0.7777777777777778,
             "#fb9f3a"
            ],
            [
             0.8888888888888888,
             "#fdca26"
            ],
            [
             1,
             "#f0f921"
            ]
           ],
           "sequentialminus": [
            [
             0,
             "#0d0887"
            ],
            [
             0.1111111111111111,
             "#46039f"
            ],
            [
             0.2222222222222222,
             "#7201a8"
            ],
            [
             0.3333333333333333,
             "#9c179e"
            ],
            [
             0.4444444444444444,
             "#bd3786"
            ],
            [
             0.5555555555555556,
             "#d8576b"
            ],
            [
             0.6666666666666666,
             "#ed7953"
            ],
            [
             0.7777777777777778,
             "#fb9f3a"
            ],
            [
             0.8888888888888888,
             "#fdca26"
            ],
            [
             1,
             "#f0f921"
            ]
           ]
          },
          "colorway": [
           "#636efa",
           "#EF553B",
           "#00cc96",
           "#ab63fa",
           "#FFA15A",
           "#19d3f3",
           "#FF6692",
           "#B6E880",
           "#FF97FF",
           "#FECB52"
          ],
          "font": {
           "color": "#2a3f5f"
          },
          "geo": {
           "bgcolor": "white",
           "lakecolor": "white",
           "landcolor": "#E5ECF6",
           "showlakes": true,
           "showland": true,
           "subunitcolor": "white"
          },
          "hoverlabel": {
           "align": "left"
          },
          "hovermode": "closest",
          "mapbox": {
           "style": "light"
          },
          "paper_bgcolor": "white",
          "plot_bgcolor": "#E5ECF6",
          "polar": {
           "angularaxis": {
            "gridcolor": "white",
            "linecolor": "white",
            "ticks": ""
           },
           "bgcolor": "#E5ECF6",
           "radialaxis": {
            "gridcolor": "white",
            "linecolor": "white",
            "ticks": ""
           }
          },
          "scene": {
           "xaxis": {
            "backgroundcolor": "#E5ECF6",
            "gridcolor": "white",
            "gridwidth": 2,
            "linecolor": "white",
            "showbackground": true,
            "ticks": "",
            "zerolinecolor": "white"
           },
           "yaxis": {
            "backgroundcolor": "#E5ECF6",
            "gridcolor": "white",
            "gridwidth": 2,
            "linecolor": "white",
            "showbackground": true,
            "ticks": "",
            "zerolinecolor": "white"
           },
           "zaxis": {
            "backgroundcolor": "#E5ECF6",
            "gridcolor": "white",
            "gridwidth": 2,
            "linecolor": "white",
            "showbackground": true,
            "ticks": "",
            "zerolinecolor": "white"
           }
          },
          "shapedefaults": {
           "line": {
            "color": "#2a3f5f"
           }
          },
          "ternary": {
           "aaxis": {
            "gridcolor": "white",
            "linecolor": "white",
            "ticks": ""
           },
           "baxis": {
            "gridcolor": "white",
            "linecolor": "white",
            "ticks": ""
           },
           "bgcolor": "#E5ECF6",
           "caxis": {
            "gridcolor": "white",
            "linecolor": "white",
            "ticks": ""
           }
          },
          "title": {
           "x": 0.05
          },
          "xaxis": {
           "automargin": true,
           "gridcolor": "white",
           "linecolor": "white",
           "ticks": "",
           "title": {
            "standoff": 15
           },
           "zerolinecolor": "white",
           "zerolinewidth": 2
          },
          "yaxis": {
           "automargin": true,
           "gridcolor": "white",
           "linecolor": "white",
           "ticks": "",
           "title": {
            "standoff": 15
           },
           "zerolinecolor": "white",
           "zerolinewidth": 2
          }
         }
        },
        "title": {
         "text": "Antal Avlidna och Fall per Vecka"
        },
        "xaxis": {
         "anchor": "y",
         "domain": [
          0,
          1
         ],
         "title": {
          "text": "Vecka"
         }
        },
        "yaxis": {
         "anchor": "x",
         "domain": [
          0,
          1
         ],
         "title": {
          "text": "Antal Personer"
         }
        }
       }
      }
     },
     "metadata": {},
     "output_type": "display_data"
    }
   ],
   "source": [
    "px.line(df, x = \"Vecka\", y = [\"Antal_avlidna_vecka\",\"Antal_fall_vecka\"], title = \"Antal Avlidna och Fall per Vecka\").update_layout(yaxis_title = \"Antal Personer\")"
   ]
  },
  {
   "cell_type": "code",
   "execution_count": 44,
   "metadata": {},
   "outputs": [
    {
     "data": {
      "application/vnd.plotly.v1+json": {
       "config": {
        "plotlyServerURL": "https://plot.ly"
       },
       "data": [
        {
         "hovertemplate": "Vecka=%{x}<br>Kum_antal_fall=%{y}<extra></extra>",
         "legendgroup": "",
         "line": {
          "color": "#636efa",
          "dash": "solid"
         },
         "marker": {
          "symbol": "circle"
         },
         "mode": "lines",
         "name": "",
         "orientation": "v",
         "showlegend": false,
         "type": "scatter",
         "x": [
          "2020v6",
          "2020v7",
          "2020v8",
          "2020v9",
          "2020v10",
          "2020v11",
          "2020v12",
          "2020v13",
          "2020v14",
          "2020v15",
          "2020v16",
          "2020v17",
          "2020v18",
          "2020v19",
          "2020v20",
          "2020v21",
          "2020v22",
          "2020v23",
          "2020v24",
          "2020v25",
          "2020v26",
          "2020v27",
          "2020v28",
          "2020v29",
          "2020v30",
          "2020v31",
          "2020v32",
          "2020v33",
          "2020v34",
          "2020v35",
          "2020v36",
          "2020v37",
          "2020v38",
          "2020v39",
          "2020v40",
          "2020v41",
          "2020v42",
          "2020v43",
          "2020v44",
          "2020v45",
          "2020v46",
          "2020v47",
          "2020v48",
          "2020v49",
          "2020v50",
          "2020v51",
          "2020v52",
          "2020v53",
          "2021v1",
          "2021v2",
          "2021v3",
          "2021v4",
          "2021v5",
          "2021v6",
          "2021v7",
          "2021v8",
          "2021v9",
          "2021v10",
          "2021v11",
          "2021v12",
          "2021v13",
          "2021v14",
          "2021v15",
          "2021v16",
          "2021v17",
          "2021v18",
          "2021v19",
          "2021v20",
          "2021v21",
          "2021v22",
          "2021v23",
          "2021v24",
          "2021v25",
          "2021v26",
          "2021v27",
          "2021v28",
          "2021v29",
          "2021v30",
          "2021v31",
          "2021v32",
          "2021v33",
          "2021v34",
          "2021v35",
          "2021v36",
          "2021v37",
          "2021v38",
          "2021v39",
          "2021v40",
          "2021v41",
          "2021v42",
          "2021v43",
          "2021v44",
          "2021v45",
          "2021v46",
          "2021v47",
          "2021v48",
          "2021v49",
          "2021v50",
          "2021v51",
          "2021v52",
          "2022v1",
          "2022v2",
          "2022v3",
          "2022v4",
          "2022v5",
          "2022v6",
          "2022v7",
          "2022v8",
          "2022v9",
          "2022v10",
          "2022v11",
          "2022v12",
          "2022v13",
          "2022v14",
          "2022v15",
          "2022v16",
          "2022v17",
          "2022v18",
          "2022v19",
          "2022v20",
          "2022v21",
          "2022v22",
          "2022v23",
          "2022v24",
          "2022v25",
          "2022v26",
          "2022v27",
          "2022v28",
          "2022v29",
          "2022v30",
          "2022v31",
          "2022v32",
          "2022v33",
          "2022v34",
          "2022v35",
          "2022v36",
          "2022v37",
          "2022v38",
          "2022v39",
          "2022v40",
          "2022v41",
          "2022v42"
         ],
         "xaxis": "x",
         "y": [
          1,
          1,
          1,
          14,
          225,
          1063,
          1987,
          3944,
          7173,
          10913,
          14665,
          18868,
          22700,
          26853,
          30722,
          34381,
          38661,
          44682,
          51805,
          58878,
          66333,
          70612,
          72791,
          74413,
          75729,
          77285,
          79299,
          81351,
          83038,
          84238,
          85570,
          87162,
          89242,
          92161,
          95803,
          100081,
          105701,
          114856,
          133330,
          158735,
          190054,
          221998,
          257558,
          294395,
          338026,
          384203,
          421337,
          462660,
          502106,
          531041,
          554263,
          574917,
          594521,
          615803,
          639416,
          666096,
          693835,
          722390,
          755422,
          793302,
          831686,
          872828,
          913864,
          949894,
          985200,
          1018878,
          1044792,
          1062962,
          1070936,
          1080030,
          1084424,
          1087272,
          1089255,
          1091125,
          1092639,
          1094522,
          1097183,
          1100643,
          1105252,
          1111069,
          1117532,
          1124217,
          1131453,
          1139421,
          1145680,
          1149985,
          1154216,
          1158353,
          1162422,
          1167616,
          1173526,
          1178586,
          1184405,
          1191498,
          1203413,
          1217214,
          1235863,
          1260348,
          1288255,
          1347596,
          1472871,
          1637563,
          1893886,
          2158929,
          2344645,
          2406983,
          2429143,
          2446819,
          2459406,
          2469516,
          2478018,
          2485058,
          2490010,
          2494101,
          2497171,
          2499696,
          2502015,
          2503955,
          2505611,
          2507428,
          2508744,
          2509999,
          2511895,
          2514060,
          2517150,
          2521268,
          2525504,
          2530946,
          2536897,
          2542602,
          2548837,
          2555475,
          2561795,
          2566663,
          2571148,
          2575860,
          2580838,
          2585507,
          2599039,
          2603038,
          2606446,
          2609725
         ],
         "yaxis": "y"
        }
       ],
       "layout": {
        "legend": {
         "tracegroupgap": 0
        },
        "template": {
         "data": {
          "bar": [
           {
            "error_x": {
             "color": "#2a3f5f"
            },
            "error_y": {
             "color": "#2a3f5f"
            },
            "marker": {
             "line": {
              "color": "#E5ECF6",
              "width": 0.5
             },
             "pattern": {
              "fillmode": "overlay",
              "size": 10,
              "solidity": 0.2
             }
            },
            "type": "bar"
           }
          ],
          "barpolar": [
           {
            "marker": {
             "line": {
              "color": "#E5ECF6",
              "width": 0.5
             },
             "pattern": {
              "fillmode": "overlay",
              "size": 10,
              "solidity": 0.2
             }
            },
            "type": "barpolar"
           }
          ],
          "carpet": [
           {
            "aaxis": {
             "endlinecolor": "#2a3f5f",
             "gridcolor": "white",
             "linecolor": "white",
             "minorgridcolor": "white",
             "startlinecolor": "#2a3f5f"
            },
            "baxis": {
             "endlinecolor": "#2a3f5f",
             "gridcolor": "white",
             "linecolor": "white",
             "minorgridcolor": "white",
             "startlinecolor": "#2a3f5f"
            },
            "type": "carpet"
           }
          ],
          "choropleth": [
           {
            "colorbar": {
             "outlinewidth": 0,
             "ticks": ""
            },
            "type": "choropleth"
           }
          ],
          "contour": [
           {
            "colorbar": {
             "outlinewidth": 0,
             "ticks": ""
            },
            "colorscale": [
             [
              0,
              "#0d0887"
             ],
             [
              0.1111111111111111,
              "#46039f"
             ],
             [
              0.2222222222222222,
              "#7201a8"
             ],
             [
              0.3333333333333333,
              "#9c179e"
             ],
             [
              0.4444444444444444,
              "#bd3786"
             ],
             [
              0.5555555555555556,
              "#d8576b"
             ],
             [
              0.6666666666666666,
              "#ed7953"
             ],
             [
              0.7777777777777778,
              "#fb9f3a"
             ],
             [
              0.8888888888888888,
              "#fdca26"
             ],
             [
              1,
              "#f0f921"
             ]
            ],
            "type": "contour"
           }
          ],
          "contourcarpet": [
           {
            "colorbar": {
             "outlinewidth": 0,
             "ticks": ""
            },
            "type": "contourcarpet"
           }
          ],
          "heatmap": [
           {
            "colorbar": {
             "outlinewidth": 0,
             "ticks": ""
            },
            "colorscale": [
             [
              0,
              "#0d0887"
             ],
             [
              0.1111111111111111,
              "#46039f"
             ],
             [
              0.2222222222222222,
              "#7201a8"
             ],
             [
              0.3333333333333333,
              "#9c179e"
             ],
             [
              0.4444444444444444,
              "#bd3786"
             ],
             [
              0.5555555555555556,
              "#d8576b"
             ],
             [
              0.6666666666666666,
              "#ed7953"
             ],
             [
              0.7777777777777778,
              "#fb9f3a"
             ],
             [
              0.8888888888888888,
              "#fdca26"
             ],
             [
              1,
              "#f0f921"
             ]
            ],
            "type": "heatmap"
           }
          ],
          "heatmapgl": [
           {
            "colorbar": {
             "outlinewidth": 0,
             "ticks": ""
            },
            "colorscale": [
             [
              0,
              "#0d0887"
             ],
             [
              0.1111111111111111,
              "#46039f"
             ],
             [
              0.2222222222222222,
              "#7201a8"
             ],
             [
              0.3333333333333333,
              "#9c179e"
             ],
             [
              0.4444444444444444,
              "#bd3786"
             ],
             [
              0.5555555555555556,
              "#d8576b"
             ],
             [
              0.6666666666666666,
              "#ed7953"
             ],
             [
              0.7777777777777778,
              "#fb9f3a"
             ],
             [
              0.8888888888888888,
              "#fdca26"
             ],
             [
              1,
              "#f0f921"
             ]
            ],
            "type": "heatmapgl"
           }
          ],
          "histogram": [
           {
            "marker": {
             "pattern": {
              "fillmode": "overlay",
              "size": 10,
              "solidity": 0.2
             }
            },
            "type": "histogram"
           }
          ],
          "histogram2d": [
           {
            "colorbar": {
             "outlinewidth": 0,
             "ticks": ""
            },
            "colorscale": [
             [
              0,
              "#0d0887"
             ],
             [
              0.1111111111111111,
              "#46039f"
             ],
             [
              0.2222222222222222,
              "#7201a8"
             ],
             [
              0.3333333333333333,
              "#9c179e"
             ],
             [
              0.4444444444444444,
              "#bd3786"
             ],
             [
              0.5555555555555556,
              "#d8576b"
             ],
             [
              0.6666666666666666,
              "#ed7953"
             ],
             [
              0.7777777777777778,
              "#fb9f3a"
             ],
             [
              0.8888888888888888,
              "#fdca26"
             ],
             [
              1,
              "#f0f921"
             ]
            ],
            "type": "histogram2d"
           }
          ],
          "histogram2dcontour": [
           {
            "colorbar": {
             "outlinewidth": 0,
             "ticks": ""
            },
            "colorscale": [
             [
              0,
              "#0d0887"
             ],
             [
              0.1111111111111111,
              "#46039f"
             ],
             [
              0.2222222222222222,
              "#7201a8"
             ],
             [
              0.3333333333333333,
              "#9c179e"
             ],
             [
              0.4444444444444444,
              "#bd3786"
             ],
             [
              0.5555555555555556,
              "#d8576b"
             ],
             [
              0.6666666666666666,
              "#ed7953"
             ],
             [
              0.7777777777777778,
              "#fb9f3a"
             ],
             [
              0.8888888888888888,
              "#fdca26"
             ],
             [
              1,
              "#f0f921"
             ]
            ],
            "type": "histogram2dcontour"
           }
          ],
          "mesh3d": [
           {
            "colorbar": {
             "outlinewidth": 0,
             "ticks": ""
            },
            "type": "mesh3d"
           }
          ],
          "parcoords": [
           {
            "line": {
             "colorbar": {
              "outlinewidth": 0,
              "ticks": ""
             }
            },
            "type": "parcoords"
           }
          ],
          "pie": [
           {
            "automargin": true,
            "type": "pie"
           }
          ],
          "scatter": [
           {
            "fillpattern": {
             "fillmode": "overlay",
             "size": 10,
             "solidity": 0.2
            },
            "type": "scatter"
           }
          ],
          "scatter3d": [
           {
            "line": {
             "colorbar": {
              "outlinewidth": 0,
              "ticks": ""
             }
            },
            "marker": {
             "colorbar": {
              "outlinewidth": 0,
              "ticks": ""
             }
            },
            "type": "scatter3d"
           }
          ],
          "scattercarpet": [
           {
            "marker": {
             "colorbar": {
              "outlinewidth": 0,
              "ticks": ""
             }
            },
            "type": "scattercarpet"
           }
          ],
          "scattergeo": [
           {
            "marker": {
             "colorbar": {
              "outlinewidth": 0,
              "ticks": ""
             }
            },
            "type": "scattergeo"
           }
          ],
          "scattergl": [
           {
            "marker": {
             "colorbar": {
              "outlinewidth": 0,
              "ticks": ""
             }
            },
            "type": "scattergl"
           }
          ],
          "scattermapbox": [
           {
            "marker": {
             "colorbar": {
              "outlinewidth": 0,
              "ticks": ""
             }
            },
            "type": "scattermapbox"
           }
          ],
          "scatterpolar": [
           {
            "marker": {
             "colorbar": {
              "outlinewidth": 0,
              "ticks": ""
             }
            },
            "type": "scatterpolar"
           }
          ],
          "scatterpolargl": [
           {
            "marker": {
             "colorbar": {
              "outlinewidth": 0,
              "ticks": ""
             }
            },
            "type": "scatterpolargl"
           }
          ],
          "scatterternary": [
           {
            "marker": {
             "colorbar": {
              "outlinewidth": 0,
              "ticks": ""
             }
            },
            "type": "scatterternary"
           }
          ],
          "surface": [
           {
            "colorbar": {
             "outlinewidth": 0,
             "ticks": ""
            },
            "colorscale": [
             [
              0,
              "#0d0887"
             ],
             [
              0.1111111111111111,
              "#46039f"
             ],
             [
              0.2222222222222222,
              "#7201a8"
             ],
             [
              0.3333333333333333,
              "#9c179e"
             ],
             [
              0.4444444444444444,
              "#bd3786"
             ],
             [
              0.5555555555555556,
              "#d8576b"
             ],
             [
              0.6666666666666666,
              "#ed7953"
             ],
             [
              0.7777777777777778,
              "#fb9f3a"
             ],
             [
              0.8888888888888888,
              "#fdca26"
             ],
             [
              1,
              "#f0f921"
             ]
            ],
            "type": "surface"
           }
          ],
          "table": [
           {
            "cells": {
             "fill": {
              "color": "#EBF0F8"
             },
             "line": {
              "color": "white"
             }
            },
            "header": {
             "fill": {
              "color": "#C8D4E3"
             },
             "line": {
              "color": "white"
             }
            },
            "type": "table"
           }
          ]
         },
         "layout": {
          "annotationdefaults": {
           "arrowcolor": "#2a3f5f",
           "arrowhead": 0,
           "arrowwidth": 1
          },
          "autotypenumbers": "strict",
          "coloraxis": {
           "colorbar": {
            "outlinewidth": 0,
            "ticks": ""
           }
          },
          "colorscale": {
           "diverging": [
            [
             0,
             "#8e0152"
            ],
            [
             0.1,
             "#c51b7d"
            ],
            [
             0.2,
             "#de77ae"
            ],
            [
             0.3,
             "#f1b6da"
            ],
            [
             0.4,
             "#fde0ef"
            ],
            [
             0.5,
             "#f7f7f7"
            ],
            [
             0.6,
             "#e6f5d0"
            ],
            [
             0.7,
             "#b8e186"
            ],
            [
             0.8,
             "#7fbc41"
            ],
            [
             0.9,
             "#4d9221"
            ],
            [
             1,
             "#276419"
            ]
           ],
           "sequential": [
            [
             0,
             "#0d0887"
            ],
            [
             0.1111111111111111,
             "#46039f"
            ],
            [
             0.2222222222222222,
             "#7201a8"
            ],
            [
             0.3333333333333333,
             "#9c179e"
            ],
            [
             0.4444444444444444,
             "#bd3786"
            ],
            [
             0.5555555555555556,
             "#d8576b"
            ],
            [
             0.6666666666666666,
             "#ed7953"
            ],
            [
             0.7777777777777778,
             "#fb9f3a"
            ],
            [
             0.8888888888888888,
             "#fdca26"
            ],
            [
             1,
             "#f0f921"
            ]
           ],
           "sequentialminus": [
            [
             0,
             "#0d0887"
            ],
            [
             0.1111111111111111,
             "#46039f"
            ],
            [
             0.2222222222222222,
             "#7201a8"
            ],
            [
             0.3333333333333333,
             "#9c179e"
            ],
            [
             0.4444444444444444,
             "#bd3786"
            ],
            [
             0.5555555555555556,
             "#d8576b"
            ],
            [
             0.6666666666666666,
             "#ed7953"
            ],
            [
             0.7777777777777778,
             "#fb9f3a"
            ],
            [
             0.8888888888888888,
             "#fdca26"
            ],
            [
             1,
             "#f0f921"
            ]
           ]
          },
          "colorway": [
           "#636efa",
           "#EF553B",
           "#00cc96",
           "#ab63fa",
           "#FFA15A",
           "#19d3f3",
           "#FF6692",
           "#B6E880",
           "#FF97FF",
           "#FECB52"
          ],
          "font": {
           "color": "#2a3f5f"
          },
          "geo": {
           "bgcolor": "white",
           "lakecolor": "white",
           "landcolor": "#E5ECF6",
           "showlakes": true,
           "showland": true,
           "subunitcolor": "white"
          },
          "hoverlabel": {
           "align": "left"
          },
          "hovermode": "closest",
          "mapbox": {
           "style": "light"
          },
          "paper_bgcolor": "white",
          "plot_bgcolor": "#E5ECF6",
          "polar": {
           "angularaxis": {
            "gridcolor": "white",
            "linecolor": "white",
            "ticks": ""
           },
           "bgcolor": "#E5ECF6",
           "radialaxis": {
            "gridcolor": "white",
            "linecolor": "white",
            "ticks": ""
           }
          },
          "scene": {
           "xaxis": {
            "backgroundcolor": "#E5ECF6",
            "gridcolor": "white",
            "gridwidth": 2,
            "linecolor": "white",
            "showbackground": true,
            "ticks": "",
            "zerolinecolor": "white"
           },
           "yaxis": {
            "backgroundcolor": "#E5ECF6",
            "gridcolor": "white",
            "gridwidth": 2,
            "linecolor": "white",
            "showbackground": true,
            "ticks": "",
            "zerolinecolor": "white"
           },
           "zaxis": {
            "backgroundcolor": "#E5ECF6",
            "gridcolor": "white",
            "gridwidth": 2,
            "linecolor": "white",
            "showbackground": true,
            "ticks": "",
            "zerolinecolor": "white"
           }
          },
          "shapedefaults": {
           "line": {
            "color": "#2a3f5f"
           }
          },
          "ternary": {
           "aaxis": {
            "gridcolor": "white",
            "linecolor": "white",
            "ticks": ""
           },
           "baxis": {
            "gridcolor": "white",
            "linecolor": "white",
            "ticks": ""
           },
           "bgcolor": "#E5ECF6",
           "caxis": {
            "gridcolor": "white",
            "linecolor": "white",
            "ticks": ""
           }
          },
          "title": {
           "x": 0.05
          },
          "xaxis": {
           "automargin": true,
           "gridcolor": "white",
           "linecolor": "white",
           "ticks": "",
           "title": {
            "standoff": 15
           },
           "zerolinecolor": "white",
           "zerolinewidth": 2
          },
          "yaxis": {
           "automargin": true,
           "gridcolor": "white",
           "linecolor": "white",
           "ticks": "",
           "title": {
            "standoff": 15
           },
           "zerolinecolor": "white",
           "zerolinewidth": 2
          }
         }
        },
        "title": {
         "text": "Kumulativt Antal Fall per vecka"
        },
        "xaxis": {
         "anchor": "y",
         "domain": [
          0,
          1
         ],
         "title": {
          "text": "Vecka"
         }
        },
        "yaxis": {
         "anchor": "x",
         "domain": [
          0,
          1
         ],
         "title": {
          "text": "Antal Personer"
         }
        }
       }
      }
     },
     "metadata": {},
     "output_type": "display_data"
    }
   ],
   "source": [
    "px.line(df, x = \"Vecka\", y = \"Kum_antal_fall\", title = \"Kumulativt Antal Fall per vecka\").update_layout(yaxis_title = \"Antal Personer\")"
   ]
  },
  {
   "cell_type": "markdown",
   "metadata": {},
   "source": [
    "## Uppgift 2"
   ]
  },
  {
   "cell_type": "code",
   "execution_count": 45,
   "metadata": {},
   "outputs": [],
   "source": [
    "df_vaccine = pd.read_excel(\"../Lab_Data/Vaccine.xlsx\", sheet_name= \"Vaccinerade kommun och ålder\")"
   ]
  },
  {
   "cell_type": "code",
   "execution_count": 46,
   "metadata": {},
   "outputs": [
    {
     "name": "stdout",
     "output_type": "stream",
     "text": [
      "<class 'pandas.core.frame.DataFrame'>\n",
      "RangeIndex: 2900 entries, 0 to 2899\n",
      "Data columns (total 14 columns):\n",
      " #   Column               Non-Null Count  Dtype  \n",
      "---  ------               --------------  -----  \n",
      " 0   Län                  2900 non-null   int64  \n",
      " 1   Län_namn             2900 non-null   object \n",
      " 2   Kommun               2900 non-null   int64  \n",
      " 3   Kommun_namn          2900 non-null   object \n",
      " 4   Ålder                2900 non-null   object \n",
      " 5   Befolkning           2900 non-null   int64  \n",
      " 6   Antal minst 1 dos    2900 non-null   int64  \n",
      " 7   Antal minst 2 doser  2900 non-null   int64  \n",
      " 8   Antal 3 doser        2320 non-null   float64\n",
      " 9   Antal 4 doser        870 non-null    float64\n",
      " 10  Andel minst 1 dos    2900 non-null   float64\n",
      " 11  Andel minst 2 doser  2900 non-null   float64\n",
      " 12  Andel 3 doser        2320 non-null   float64\n",
      " 13  Andel 4 doser        870 non-null    float64\n",
      "dtypes: float64(6), int64(5), object(3)\n",
      "memory usage: 317.3+ KB\n"
     ]
    },
    {
     "data": {
      "text/plain": [
       "Län                       0\n",
       "Län_namn                  0\n",
       "Kommun                    0\n",
       "Kommun_namn               0\n",
       "Ålder                     0\n",
       "Befolkning                0\n",
       "Antal minst 1 dos         0\n",
       "Antal minst 2 doser       0\n",
       "Antal 3 doser           580\n",
       "Antal 4 doser          2030\n",
       "Andel minst 1 dos         0\n",
       "Andel minst 2 doser       0\n",
       "Andel 3 doser           580\n",
       "Andel 4 doser          2030\n",
       "dtype: int64"
      ]
     },
     "execution_count": 46,
     "metadata": {},
     "output_type": "execute_result"
    }
   ],
   "source": [
    "df_vaccine.head()\n",
    "df_vaccine.info()  # Län_namn, Kommun_namn and Ålder are objects. rest are int or floats\n",
    "df_vaccine.isnull().sum() # Ammount of nulls are: Antal 3 doser 580, Antal 4 doser 2030, Andel 3 doser 580, Andel 4 doser 2030\n"
   ]
  },
  {
   "cell_type": "markdown",
   "metadata": {},
   "source": [
    "# A)\n",
    "- Hur många län finns representerade i datasetet?"
   ]
  },
  {
   "cell_type": "code",
   "execution_count": 47,
   "metadata": {},
   "outputs": [
    {
     "data": {
      "text/plain": [
       "21"
      ]
     },
     "execution_count": 47,
     "metadata": {},
     "output_type": "execute_result"
    }
   ],
   "source": [
    "len(df_vaccine[\"Län\"].drop_duplicates().value_counts())\n",
    "#answer = 21"
   ]
  },
  {
   "cell_type": "markdown",
   "metadata": {},
   "source": [
    "b) Hur många kommuner finns representerade i datasetet?\n"
   ]
  },
  {
   "cell_type": "code",
   "execution_count": 48,
   "metadata": {},
   "outputs": [
    {
     "data": {
      "text/plain": [
       "290"
      ]
     },
     "execution_count": 48,
     "metadata": {},
     "output_type": "execute_result"
    }
   ],
   "source": [
    "len(df_vaccine[\"Kommun\"].drop_duplicates().value_counts())\n",
    "# Answer is 290 Kommuner."
   ]
  },
  {
   "cell_type": "markdown",
   "metadata": {},
   "source": [
    "c) Hur stor är befolkningen som är representerad i datasetet?\n"
   ]
  },
  {
   "cell_type": "code",
   "execution_count": 49,
   "metadata": {},
   "outputs": [
    {
     "data": {
      "text/plain": [
       "9092790"
      ]
     },
     "execution_count": 49,
     "metadata": {},
     "output_type": "execute_result"
    }
   ],
   "source": [
    "df_vaccine[\"Befolkning\"].sum()\n",
    "# Answer is 9 092 790"
   ]
  },
  {
   "cell_type": "markdown",
   "metadata": {},
   "source": [
    "d) Beräkna hur många barn under 18 år det finns i Sverige baserat på det här datasetet. Du får leta upp\n",
    "statistik på hur stor totala befolkningen är i Sverige."
   ]
  },
  {
   "cell_type": "code",
   "execution_count": 50,
   "metadata": {},
   "outputs": [
    {
     "data": {
      "text/plain": [
       "2900"
      ]
     },
     "execution_count": 50,
     "metadata": {},
     "output_type": "execute_result"
    }
   ],
   "source": [
    "# First up i will try to get the string index of the two first values in each row.\n",
    "df_vaccine[\"Ålder\"][0][:2] # Succsess! Loop through every value and see that it is below 18 in order to find all indexes where we can check befolkning\n",
    "# Now i need a way to save that row into another dataframe.\n",
    "# Nevermind i can get the value of the population using the .loc method.\n",
    "df_vaccine.loc[0][5] # Get value of \n",
    "\n",
    "len(df_vaccine)"
   ]
  },
  {
   "cell_type": "code",
   "execution_count": 51,
   "metadata": {},
   "outputs": [
    {
     "name": "stdout",
     "output_type": "stream",
     "text": [
      "The population below 18 years is 745370\n"
     ]
    }
   ],
   "source": [
    "#Time to try a simple for loop.\n",
    "population = 0\n",
    "for i in range(len(df_vaccine)): # For loop that goes through the whole data frame.\n",
    "    if int(df_vaccine[\"Ålder\"][i][:2]) < 18: # If ålder on the first age shown is below 18 it is always below 18. there are no examples in the sheet showing an age range going from e.g. 17-20\n",
    "        population += df_vaccine.loc[i][5] # Add the number into a templist.\n",
    "\n",
    "print(f\"The population below 18 years is {population}\")"
   ]
  },
  {
   "cell_type": "code",
   "execution_count": 52,
   "metadata": {},
   "outputs": [
    {
     "data": {
      "text/plain": [
       "745370"
      ]
     },
     "execution_count": 52,
     "metadata": {},
     "output_type": "execute_result"
    }
   ],
   "source": [
    "# Håkans solution that is much better:\n",
    "df_vaccine[(df_vaccine[\"Ålder\"] == \"12-15\") | (df_vaccine[\"Ålder\"] == \"16-17\")][\"Befolkning\"].sum() \n",
    "# ↑ Dataframe        ↑Checks Ålder column, and what rows are matching         ↑ If rows match. we take the sum from Befolkning.              "
   ]
  },
  {
   "cell_type": "code",
   "execution_count": 53,
   "metadata": {},
   "outputs": [
    {
     "data": {
      "application/vnd.plotly.v1+json": {
       "config": {
        "plotlyServerURL": "https://plot.ly"
       },
       "data": [
        {
         "alignmentgroup": "True",
         "bingroup": "x",
         "histfunc": "sum",
         "hovertemplate": "Ålder=%{x}<br>sum of Befolkning=%{y}<extra></extra>",
         "legendgroup": "",
         "marker": {
          "color": "#636efa",
          "pattern": {
           "shape": ""
          }
         },
         "name": "",
         "offsetgroup": "",
         "orientation": "v",
         "showlegend": false,
         "type": "histogram",
         "x": [
          "12-15",
          "16-17",
          "18-29",
          "30-39",
          "40-49",
          "50-59",
          "60-69",
          "70-79",
          "80-89",
          "90 eller äldre",
          "12-15",
          "16-17",
          "18-29",
          "30-39",
          "40-49",
          "50-59",
          "60-69",
          "70-79",
          "80-89",
          "90 eller äldre",
          "12-15",
          "16-17",
          "18-29",
          "30-39",
          "40-49",
          "50-59",
          "60-69",
          "70-79",
          "80-89",
          "90 eller äldre",
          "12-15",
          "16-17",
          "18-29",
          "30-39",
          "40-49",
          "50-59",
          "60-69",
          "70-79",
          "80-89",
          "90 eller äldre",
          "12-15",
          "16-17",
          "18-29",
          "30-39",
          "40-49",
          "50-59",
          "60-69",
          "70-79",
          "80-89",
          "90 eller äldre",
          "12-15",
          "16-17",
          "18-29",
          "30-39",
          "40-49",
          "50-59",
          "60-69",
          "70-79",
          "80-89",
          "90 eller äldre",
          "12-15",
          "16-17",
          "18-29",
          "30-39",
          "40-49",
          "50-59",
          "60-69",
          "70-79",
          "80-89",
          "90 eller äldre",
          "12-15",
          "16-17",
          "18-29",
          "30-39",
          "40-49",
          "50-59",
          "60-69",
          "70-79",
          "80-89",
          "90 eller äldre",
          "12-15",
          "16-17",
          "18-29",
          "30-39",
          "40-49",
          "50-59",
          "60-69",
          "70-79",
          "80-89",
          "90 eller äldre",
          "12-15",
          "16-17",
          "18-29",
          "30-39",
          "40-49",
          "50-59",
          "60-69",
          "70-79",
          "80-89",
          "90 eller äldre",
          "12-15",
          "16-17",
          "18-29",
          "30-39",
          "40-49",
          "50-59",
          "60-69",
          "70-79",
          "80-89",
          "90 eller äldre",
          "12-15",
          "16-17",
          "18-29",
          "30-39",
          "40-49",
          "50-59",
          "60-69",
          "70-79",
          "80-89",
          "90 eller äldre",
          "12-15",
          "16-17",
          "18-29",
          "30-39",
          "40-49",
          "50-59",
          "60-69",
          "70-79",
          "80-89",
          "90 eller äldre",
          "12-15",
          "16-17",
          "18-29",
          "30-39",
          "40-49",
          "50-59",
          "60-69",
          "70-79",
          "80-89",
          "90 eller äldre",
          "12-15",
          "16-17",
          "18-29",
          "30-39",
          "40-49",
          "50-59",
          "60-69",
          "70-79",
          "80-89",
          "90 eller äldre",
          "12-15",
          "16-17",
          "18-29",
          "30-39",
          "40-49",
          "50-59",
          "60-69",
          "70-79",
          "80-89",
          "90 eller äldre",
          "12-15",
          "16-17",
          "18-29",
          "30-39",
          "40-49",
          "50-59",
          "60-69",
          "70-79",
          "80-89",
          "90 eller äldre",
          "12-15",
          "16-17",
          "18-29",
          "30-39",
          "40-49",
          "50-59",
          "60-69",
          "70-79",
          "80-89",
          "90 eller äldre",
          "12-15",
          "16-17",
          "18-29",
          "30-39",
          "40-49",
          "50-59",
          "60-69",
          "70-79",
          "80-89",
          "90 eller äldre",
          "12-15",
          "16-17",
          "18-29",
          "30-39",
          "40-49",
          "50-59",
          "60-69",
          "70-79",
          "80-89",
          "90 eller äldre",
          "12-15",
          "16-17",
          "18-29",
          "30-39",
          "40-49",
          "50-59",
          "60-69",
          "70-79",
          "80-89",
          "90 eller äldre",
          "12-15",
          "16-17",
          "18-29",
          "30-39",
          "40-49",
          "50-59",
          "60-69",
          "70-79",
          "80-89",
          "90 eller äldre",
          "12-15",
          "16-17",
          "18-29",
          "30-39",
          "40-49",
          "50-59",
          "60-69",
          "70-79",
          "80-89",
          "90 eller äldre",
          "12-15",
          "16-17",
          "18-29",
          "30-39",
          "40-49",
          "50-59",
          "60-69",
          "70-79",
          "80-89",
          "90 eller äldre",
          "12-15",
          "16-17",
          "18-29",
          "30-39",
          "40-49",
          "50-59",
          "60-69",
          "70-79",
          "80-89",
          "90 eller äldre",
          "12-15",
          "16-17",
          "18-29",
          "30-39",
          "40-49",
          "50-59",
          "60-69",
          "70-79",
          "80-89",
          "90 eller äldre",
          "12-15",
          "16-17",
          "18-29",
          "30-39",
          "40-49",
          "50-59",
          "60-69",
          "70-79",
          "80-89",
          "90 eller äldre",
          "12-15",
          "16-17",
          "18-29",
          "30-39",
          "40-49",
          "50-59",
          "60-69",
          "70-79",
          "80-89",
          "90 eller äldre",
          "12-15",
          "16-17",
          "18-29",
          "30-39",
          "40-49",
          "50-59",
          "60-69",
          "70-79",
          "80-89",
          "90 eller äldre",
          "12-15",
          "16-17",
          "18-29",
          "30-39",
          "40-49",
          "50-59",
          "60-69",
          "70-79",
          "80-89",
          "90 eller äldre",
          "12-15",
          "16-17",
          "18-29",
          "30-39",
          "40-49",
          "50-59",
          "60-69",
          "70-79",
          "80-89",
          "90 eller äldre",
          "12-15",
          "16-17",
          "18-29",
          "30-39",
          "40-49",
          "50-59",
          "60-69",
          "70-79",
          "80-89",
          "90 eller äldre",
          "12-15",
          "16-17",
          "18-29",
          "30-39",
          "40-49",
          "50-59",
          "60-69",
          "70-79",
          "80-89",
          "90 eller äldre",
          "12-15",
          "16-17",
          "18-29",
          "30-39",
          "40-49",
          "50-59",
          "60-69",
          "70-79",
          "80-89",
          "90 eller äldre",
          "12-15",
          "16-17",
          "18-29",
          "30-39",
          "40-49",
          "50-59",
          "60-69",
          "70-79",
          "80-89",
          "90 eller äldre",
          "12-15",
          "16-17",
          "18-29",
          "30-39",
          "40-49",
          "50-59",
          "60-69",
          "70-79",
          "80-89",
          "90 eller äldre",
          "12-15",
          "16-17",
          "18-29",
          "30-39",
          "40-49",
          "50-59",
          "60-69",
          "70-79",
          "80-89",
          "90 eller äldre",
          "12-15",
          "16-17",
          "18-29",
          "30-39",
          "40-49",
          "50-59",
          "60-69",
          "70-79",
          "80-89",
          "90 eller äldre",
          "12-15",
          "16-17",
          "18-29",
          "30-39",
          "40-49",
          "50-59",
          "60-69",
          "70-79",
          "80-89",
          "90 eller äldre",
          "12-15",
          "16-17",
          "18-29",
          "30-39",
          "40-49",
          "50-59",
          "60-69",
          "70-79",
          "80-89",
          "90 eller äldre",
          "12-15",
          "16-17",
          "18-29",
          "30-39",
          "40-49",
          "50-59",
          "60-69",
          "70-79",
          "80-89",
          "90 eller äldre",
          "12-15",
          "16-17",
          "18-29",
          "30-39",
          "40-49",
          "50-59",
          "60-69",
          "70-79",
          "80-89",
          "90 eller äldre",
          "12-15",
          "16-17",
          "18-29",
          "30-39",
          "40-49",
          "50-59",
          "60-69",
          "70-79",
          "80-89",
          "90 eller äldre",
          "12-15",
          "16-17",
          "18-29",
          "30-39",
          "40-49",
          "50-59",
          "60-69",
          "70-79",
          "80-89",
          "90 eller äldre",
          "12-15",
          "16-17",
          "18-29",
          "30-39",
          "40-49",
          "50-59",
          "60-69",
          "70-79",
          "80-89",
          "90 eller äldre",
          "12-15",
          "16-17",
          "18-29",
          "30-39",
          "40-49",
          "50-59",
          "60-69",
          "70-79",
          "80-89",
          "90 eller äldre",
          "12-15",
          "16-17",
          "18-29",
          "30-39",
          "40-49",
          "50-59",
          "60-69",
          "70-79",
          "80-89",
          "90 eller äldre",
          "12-15",
          "16-17",
          "18-29",
          "30-39",
          "40-49",
          "50-59",
          "60-69",
          "70-79",
          "80-89",
          "90 eller äldre",
          "12-15",
          "16-17",
          "18-29",
          "30-39",
          "40-49",
          "50-59",
          "60-69",
          "70-79",
          "80-89",
          "90 eller äldre",
          "12-15",
          "16-17",
          "18-29",
          "30-39",
          "40-49",
          "50-59",
          "60-69",
          "70-79",
          "80-89",
          "90 eller äldre",
          "12-15",
          "16-17",
          "18-29",
          "30-39",
          "40-49",
          "50-59",
          "60-69",
          "70-79",
          "80-89",
          "90 eller äldre",
          "12-15",
          "16-17",
          "18-29",
          "30-39",
          "40-49",
          "50-59",
          "60-69",
          "70-79",
          "80-89",
          "90 eller äldre",
          "12-15",
          "16-17",
          "18-29",
          "30-39",
          "40-49",
          "50-59",
          "60-69",
          "70-79",
          "80-89",
          "90 eller äldre",
          "12-15",
          "16-17",
          "18-29",
          "30-39",
          "40-49",
          "50-59",
          "60-69",
          "70-79",
          "80-89",
          "90 eller äldre",
          "12-15",
          "16-17",
          "18-29",
          "30-39",
          "40-49",
          "50-59",
          "60-69",
          "70-79",
          "80-89",
          "90 eller äldre",
          "12-15",
          "16-17",
          "18-29",
          "30-39",
          "40-49",
          "50-59",
          "60-69",
          "70-79",
          "80-89",
          "90 eller äldre",
          "12-15",
          "16-17",
          "18-29",
          "30-39",
          "40-49",
          "50-59",
          "60-69",
          "70-79",
          "80-89",
          "90 eller äldre",
          "12-15",
          "16-17",
          "18-29",
          "30-39",
          "40-49",
          "50-59",
          "60-69",
          "70-79",
          "80-89",
          "90 eller äldre",
          "12-15",
          "16-17",
          "18-29",
          "30-39",
          "40-49",
          "50-59",
          "60-69",
          "70-79",
          "80-89",
          "90 eller äldre",
          "12-15",
          "16-17",
          "18-29",
          "30-39",
          "40-49",
          "50-59",
          "60-69",
          "70-79",
          "80-89",
          "90 eller äldre",
          "12-15",
          "16-17",
          "18-29",
          "30-39",
          "40-49",
          "50-59",
          "60-69",
          "70-79",
          "80-89",
          "90 eller äldre",
          "12-15",
          "16-17",
          "18-29",
          "30-39",
          "40-49",
          "50-59",
          "60-69",
          "70-79",
          "80-89",
          "90 eller äldre",
          "12-15",
          "16-17",
          "18-29",
          "30-39",
          "40-49",
          "50-59",
          "60-69",
          "70-79",
          "80-89",
          "90 eller äldre",
          "12-15",
          "16-17",
          "18-29",
          "30-39",
          "40-49",
          "50-59",
          "60-69",
          "70-79",
          "80-89",
          "90 eller äldre",
          "12-15",
          "16-17",
          "18-29",
          "30-39",
          "40-49",
          "50-59",
          "60-69",
          "70-79",
          "80-89",
          "90 eller äldre",
          "12-15",
          "16-17",
          "18-29",
          "30-39",
          "40-49",
          "50-59",
          "60-69",
          "70-79",
          "80-89",
          "90 eller äldre",
          "12-15",
          "16-17",
          "18-29",
          "30-39",
          "40-49",
          "50-59",
          "60-69",
          "70-79",
          "80-89",
          "90 eller äldre",
          "12-15",
          "16-17",
          "18-29",
          "30-39",
          "40-49",
          "50-59",
          "60-69",
          "70-79",
          "80-89",
          "90 eller äldre",
          "12-15",
          "16-17",
          "18-29",
          "30-39",
          "40-49",
          "50-59",
          "60-69",
          "70-79",
          "80-89",
          "90 eller äldre",
          "12-15",
          "16-17",
          "18-29",
          "30-39",
          "40-49",
          "50-59",
          "60-69",
          "70-79",
          "80-89",
          "90 eller äldre",
          "12-15",
          "16-17",
          "18-29",
          "30-39",
          "40-49",
          "50-59",
          "60-69",
          "70-79",
          "80-89",
          "90 eller äldre",
          "12-15",
          "16-17",
          "18-29",
          "30-39",
          "40-49",
          "50-59",
          "60-69",
          "70-79",
          "80-89",
          "90 eller äldre",
          "12-15",
          "16-17",
          "18-29",
          "30-39",
          "40-49",
          "50-59",
          "60-69",
          "70-79",
          "80-89",
          "90 eller äldre",
          "12-15",
          "16-17",
          "18-29",
          "30-39",
          "40-49",
          "50-59",
          "60-69",
          "70-79",
          "80-89",
          "90 eller äldre",
          "12-15",
          "16-17",
          "18-29",
          "30-39",
          "40-49",
          "50-59",
          "60-69",
          "70-79",
          "80-89",
          "90 eller äldre",
          "12-15",
          "16-17",
          "18-29",
          "30-39",
          "40-49",
          "50-59",
          "60-69",
          "70-79",
          "80-89",
          "90 eller äldre",
          "12-15",
          "16-17",
          "18-29",
          "30-39",
          "40-49",
          "50-59",
          "60-69",
          "70-79",
          "80-89",
          "90 eller äldre",
          "12-15",
          "16-17",
          "18-29",
          "30-39",
          "40-49",
          "50-59",
          "60-69",
          "70-79",
          "80-89",
          "90 eller äldre",
          "12-15",
          "16-17",
          "18-29",
          "30-39",
          "40-49",
          "50-59",
          "60-69",
          "70-79",
          "80-89",
          "90 eller äldre",
          "12-15",
          "16-17",
          "18-29",
          "30-39",
          "40-49",
          "50-59",
          "60-69",
          "70-79",
          "80-89",
          "90 eller äldre",
          "12-15",
          "16-17",
          "18-29",
          "30-39",
          "40-49",
          "50-59",
          "60-69",
          "70-79",
          "80-89",
          "90 eller äldre",
          "12-15",
          "16-17",
          "18-29",
          "30-39",
          "40-49",
          "50-59",
          "60-69",
          "70-79",
          "80-89",
          "90 eller äldre",
          "12-15",
          "16-17",
          "18-29",
          "30-39",
          "40-49",
          "50-59",
          "60-69",
          "70-79",
          "80-89",
          "90 eller äldre",
          "12-15",
          "16-17",
          "18-29",
          "30-39",
          "40-49",
          "50-59",
          "60-69",
          "70-79",
          "80-89",
          "90 eller äldre",
          "12-15",
          "16-17",
          "18-29",
          "30-39",
          "40-49",
          "50-59",
          "60-69",
          "70-79",
          "80-89",
          "90 eller äldre",
          "12-15",
          "16-17",
          "18-29",
          "30-39",
          "40-49",
          "50-59",
          "60-69",
          "70-79",
          "80-89",
          "90 eller äldre",
          "12-15",
          "16-17",
          "18-29",
          "30-39",
          "40-49",
          "50-59",
          "60-69",
          "70-79",
          "80-89",
          "90 eller äldre",
          "12-15",
          "16-17",
          "18-29",
          "30-39",
          "40-49",
          "50-59",
          "60-69",
          "70-79",
          "80-89",
          "90 eller äldre",
          "12-15",
          "16-17",
          "18-29",
          "30-39",
          "40-49",
          "50-59",
          "60-69",
          "70-79",
          "80-89",
          "90 eller äldre",
          "12-15",
          "16-17",
          "18-29",
          "30-39",
          "40-49",
          "50-59",
          "60-69",
          "70-79",
          "80-89",
          "90 eller äldre",
          "12-15",
          "16-17",
          "18-29",
          "30-39",
          "40-49",
          "50-59",
          "60-69",
          "70-79",
          "80-89",
          "90 eller äldre",
          "12-15",
          "16-17",
          "18-29",
          "30-39",
          "40-49",
          "50-59",
          "60-69",
          "70-79",
          "80-89",
          "90 eller äldre",
          "12-15",
          "16-17",
          "18-29",
          "30-39",
          "40-49",
          "50-59",
          "60-69",
          "70-79",
          "80-89",
          "90 eller äldre",
          "12-15",
          "16-17",
          "18-29",
          "30-39",
          "40-49",
          "50-59",
          "60-69",
          "70-79",
          "80-89",
          "90 eller äldre",
          "12-15",
          "16-17",
          "18-29",
          "30-39",
          "40-49",
          "50-59",
          "60-69",
          "70-79",
          "80-89",
          "90 eller äldre",
          "12-15",
          "16-17",
          "18-29",
          "30-39",
          "40-49",
          "50-59",
          "60-69",
          "70-79",
          "80-89",
          "90 eller äldre",
          "12-15",
          "16-17",
          "18-29",
          "30-39",
          "40-49",
          "50-59",
          "60-69",
          "70-79",
          "80-89",
          "90 eller äldre",
          "12-15",
          "16-17",
          "18-29",
          "30-39",
          "40-49",
          "50-59",
          "60-69",
          "70-79",
          "80-89",
          "90 eller äldre",
          "12-15",
          "16-17",
          "18-29",
          "30-39",
          "40-49",
          "50-59",
          "60-69",
          "70-79",
          "80-89",
          "90 eller äldre",
          "12-15",
          "16-17",
          "18-29",
          "30-39",
          "40-49",
          "50-59",
          "60-69",
          "70-79",
          "80-89",
          "90 eller äldre",
          "12-15",
          "16-17",
          "18-29",
          "30-39",
          "40-49",
          "50-59",
          "60-69",
          "70-79",
          "80-89",
          "90 eller äldre",
          "12-15",
          "16-17",
          "18-29",
          "30-39",
          "40-49",
          "50-59",
          "60-69",
          "70-79",
          "80-89",
          "90 eller äldre",
          "12-15",
          "16-17",
          "18-29",
          "30-39",
          "40-49",
          "50-59",
          "60-69",
          "70-79",
          "80-89",
          "90 eller äldre",
          "12-15",
          "16-17",
          "18-29",
          "30-39",
          "40-49",
          "50-59",
          "60-69",
          "70-79",
          "80-89",
          "90 eller äldre",
          "12-15",
          "16-17",
          "18-29",
          "30-39",
          "40-49",
          "50-59",
          "60-69",
          "70-79",
          "80-89",
          "90 eller äldre",
          "12-15",
          "16-17",
          "18-29",
          "30-39",
          "40-49",
          "50-59",
          "60-69",
          "70-79",
          "80-89",
          "90 eller äldre",
          "12-15",
          "16-17",
          "18-29",
          "30-39",
          "40-49",
          "50-59",
          "60-69",
          "70-79",
          "80-89",
          "90 eller äldre",
          "12-15",
          "16-17",
          "18-29",
          "30-39",
          "40-49",
          "50-59",
          "60-69",
          "70-79",
          "80-89",
          "90 eller äldre",
          "12-15",
          "16-17",
          "18-29",
          "30-39",
          "40-49",
          "50-59",
          "60-69",
          "70-79",
          "80-89",
          "90 eller äldre",
          "12-15",
          "16-17",
          "18-29",
          "30-39",
          "40-49",
          "50-59",
          "60-69",
          "70-79",
          "80-89",
          "90 eller äldre",
          "12-15",
          "16-17",
          "18-29",
          "30-39",
          "40-49",
          "50-59",
          "60-69",
          "70-79",
          "80-89",
          "90 eller äldre",
          "12-15",
          "16-17",
          "18-29",
          "30-39",
          "40-49",
          "50-59",
          "60-69",
          "70-79",
          "80-89",
          "90 eller äldre",
          "12-15",
          "16-17",
          "18-29",
          "30-39",
          "40-49",
          "50-59",
          "60-69",
          "70-79",
          "80-89",
          "90 eller äldre",
          "12-15",
          "16-17",
          "18-29",
          "30-39",
          "40-49",
          "50-59",
          "60-69",
          "70-79",
          "80-89",
          "90 eller äldre",
          "12-15",
          "16-17",
          "18-29",
          "30-39",
          "40-49",
          "50-59",
          "60-69",
          "70-79",
          "80-89",
          "90 eller äldre",
          "12-15",
          "16-17",
          "18-29",
          "30-39",
          "40-49",
          "50-59",
          "60-69",
          "70-79",
          "80-89",
          "90 eller äldre",
          "12-15",
          "16-17",
          "18-29",
          "30-39",
          "40-49",
          "50-59",
          "60-69",
          "70-79",
          "80-89",
          "90 eller äldre",
          "12-15",
          "16-17",
          "18-29",
          "30-39",
          "40-49",
          "50-59",
          "60-69",
          "70-79",
          "80-89",
          "90 eller äldre",
          "12-15",
          "16-17",
          "18-29",
          "30-39",
          "40-49",
          "50-59",
          "60-69",
          "70-79",
          "80-89",
          "90 eller äldre",
          "12-15",
          "16-17",
          "18-29",
          "30-39",
          "40-49",
          "50-59",
          "60-69",
          "70-79",
          "80-89",
          "90 eller äldre",
          "12-15",
          "16-17",
          "18-29",
          "30-39",
          "40-49",
          "50-59",
          "60-69",
          "70-79",
          "80-89",
          "90 eller äldre",
          "12-15",
          "16-17",
          "18-29",
          "30-39",
          "40-49",
          "50-59",
          "60-69",
          "70-79",
          "80-89",
          "90 eller äldre",
          "12-15",
          "16-17",
          "18-29",
          "30-39",
          "40-49",
          "50-59",
          "60-69",
          "70-79",
          "80-89",
          "90 eller äldre",
          "12-15",
          "16-17",
          "18-29",
          "30-39",
          "40-49",
          "50-59",
          "60-69",
          "70-79",
          "80-89",
          "90 eller äldre",
          "12-15",
          "16-17",
          "18-29",
          "30-39",
          "40-49",
          "50-59",
          "60-69",
          "70-79",
          "80-89",
          "90 eller äldre",
          "12-15",
          "16-17",
          "18-29",
          "30-39",
          "40-49",
          "50-59",
          "60-69",
          "70-79",
          "80-89",
          "90 eller äldre",
          "12-15",
          "16-17",
          "18-29",
          "30-39",
          "40-49",
          "50-59",
          "60-69",
          "70-79",
          "80-89",
          "90 eller äldre",
          "12-15",
          "16-17",
          "18-29",
          "30-39",
          "40-49",
          "50-59",
          "60-69",
          "70-79",
          "80-89",
          "90 eller äldre",
          "12-15",
          "16-17",
          "18-29",
          "30-39",
          "40-49",
          "50-59",
          "60-69",
          "70-79",
          "80-89",
          "90 eller äldre",
          "12-15",
          "16-17",
          "18-29",
          "30-39",
          "40-49",
          "50-59",
          "60-69",
          "70-79",
          "80-89",
          "90 eller äldre",
          "12-15",
          "16-17",
          "18-29",
          "30-39",
          "40-49",
          "50-59",
          "60-69",
          "70-79",
          "80-89",
          "90 eller äldre",
          "12-15",
          "16-17",
          "18-29",
          "30-39",
          "40-49",
          "50-59",
          "60-69",
          "70-79",
          "80-89",
          "90 eller äldre",
          "12-15",
          "16-17",
          "18-29",
          "30-39",
          "40-49",
          "50-59",
          "60-69",
          "70-79",
          "80-89",
          "90 eller äldre",
          "12-15",
          "16-17",
          "18-29",
          "30-39",
          "40-49",
          "50-59",
          "60-69",
          "70-79",
          "80-89",
          "90 eller äldre",
          "12-15",
          "16-17",
          "18-29",
          "30-39",
          "40-49",
          "50-59",
          "60-69",
          "70-79",
          "80-89",
          "90 eller äldre",
          "12-15",
          "16-17",
          "18-29",
          "30-39",
          "40-49",
          "50-59",
          "60-69",
          "70-79",
          "80-89",
          "90 eller äldre",
          "12-15",
          "16-17",
          "18-29",
          "30-39",
          "40-49",
          "50-59",
          "60-69",
          "70-79",
          "80-89",
          "90 eller äldre",
          "12-15",
          "16-17",
          "18-29",
          "30-39",
          "40-49",
          "50-59",
          "60-69",
          "70-79",
          "80-89",
          "90 eller äldre",
          "12-15",
          "16-17",
          "18-29",
          "30-39",
          "40-49",
          "50-59",
          "60-69",
          "70-79",
          "80-89",
          "90 eller äldre",
          "12-15",
          "16-17",
          "18-29",
          "30-39",
          "40-49",
          "50-59",
          "60-69",
          "70-79",
          "80-89",
          "90 eller äldre",
          "12-15",
          "16-17",
          "18-29",
          "30-39",
          "40-49",
          "50-59",
          "60-69",
          "70-79",
          "80-89",
          "90 eller äldre",
          "12-15",
          "16-17",
          "18-29",
          "30-39",
          "40-49",
          "50-59",
          "60-69",
          "70-79",
          "80-89",
          "90 eller äldre",
          "12-15",
          "16-17",
          "18-29",
          "30-39",
          "40-49",
          "50-59",
          "60-69",
          "70-79",
          "80-89",
          "90 eller äldre",
          "12-15",
          "16-17",
          "18-29",
          "30-39",
          "40-49",
          "50-59",
          "60-69",
          "70-79",
          "80-89",
          "90 eller äldre",
          "12-15",
          "16-17",
          "18-29",
          "30-39",
          "40-49",
          "50-59",
          "60-69",
          "70-79",
          "80-89",
          "90 eller äldre",
          "12-15",
          "16-17",
          "18-29",
          "30-39",
          "40-49",
          "50-59",
          "60-69",
          "70-79",
          "80-89",
          "90 eller äldre",
          "12-15",
          "16-17",
          "18-29",
          "30-39",
          "40-49",
          "50-59",
          "60-69",
          "70-79",
          "80-89",
          "90 eller äldre",
          "12-15",
          "16-17",
          "18-29",
          "30-39",
          "40-49",
          "50-59",
          "60-69",
          "70-79",
          "80-89",
          "90 eller äldre",
          "12-15",
          "16-17",
          "18-29",
          "30-39",
          "40-49",
          "50-59",
          "60-69",
          "70-79",
          "80-89",
          "90 eller äldre",
          "12-15",
          "16-17",
          "18-29",
          "30-39",
          "40-49",
          "50-59",
          "60-69",
          "70-79",
          "80-89",
          "90 eller äldre",
          "12-15",
          "16-17",
          "18-29",
          "30-39",
          "40-49",
          "50-59",
          "60-69",
          "70-79",
          "80-89",
          "90 eller äldre",
          "12-15",
          "16-17",
          "18-29",
          "30-39",
          "40-49",
          "50-59",
          "60-69",
          "70-79",
          "80-89",
          "90 eller äldre",
          "12-15",
          "16-17",
          "18-29",
          "30-39",
          "40-49",
          "50-59",
          "60-69",
          "70-79",
          "80-89",
          "90 eller äldre",
          "12-15",
          "16-17",
          "18-29",
          "30-39",
          "40-49",
          "50-59",
          "60-69",
          "70-79",
          "80-89",
          "90 eller äldre",
          "12-15",
          "16-17",
          "18-29",
          "30-39",
          "40-49",
          "50-59",
          "60-69",
          "70-79",
          "80-89",
          "90 eller äldre",
          "12-15",
          "16-17",
          "18-29",
          "30-39",
          "40-49",
          "50-59",
          "60-69",
          "70-79",
          "80-89",
          "90 eller äldre",
          "12-15",
          "16-17",
          "18-29",
          "30-39",
          "40-49",
          "50-59",
          "60-69",
          "70-79",
          "80-89",
          "90 eller äldre",
          "12-15",
          "16-17",
          "18-29",
          "30-39",
          "40-49",
          "50-59",
          "60-69",
          "70-79",
          "80-89",
          "90 eller äldre",
          "12-15",
          "16-17",
          "18-29",
          "30-39",
          "40-49",
          "50-59",
          "60-69",
          "70-79",
          "80-89",
          "90 eller äldre",
          "12-15",
          "16-17",
          "18-29",
          "30-39",
          "40-49",
          "50-59",
          "60-69",
          "70-79",
          "80-89",
          "90 eller äldre",
          "12-15",
          "16-17",
          "18-29",
          "30-39",
          "40-49",
          "50-59",
          "60-69",
          "70-79",
          "80-89",
          "90 eller äldre",
          "12-15",
          "16-17",
          "18-29",
          "30-39",
          "40-49",
          "50-59",
          "60-69",
          "70-79",
          "80-89",
          "90 eller äldre",
          "12-15",
          "16-17",
          "18-29",
          "30-39",
          "40-49",
          "50-59",
          "60-69",
          "70-79",
          "80-89",
          "90 eller äldre",
          "12-15",
          "16-17",
          "18-29",
          "30-39",
          "40-49",
          "50-59",
          "60-69",
          "70-79",
          "80-89",
          "90 eller äldre",
          "12-15",
          "16-17",
          "18-29",
          "30-39",
          "40-49",
          "50-59",
          "60-69",
          "70-79",
          "80-89",
          "90 eller äldre",
          "12-15",
          "16-17",
          "18-29",
          "30-39",
          "40-49",
          "50-59",
          "60-69",
          "70-79",
          "80-89",
          "90 eller äldre",
          "12-15",
          "16-17",
          "18-29",
          "30-39",
          "40-49",
          "50-59",
          "60-69",
          "70-79",
          "80-89",
          "90 eller äldre",
          "12-15",
          "16-17",
          "18-29",
          "30-39",
          "40-49",
          "50-59",
          "60-69",
          "70-79",
          "80-89",
          "90 eller äldre",
          "12-15",
          "16-17",
          "18-29",
          "30-39",
          "40-49",
          "50-59",
          "60-69",
          "70-79",
          "80-89",
          "90 eller äldre",
          "12-15",
          "16-17",
          "18-29",
          "30-39",
          "40-49",
          "50-59",
          "60-69",
          "70-79",
          "80-89",
          "90 eller äldre",
          "12-15",
          "16-17",
          "18-29",
          "30-39",
          "40-49",
          "50-59",
          "60-69",
          "70-79",
          "80-89",
          "90 eller äldre",
          "12-15",
          "16-17",
          "18-29",
          "30-39",
          "40-49",
          "50-59",
          "60-69",
          "70-79",
          "80-89",
          "90 eller äldre",
          "12-15",
          "16-17",
          "18-29",
          "30-39",
          "40-49",
          "50-59",
          "60-69",
          "70-79",
          "80-89",
          "90 eller äldre",
          "12-15",
          "16-17",
          "18-29",
          "30-39",
          "40-49",
          "50-59",
          "60-69",
          "70-79",
          "80-89",
          "90 eller äldre",
          "12-15",
          "16-17",
          "18-29",
          "30-39",
          "40-49",
          "50-59",
          "60-69",
          "70-79",
          "80-89",
          "90 eller äldre",
          "12-15",
          "16-17",
          "18-29",
          "30-39",
          "40-49",
          "50-59",
          "60-69",
          "70-79",
          "80-89",
          "90 eller äldre",
          "12-15",
          "16-17",
          "18-29",
          "30-39",
          "40-49",
          "50-59",
          "60-69",
          "70-79",
          "80-89",
          "90 eller äldre",
          "12-15",
          "16-17",
          "18-29",
          "30-39",
          "40-49",
          "50-59",
          "60-69",
          "70-79",
          "80-89",
          "90 eller äldre",
          "12-15",
          "16-17",
          "18-29",
          "30-39",
          "40-49",
          "50-59",
          "60-69",
          "70-79",
          "80-89",
          "90 eller äldre",
          "12-15",
          "16-17",
          "18-29",
          "30-39",
          "40-49",
          "50-59",
          "60-69",
          "70-79",
          "80-89",
          "90 eller äldre",
          "12-15",
          "16-17",
          "18-29",
          "30-39",
          "40-49",
          "50-59",
          "60-69",
          "70-79",
          "80-89",
          "90 eller äldre",
          "12-15",
          "16-17",
          "18-29",
          "30-39",
          "40-49",
          "50-59",
          "60-69",
          "70-79",
          "80-89",
          "90 eller äldre",
          "12-15",
          "16-17",
          "18-29",
          "30-39",
          "40-49",
          "50-59",
          "60-69",
          "70-79",
          "80-89",
          "90 eller äldre",
          "12-15",
          "16-17",
          "18-29",
          "30-39",
          "40-49",
          "50-59",
          "60-69",
          "70-79",
          "80-89",
          "90 eller äldre",
          "12-15",
          "16-17",
          "18-29",
          "30-39",
          "40-49",
          "50-59",
          "60-69",
          "70-79",
          "80-89",
          "90 eller äldre",
          "12-15",
          "16-17",
          "18-29",
          "30-39",
          "40-49",
          "50-59",
          "60-69",
          "70-79",
          "80-89",
          "90 eller äldre",
          "12-15",
          "16-17",
          "18-29",
          "30-39",
          "40-49",
          "50-59",
          "60-69",
          "70-79",
          "80-89",
          "90 eller äldre",
          "12-15",
          "16-17",
          "18-29",
          "30-39",
          "40-49",
          "50-59",
          "60-69",
          "70-79",
          "80-89",
          "90 eller äldre",
          "12-15",
          "16-17",
          "18-29",
          "30-39",
          "40-49",
          "50-59",
          "60-69",
          "70-79",
          "80-89",
          "90 eller äldre",
          "12-15",
          "16-17",
          "18-29",
          "30-39",
          "40-49",
          "50-59",
          "60-69",
          "70-79",
          "80-89",
          "90 eller äldre",
          "12-15",
          "16-17",
          "18-29",
          "30-39",
          "40-49",
          "50-59",
          "60-69",
          "70-79",
          "80-89",
          "90 eller äldre",
          "12-15",
          "16-17",
          "18-29",
          "30-39",
          "40-49",
          "50-59",
          "60-69",
          "70-79",
          "80-89",
          "90 eller äldre",
          "12-15",
          "16-17",
          "18-29",
          "30-39",
          "40-49",
          "50-59",
          "60-69",
          "70-79",
          "80-89",
          "90 eller äldre",
          "12-15",
          "16-17",
          "18-29",
          "30-39",
          "40-49",
          "50-59",
          "60-69",
          "70-79",
          "80-89",
          "90 eller äldre",
          "12-15",
          "16-17",
          "18-29",
          "30-39",
          "40-49",
          "50-59",
          "60-69",
          "70-79",
          "80-89",
          "90 eller äldre",
          "12-15",
          "16-17",
          "18-29",
          "30-39",
          "40-49",
          "50-59",
          "60-69",
          "70-79",
          "80-89",
          "90 eller äldre",
          "12-15",
          "16-17",
          "18-29",
          "30-39",
          "40-49",
          "50-59",
          "60-69",
          "70-79",
          "80-89",
          "90 eller äldre",
          "12-15",
          "16-17",
          "18-29",
          "30-39",
          "40-49",
          "50-59",
          "60-69",
          "70-79",
          "80-89",
          "90 eller äldre",
          "12-15",
          "16-17",
          "18-29",
          "30-39",
          "40-49",
          "50-59",
          "60-69",
          "70-79",
          "80-89",
          "90 eller äldre",
          "12-15",
          "16-17",
          "18-29",
          "30-39",
          "40-49",
          "50-59",
          "60-69",
          "70-79",
          "80-89",
          "90 eller äldre",
          "12-15",
          "16-17",
          "18-29",
          "30-39",
          "40-49",
          "50-59",
          "60-69",
          "70-79",
          "80-89",
          "90 eller äldre",
          "12-15",
          "16-17",
          "18-29",
          "30-39",
          "40-49",
          "50-59",
          "60-69",
          "70-79",
          "80-89",
          "90 eller äldre",
          "12-15",
          "16-17",
          "18-29",
          "30-39",
          "40-49",
          "50-59",
          "60-69",
          "70-79",
          "80-89",
          "90 eller äldre",
          "12-15",
          "16-17",
          "18-29",
          "30-39",
          "40-49",
          "50-59",
          "60-69",
          "70-79",
          "80-89",
          "90 eller äldre",
          "12-15",
          "16-17",
          "18-29",
          "30-39",
          "40-49",
          "50-59",
          "60-69",
          "70-79",
          "80-89",
          "90 eller äldre",
          "12-15",
          "16-17",
          "18-29",
          "30-39",
          "40-49",
          "50-59",
          "60-69",
          "70-79",
          "80-89",
          "90 eller äldre",
          "12-15",
          "16-17",
          "18-29",
          "30-39",
          "40-49",
          "50-59",
          "60-69",
          "70-79",
          "80-89",
          "90 eller äldre",
          "12-15",
          "16-17",
          "18-29",
          "30-39",
          "40-49",
          "50-59",
          "60-69",
          "70-79",
          "80-89",
          "90 eller äldre",
          "12-15",
          "16-17",
          "18-29",
          "30-39",
          "40-49",
          "50-59",
          "60-69",
          "70-79",
          "80-89",
          "90 eller äldre",
          "12-15",
          "16-17",
          "18-29",
          "30-39",
          "40-49",
          "50-59",
          "60-69",
          "70-79",
          "80-89",
          "90 eller äldre",
          "12-15",
          "16-17",
          "18-29",
          "30-39",
          "40-49",
          "50-59",
          "60-69",
          "70-79",
          "80-89",
          "90 eller äldre",
          "12-15",
          "16-17",
          "18-29",
          "30-39",
          "40-49",
          "50-59",
          "60-69",
          "70-79",
          "80-89",
          "90 eller äldre",
          "12-15",
          "16-17",
          "18-29",
          "30-39",
          "40-49",
          "50-59",
          "60-69",
          "70-79",
          "80-89",
          "90 eller äldre",
          "12-15",
          "16-17",
          "18-29",
          "30-39",
          "40-49",
          "50-59",
          "60-69",
          "70-79",
          "80-89",
          "90 eller äldre",
          "12-15",
          "16-17",
          "18-29",
          "30-39",
          "40-49",
          "50-59",
          "60-69",
          "70-79",
          "80-89",
          "90 eller äldre",
          "12-15",
          "16-17",
          "18-29",
          "30-39",
          "40-49",
          "50-59",
          "60-69",
          "70-79",
          "80-89",
          "90 eller äldre",
          "12-15",
          "16-17",
          "18-29",
          "30-39",
          "40-49",
          "50-59",
          "60-69",
          "70-79",
          "80-89",
          "90 eller äldre",
          "12-15",
          "16-17",
          "18-29",
          "30-39",
          "40-49",
          "50-59",
          "60-69",
          "70-79",
          "80-89",
          "90 eller äldre",
          "12-15",
          "16-17",
          "18-29",
          "30-39",
          "40-49",
          "50-59",
          "60-69",
          "70-79",
          "80-89",
          "90 eller äldre",
          "12-15",
          "16-17",
          "18-29",
          "30-39",
          "40-49",
          "50-59",
          "60-69",
          "70-79",
          "80-89",
          "90 eller äldre",
          "12-15",
          "16-17",
          "18-29",
          "30-39",
          "40-49",
          "50-59",
          "60-69",
          "70-79",
          "80-89",
          "90 eller äldre",
          "12-15",
          "16-17",
          "18-29",
          "30-39",
          "40-49",
          "50-59",
          "60-69",
          "70-79",
          "80-89",
          "90 eller äldre",
          "12-15",
          "16-17",
          "18-29",
          "30-39",
          "40-49",
          "50-59",
          "60-69",
          "70-79",
          "80-89",
          "90 eller äldre",
          "12-15",
          "16-17",
          "18-29",
          "30-39",
          "40-49",
          "50-59",
          "60-69",
          "70-79",
          "80-89",
          "90 eller äldre",
          "12-15",
          "16-17",
          "18-29",
          "30-39",
          "40-49",
          "50-59",
          "60-69",
          "70-79",
          "80-89",
          "90 eller äldre",
          "12-15",
          "16-17",
          "18-29",
          "30-39",
          "40-49",
          "50-59",
          "60-69",
          "70-79",
          "80-89",
          "90 eller äldre",
          "12-15",
          "16-17",
          "18-29",
          "30-39",
          "40-49",
          "50-59",
          "60-69",
          "70-79",
          "80-89",
          "90 eller äldre",
          "12-15",
          "16-17",
          "18-29",
          "30-39",
          "40-49",
          "50-59",
          "60-69",
          "70-79",
          "80-89",
          "90 eller äldre",
          "12-15",
          "16-17",
          "18-29",
          "30-39",
          "40-49",
          "50-59",
          "60-69",
          "70-79",
          "80-89",
          "90 eller äldre",
          "12-15",
          "16-17",
          "18-29",
          "30-39",
          "40-49",
          "50-59",
          "60-69",
          "70-79",
          "80-89",
          "90 eller äldre",
          "12-15",
          "16-17",
          "18-29",
          "30-39",
          "40-49",
          "50-59",
          "60-69",
          "70-79",
          "80-89",
          "90 eller äldre",
          "12-15",
          "16-17",
          "18-29",
          "30-39",
          "40-49",
          "50-59",
          "60-69",
          "70-79",
          "80-89",
          "90 eller äldre",
          "12-15",
          "16-17",
          "18-29",
          "30-39",
          "40-49",
          "50-59",
          "60-69",
          "70-79",
          "80-89",
          "90 eller äldre",
          "12-15",
          "16-17",
          "18-29",
          "30-39",
          "40-49",
          "50-59",
          "60-69",
          "70-79",
          "80-89",
          "90 eller äldre",
          "12-15",
          "16-17",
          "18-29",
          "30-39",
          "40-49",
          "50-59",
          "60-69",
          "70-79",
          "80-89",
          "90 eller äldre",
          "12-15",
          "16-17",
          "18-29",
          "30-39",
          "40-49",
          "50-59",
          "60-69",
          "70-79",
          "80-89",
          "90 eller äldre",
          "12-15",
          "16-17",
          "18-29",
          "30-39",
          "40-49",
          "50-59",
          "60-69",
          "70-79",
          "80-89",
          "90 eller äldre",
          "12-15",
          "16-17",
          "18-29",
          "30-39",
          "40-49",
          "50-59",
          "60-69",
          "70-79",
          "80-89",
          "90 eller äldre",
          "12-15",
          "16-17",
          "18-29",
          "30-39",
          "40-49",
          "50-59",
          "60-69",
          "70-79",
          "80-89",
          "90 eller äldre",
          "12-15",
          "16-17",
          "18-29",
          "30-39",
          "40-49",
          "50-59",
          "60-69",
          "70-79",
          "80-89",
          "90 eller äldre",
          "12-15",
          "16-17",
          "18-29",
          "30-39",
          "40-49",
          "50-59",
          "60-69",
          "70-79",
          "80-89",
          "90 eller äldre",
          "12-15",
          "16-17",
          "18-29",
          "30-39",
          "40-49",
          "50-59",
          "60-69",
          "70-79",
          "80-89",
          "90 eller äldre",
          "12-15",
          "16-17",
          "18-29",
          "30-39",
          "40-49",
          "50-59",
          "60-69",
          "70-79",
          "80-89",
          "90 eller äldre",
          "12-15",
          "16-17",
          "18-29",
          "30-39",
          "40-49",
          "50-59",
          "60-69",
          "70-79",
          "80-89",
          "90 eller äldre",
          "12-15",
          "16-17",
          "18-29",
          "30-39",
          "40-49",
          "50-59",
          "60-69",
          "70-79",
          "80-89",
          "90 eller äldre",
          "12-15",
          "16-17",
          "18-29",
          "30-39",
          "40-49",
          "50-59",
          "60-69",
          "70-79",
          "80-89",
          "90 eller äldre",
          "12-15",
          "16-17",
          "18-29",
          "30-39",
          "40-49",
          "50-59",
          "60-69",
          "70-79",
          "80-89",
          "90 eller äldre",
          "12-15",
          "16-17",
          "18-29",
          "30-39",
          "40-49",
          "50-59",
          "60-69",
          "70-79",
          "80-89",
          "90 eller äldre",
          "12-15",
          "16-17",
          "18-29",
          "30-39",
          "40-49",
          "50-59",
          "60-69",
          "70-79",
          "80-89",
          "90 eller äldre",
          "12-15",
          "16-17",
          "18-29",
          "30-39",
          "40-49",
          "50-59",
          "60-69",
          "70-79",
          "80-89",
          "90 eller äldre",
          "12-15",
          "16-17",
          "18-29",
          "30-39",
          "40-49",
          "50-59",
          "60-69",
          "70-79",
          "80-89",
          "90 eller äldre",
          "12-15",
          "16-17",
          "18-29",
          "30-39",
          "40-49",
          "50-59",
          "60-69",
          "70-79",
          "80-89",
          "90 eller äldre",
          "12-15",
          "16-17",
          "18-29",
          "30-39",
          "40-49",
          "50-59",
          "60-69",
          "70-79",
          "80-89",
          "90 eller äldre",
          "12-15",
          "16-17",
          "18-29",
          "30-39",
          "40-49",
          "50-59",
          "60-69",
          "70-79",
          "80-89",
          "90 eller äldre",
          "12-15",
          "16-17",
          "18-29",
          "30-39",
          "40-49",
          "50-59",
          "60-69",
          "70-79",
          "80-89",
          "90 eller äldre",
          "12-15",
          "16-17",
          "18-29",
          "30-39",
          "40-49",
          "50-59",
          "60-69",
          "70-79",
          "80-89",
          "90 eller äldre",
          "12-15",
          "16-17",
          "18-29",
          "30-39",
          "40-49",
          "50-59",
          "60-69",
          "70-79",
          "80-89",
          "90 eller äldre",
          "12-15",
          "16-17",
          "18-29",
          "30-39",
          "40-49",
          "50-59",
          "60-69",
          "70-79",
          "80-89",
          "90 eller äldre",
          "12-15",
          "16-17",
          "18-29",
          "30-39",
          "40-49",
          "50-59",
          "60-69",
          "70-79",
          "80-89",
          "90 eller äldre",
          "12-15",
          "16-17",
          "18-29",
          "30-39",
          "40-49",
          "50-59",
          "60-69",
          "70-79",
          "80-89",
          "90 eller äldre",
          "12-15",
          "16-17",
          "18-29",
          "30-39",
          "40-49",
          "50-59",
          "60-69",
          "70-79",
          "80-89",
          "90 eller äldre",
          "12-15",
          "16-17",
          "18-29",
          "30-39",
          "40-49",
          "50-59",
          "60-69",
          "70-79",
          "80-89",
          "90 eller äldre",
          "12-15",
          "16-17",
          "18-29",
          "30-39",
          "40-49",
          "50-59",
          "60-69",
          "70-79",
          "80-89",
          "90 eller äldre",
          "12-15",
          "16-17",
          "18-29",
          "30-39",
          "40-49",
          "50-59",
          "60-69",
          "70-79",
          "80-89",
          "90 eller äldre",
          "12-15",
          "16-17",
          "18-29",
          "30-39",
          "40-49",
          "50-59",
          "60-69",
          "70-79",
          "80-89",
          "90 eller äldre",
          "12-15",
          "16-17",
          "18-29",
          "30-39",
          "40-49",
          "50-59",
          "60-69",
          "70-79",
          "80-89",
          "90 eller äldre",
          "12-15",
          "16-17",
          "18-29",
          "30-39",
          "40-49",
          "50-59",
          "60-69",
          "70-79",
          "80-89",
          "90 eller äldre",
          "12-15",
          "16-17",
          "18-29",
          "30-39",
          "40-49",
          "50-59",
          "60-69",
          "70-79",
          "80-89",
          "90 eller äldre",
          "12-15",
          "16-17",
          "18-29",
          "30-39",
          "40-49",
          "50-59",
          "60-69",
          "70-79",
          "80-89",
          "90 eller äldre",
          "12-15",
          "16-17",
          "18-29",
          "30-39",
          "40-49",
          "50-59",
          "60-69",
          "70-79",
          "80-89",
          "90 eller äldre",
          "12-15",
          "16-17",
          "18-29",
          "30-39",
          "40-49",
          "50-59",
          "60-69",
          "70-79",
          "80-89",
          "90 eller äldre",
          "12-15",
          "16-17",
          "18-29",
          "30-39",
          "40-49",
          "50-59",
          "60-69",
          "70-79",
          "80-89",
          "90 eller äldre",
          "12-15",
          "16-17",
          "18-29",
          "30-39",
          "40-49",
          "50-59",
          "60-69",
          "70-79",
          "80-89",
          "90 eller äldre",
          "12-15",
          "16-17",
          "18-29",
          "30-39",
          "40-49",
          "50-59",
          "60-69",
          "70-79",
          "80-89",
          "90 eller äldre",
          "12-15",
          "16-17",
          "18-29",
          "30-39",
          "40-49",
          "50-59",
          "60-69",
          "70-79",
          "80-89",
          "90 eller äldre",
          "12-15",
          "16-17",
          "18-29",
          "30-39",
          "40-49",
          "50-59",
          "60-69",
          "70-79",
          "80-89",
          "90 eller äldre",
          "12-15",
          "16-17",
          "18-29",
          "30-39",
          "40-49",
          "50-59",
          "60-69",
          "70-79",
          "80-89",
          "90 eller äldre",
          "12-15",
          "16-17",
          "18-29",
          "30-39",
          "40-49",
          "50-59",
          "60-69",
          "70-79",
          "80-89",
          "90 eller äldre",
          "12-15",
          "16-17",
          "18-29",
          "30-39",
          "40-49",
          "50-59",
          "60-69",
          "70-79",
          "80-89",
          "90 eller äldre",
          "12-15",
          "16-17",
          "18-29",
          "30-39",
          "40-49",
          "50-59",
          "60-69",
          "70-79",
          "80-89",
          "90 eller äldre",
          "12-15",
          "16-17",
          "18-29",
          "30-39",
          "40-49",
          "50-59",
          "60-69",
          "70-79",
          "80-89",
          "90 eller äldre",
          "12-15",
          "16-17",
          "18-29",
          "30-39",
          "40-49",
          "50-59",
          "60-69",
          "70-79",
          "80-89",
          "90 eller äldre",
          "12-15",
          "16-17",
          "18-29",
          "30-39",
          "40-49",
          "50-59",
          "60-69",
          "70-79",
          "80-89",
          "90 eller äldre",
          "12-15",
          "16-17",
          "18-29",
          "30-39",
          "40-49",
          "50-59",
          "60-69",
          "70-79",
          "80-89",
          "90 eller äldre",
          "12-15",
          "16-17",
          "18-29",
          "30-39",
          "40-49",
          "50-59",
          "60-69",
          "70-79",
          "80-89",
          "90 eller äldre",
          "12-15",
          "16-17",
          "18-29",
          "30-39",
          "40-49",
          "50-59",
          "60-69",
          "70-79",
          "80-89",
          "90 eller äldre",
          "12-15",
          "16-17",
          "18-29",
          "30-39",
          "40-49",
          "50-59",
          "60-69",
          "70-79",
          "80-89",
          "90 eller äldre",
          "12-15",
          "16-17",
          "18-29",
          "30-39",
          "40-49",
          "50-59",
          "60-69",
          "70-79",
          "80-89",
          "90 eller äldre",
          "12-15",
          "16-17",
          "18-29",
          "30-39",
          "40-49",
          "50-59",
          "60-69",
          "70-79",
          "80-89",
          "90 eller äldre",
          "12-15",
          "16-17",
          "18-29",
          "30-39",
          "40-49",
          "50-59",
          "60-69",
          "70-79",
          "80-89",
          "90 eller äldre"
         ],
         "xaxis": "x",
         "y": [
          2422,
          1203,
          6692,
          7332,
          6946,
          6332,
          4258,
          3987,
          1934,
          337,
          2109,
          1014,
          4210,
          4286,
          5277,
          4996,
          3215,
          2651,
          1412,
          242,
          2655,
          1376,
          5995,
          6157,
          6737,
          7185,
          4511,
          4601,
          2065,
          371,
          2556,
          1338,
          5484,
          5706,
          6427,
          7054,
          4869,
          4324,
          1671,
          312,
          4286,
          2110,
          12501,
          13196,
          11632,
          10163,
          7441,
          6383,
          3392,
          727,
          1994,
          912,
          2938,
          3125,
          4419,
          4356,
          2937,
          2514,
          1239,
          219,
          6542,
          3137,
          16400,
          16793,
          17125,
          15106,
          10026,
          7642,
          3487,
          737,
          5286,
          2484,
          14525,
          13797,
          13871,
          12356,
          8629,
          6714,
          2909,
          527,
          1094,
          565,
          2174,
          2214,
          2364,
          2415,
          1333,
          1452,
          857,
          144,
          4975,
          2349,
          14345,
          15303,
          13557,
          12067,
          8112,
          7213,
          3315,
          531,
          2937,
          1453,
          6300,
          6153,
          6939,
          7377,
          4500,
          3974,
          2198,
          444,
          1679,
          772,
          4538,
          4817,
          4375,
          3808,
          2705,
          2460,
          986,
          183,
          719,
          358,
          1380,
          1500,
          1642,
          1658,
          1040,
          986,
          477,
          53,
          4403,
          2138,
          9661,
          8519,
          10607,
          10681,
          6772,
          6743,
          3775,
          819,
          2192,
          1195,
          4366,
          2995,
          4391,
          4877,
          3131,
          3021,
          1823,
          521,
          4536,
          2227,
          10199,
          10307,
          10882,
          10677,
          6951,
          5646,
          2926,
          641,
          42332,
          19501,
          148698,
          178611,
          135739,
          121354,
          96337,
          73370,
          31155,
          8562,
          5092,
          2539,
          15392,
          15288,
          13588,
          13613,
          10052,
          7532,
          3932,
          776,
          6322,
          3014,
          13490,
          14392,
          15886,
          15097,
          9963,
          8970,
          4088,
          988,
          2146,
          928,
          8491,
          11824,
          7469,
          6048,
          4695,
          3380,
          1301,
          324,
          2834,
          1212,
          14281,
          18716,
          11278,
          9066,
          7206,
          6272,
          2828,
          794,
          2790,
          1399,
          5878,
          5462,
          6717,
          6608,
          4813,
          4835,
          2506,
          725,
          716,
          386,
          1305,
          1031,
          1586,
          1915,
          1411,
          1491,
          536,
          103,
          2669,
          1298,
          7520,
          7887,
          6877,
          8638,
          8770,
          9059,
          4063,
          900,
          2756,
          1280,
          7284,
          7749,
          7160,
          6741,
          4468,
          3432,
          1879,
          299,
          1401,
          640,
          3668,
          3933,
          3538,
          4135,
          3341,
          3311,
          1530,
          278,
          1290,
          649,
          2830,
          2884,
          3075,
          3362,
          2075,
          2135,
          898,
          136,
          492,
          223,
          1099,
          1131,
          1090,
          1314,
          1230,
          1165,
          557,
          102,
          1254,
          595,
          2532,
          2919,
          3071,
          2476,
          1542,
          1472,
          516,
          107,
          676,
          275,
          1739,
          1820,
          1494,
          1842,
          1929,
          1684,
          845,
          176,
          988,
          461,
          2631,
          2690,
          2367,
          2802,
          2573,
          2491,
          1219,
          308,
          10934,
          5149,
          46902,
          37114,
          28677,
          26330,
          21772,
          19982,
          8801,
          2160,
          2328,
          1139,
          6269,
          6529,
          5440,
          6312,
          5205,
          4790,
          2279,
          523,
          935,
          485,
          2489,
          2600,
          2287,
          2850,
          3066,
          3195,
          1402,
          303,
          391,
          226,
          1144,
          909,
          938,
          1211,
          1193,
          1253,
          524,
          104,
          607,
          255,
          1206,
          1390,
          1478,
          1511,
          1372,
          1448,
          581,
          108,
          2826,
          1440,
          7260,
          7273,
          6668,
          7161,
          6633,
          6765,
          3447,
          760,
          548,
          266,
          1343,
          1452,
          1322,
          1438,
          1517,
          1663,
          844,
          182,
          745,
          374,
          1849,
          1582,
          1697,
          2108,
          2195,
          2366,
          1093,
          208,
          1660,
          810,
          4657,
          4305,
          3736,
          4319,
          4136,
          3934,
          1868,
          476,
          5464,
          2729,
          15448,
          14378,
          12851,
          13885,
          11347,
          10572,
          5054,
          1162,
          2020,
          1061,
          4301,
          4685,
          4769,
          5210,
          4360,
          4448,
          1926,
          378,
          743,
          330,
          1586,
          1680,
          1814,
          2045,
          1723,
          1961,
          759,
          132,
          217,
          125,
          576,
          595,
          587,
          713,
          647,
          794,
          325,
          89,
          152,
          81,
          337,
          346,
          388,
          482,
          574,
          592,
          261,
          56,
          458,
          236,
          1103,
          1159,
          1047,
          1328,
          1340,
          1297,
          666,
          148,
          228,
          110,
          608,
          636,
          558,
          809,
          741,
          744,
          319,
          78,
          479,
          265,
          1284,
          1339,
          1283,
          1594,
          1413,
          1495,
          770,
          152,
          971,
          480,
          2586,
          2667,
          2515,
          2960,
          2636,
          2678,
          1306,
          290,
          304,
          162,
          720,
          783,
          761,
          1033,
          1089,
          1314,
          534,
          128,
          7805,
          3776,
          31146,
          23364,
          19916,
          19500,
          15429,
          13586,
          7320,
          1769,
          7268,
          3458,
          21769,
          20382,
          17702,
          18066,
          14990,
          13653,
          6516,
          1441,
          739,
          335,
          1424,
          1744,
          1766,
          1997,
          1887,
          1902,
          830,
          164,
          2134,
          1017,
          5368,
          5235,
          5039,
          6011,
          5328,
          5036,
          2450,
          604,
          266,
          138,
          721,
          791,
          696,
          1062,
          1063,
          1245,
          629,
          133,
          1373,
          711,
          3746,
          3723,
          3501,
          3602,
          3024,
          2969,
          1488,
          345,
          326,
          151,
          766,
          892,
          767,
          852,
          933,
          745,
          367,
          73,
          454,
          263,
          1218,
          1143,
          1179,
          1342,
          1096,
          1027,
          413,
          124,
          395,
          207,
          852,
          933,
          869,
          935,
          834,
          975,
          359,
          91,
          797,
          376,
          1337,
          1886,
          1752,
          1480,
          1213,
          1177,
          527,
          91,
          1565,
          767,
          3784,
          3594,
          3470,
          4171,
          3440,
          2894,
          1516,
          391,
          788,
          349,
          1806,
          2097,
          1791,
          1917,
          1591,
          1415,
          685,
          153,
          6979,
          3271,
          24184,
          20248,
          17270,
          17470,
          13799,
          12944,
          6749,
          1668,
          1512,
          795,
          4217,
          4150,
          3505,
          4039,
          3603,
          3313,
          1565,
          433,
          1717,
          826,
          4552,
          4333,
          4065,
          4722,
          4207,
          3500,
          1859,
          417,
          634,
          299,
          1532,
          1328,
          1300,
          1475,
          1328,
          1342,
          655,
          184,
          1407,
          627,
          3449,
          3291,
          3010,
          3665,
          3265,
          3175,
          1648,
          432,
          814,
          416,
          2243,
          2189,
          1917,
          2252,
          2213,
          2149,
          1058,
          288,
          888,
          467,
          2561,
          2263,
          2055,
          2430,
          2050,
          2204,
          1233,
          306,
          454,
          208,
          1145,
          1095,
          1083,
          1273,
          1089,
          1109,
          550,
          158,
          493,
          229,
          975,
          966,
          991,
          1060,
          987,
          1072,
          450,
          119,
          527,
          281,
          1353,
          1310,
          1336,
          1702,
          1685,
          1604,
          865,
          243,
          1078,
          522,
          2465,
          2528,
          2435,
          2392,
          2354,
          2187,
          1024,
          317,
          989,
          424,
          2052,
          2477,
          2460,
          2252,
          1813,
          1721,
          840,
          238,
          501,
          221,
          1300,
          1223,
          1146,
          1330,
          1180,
          1246,
          632,
          158,
          4689,
          2307,
          16358,
          13427,
          11510,
          11160,
          9054,
          8768,
          4335,
          1005,
          1324,
          672,
          3471,
          3518,
          3334,
          3883,
          3393,
          3249,
          1701,
          428,
          267,
          132,
          585,
          573,
          608,
          739,
          862,
          736,
          354,
          69,
          309,
          167,
          759,
          709,
          729,
          1046,
          989,
          1035,
          449,
          101,
          792,
          371,
          1377,
          1712,
          1896,
          2024,
          2105,
          2316,
          956,
          160,
          685,
          301,
          1550,
          1523,
          1414,
          1902,
          1998,
          1806,
          936,
          223,
          570,
          300,
          1503,
          1546,
          1417,
          1734,
          1765,
          1705,
          864,
          184,
          432,
          211,
          1076,
          976,
          1000,
          1279,
          1269,
          1205,
          659,
          157,
          3347,
          1526,
          11432,
          10033,
          8471,
          8809,
          7299,
          6922,
          3390,
          842,
          956,
          441,
          2393,
          2546,
          2109,
          2697,
          2443,
          2365,
          1358,
          317,
          1231,
          662,
          3489,
          3235,
          3102,
          3645,
          3093,
          3237,
          1720,
          342,
          1612,
          750,
          4056,
          3964,
          3802,
          4864,
          5027,
          5305,
          2624,
          618,
          682,
          327,
          1950,
          1890,
          1646,
          2038,
          1974,
          1908,
          1000,
          235,
          395,
          196,
          909,
          949,
          1040,
          1399,
          1845,
          2024,
          985,
          180,
          2710,
          1290,
          7395,
          6977,
          6731,
          8114,
          8223,
          7900,
          3789,
          795,
          564,
          294,
          1641,
          1538,
          1345,
          1915,
          1656,
          1614,
          968,
          226,
          3218,
          1664,
          9694,
          8393,
          8158,
          8337,
          7117,
          7302,
          3628,
          790,
          1483,
          732,
          3363,
          3326,
          3414,
          3858,
          3363,
          3495,
          1859,
          459,
          1484,
          729,
          4062,
          3818,
          3543,
          4477,
          3837,
          3842,
          2115,
          447,
          768,
          411,
          2065,
          1969,
          1984,
          2407,
          2300,
          2265,
          1149,
          241,
          747,
          348,
          1748,
          2032,
          1891,
          1956,
          1526,
          1311,
          553,
          129,
          1667,
          727,
          2804,
          3408,
          3957,
          3453,
          2151,
          2289,
          1371,
          237,
          1029,
          466,
          2681,
          2840,
          2783,
          2377,
          1907,
          1590,
          817,
          176,
          2108,
          1074,
          3531,
          3747,
          5151,
          5739,
          3909,
          4348,
          2231,
          391,
          796,
          369,
          1791,
          1827,
          1676,
          1930,
          1648,
          1659,
          785,
          180,
          501,
          245,
          1300,
          1261,
          1193,
          1390,
          1339,
          1201,
          560,
          151,
          857,
          404,
          2113,
          2052,
          2024,
          2195,
          1679,
          1503,
          630,
          119,
          1943,
          997,
          3448,
          4049,
          4788,
          4537,
          2837,
          3205,
          1417,
          269,
          1701,
          791,
          2257,
          2143,
          3821,
          3628,
          2262,
          2456,
          1531,
          303,
          1423,
          608,
          2329,
          3233,
          3546,
          2893,
          2068,
          2028,
          921,
          190,
          810,
          400,
          2006,
          2133,
          2093,
          2306,
          1870,
          1721,
          708,
          152,
          882,
          390,
          2162,
          2473,
          2259,
          2813,
          2562,
          2228,
          1023,
          208,
          729,
          366,
          1818,
          2028,
          1924,
          2085,
          1954,
          1768,
          810,
          191,
          902,
          400,
          1800,
          2134,
          2215,
          2382,
          2020,
          1780,
          812,
          202,
          662,
          301,
          1605,
          1631,
          1538,
          1681,
          1891,
          1705,
          837,
          173,
          666,
          337,
          1423,
          1509,
          1486,
          1760,
          1471,
          1570,
          766,
          128,
          644,
          310,
          1572,
          1559,
          1471,
          1689,
          1561,
          1608,
          874,
          224,
          431,
          205,
          929,
          1006,
          788,
          989,
          840,
          768,
          383,
          104,
          818,
          412,
          2372,
          2233,
          2095,
          2432,
          2032,
          1989,
          899,
          221,
          960,
          493,
          2099,
          2201,
          2227,
          2147,
          1515,
          1419,
          667,
          115,
          674,
          315,
          1565,
          1554,
          1748,
          2105,
          2234,
          2410,
          1188,
          285,
          15977,
          7182,
          57279,
          63772,
          47997,
          39449,
          31777,
          24925,
          12135,
          3152,
          6035,
          2819,
          28119,
          16929,
          15567,
          13977,
          11343,
          10745,
          5067,
          1156,
          2293,
          1024,
          6031,
          6324,
          5957,
          6006,
          5085,
          4819,
          2178,
          468,
          7307,
          3523,
          21984,
          21240,
          18944,
          19668,
          15654,
          13575,
          6557,
          1582,
          1442,
          728,
          2796,
          2837,
          3492,
          3851,
          3302,
          3826,
          1830,
          386,
          1868,
          894,
          4628,
          4708,
          4436,
          4658,
          3547,
          3088,
          1540,
          343,
          1397,
          680,
          3632,
          3438,
          3542,
          4131,
          4226,
          4446,
          2029,
          464,
          2236,
          1113,
          5668,
          5930,
          5785,
          6398,
          5320,
          4832,
          2427,
          499,
          4323,
          2130,
          11988,
          11083,
          10055,
          11149,
          9741,
          9093,
          4620,
          1133,
          740,
          355,
          1884,
          1732,
          1747,
          2516,
          3128,
          3364,
          1563,
          349,
          2145,
          1020,
          5152,
          5417,
          5266,
          5934,
          5074,
          5154,
          2532,
          667,
          2470,
          1215,
          6747,
          6613,
          5981,
          7038,
          5974,
          5809,
          3098,
          796,
          551,
          300,
          1234,
          1248,
          1195,
          1403,
          1293,
          1133,
          574,
          158,
          5034,
          2398,
          15531,
          14475,
          12268,
          13034,
          11086,
          10329,
          5342,
          1271,
          1199,
          613,
          3004,
          3127,
          2987,
          3437,
          3445,
          3390,
          1511,
          343,
          2194,
          1028,
          5833,
          5757,
          5247,
          5951,
          5626,
          5555,
          2764,
          676,
          3206,
          1522,
          8107,
          8476,
          7879,
          8502,
          8218,
          8033,
          3621,
          890,
          5123,
          2550,
          9900,
          9458,
          11412,
          12680,
          8904,
          8404,
          4367,
          867,
          2641,
          1123,
          4446,
          4844,
          6078,
          5543,
          3706,
          3136,
          1473,
          329,
          2305,
          991,
          4767,
          5558,
          5621,
          5193,
          3884,
          3191,
          1581,
          414,
          680,
          354,
          1422,
          1168,
          1439,
          1916,
          1773,
          1718,
          784,
          173,
          1500,
          787,
          3442,
          3491,
          3540,
          3947,
          2845,
          2644,
          1420,
          284,
          762,
          368,
          1574,
          1755,
          1783,
          2202,
          2302,
          2379,
          1001,
          211,
          636,
          322,
          1561,
          1471,
          1609,
          2121,
          2390,
          2381,
          1084,
          211,
          326,
          137,
          883,
          853,
          972,
          1272,
          1471,
          1673,
          632,
          167,
          471,
          253,
          1248,
          1335,
          1163,
          1368,
          1354,
          1268,
          635,
          156,
          566,
          256,
          1356,
          1406,
          1359,
          1709,
          1922,
          1931,
          813,
          205,
          215,
          114,
          527,
          545,
          531,
          604,
          571,
          671,
          340,
          67,
          306,
          150,
          750,
          751,
          686,
          898,
          910,
          833,
          369,
          96,
          1765,
          863,
          4060,
          4591,
          4478,
          4123,
          2876,
          2866,
          1350,
          204,
          2711,
          1312,
          4622,
          5371,
          6359,
          6040,
          3974,
          3701,
          1980,
          401,
          626,
          314,
          1520,
          1647,
          1448,
          1581,
          1362,
          1265,
          561,
          126,
          536,
          260,
          1038,
          1231,
          1271,
          1353,
          1024,
          1040,
          457,
          86,
          271,
          126,
          635,
          659,
          632,
          803,
          769,
          745,
          337,
          92,
          296,
          105,
          597,
          663,
          623,
          775,
          741,
          769,
          330,
          85,
          277,
          151,
          795,
          786,
          749,
          888,
          883,
          1118,
          487,
          98,
          198,
          93,
          508,
          476,
          467,
          752,
          843,
          839,
          365,
          87,
          574,
          284,
          1371,
          1421,
          1378,
          1641,
          1451,
          1483,
          658,
          177,
          399,
          195,
          1049,
          956,
          913,
          1278,
          1295,
          1417,
          652,
          191,
          431,
          168,
          1092,
          1054,
          923,
          1185,
          1259,
          1286,
          581,
          161,
          667,
          291,
          1754,
          2122,
          1726,
          1932,
          1695,
          1441,
          612,
          133,
          1871,
          858,
          4314,
          4320,
          4103,
          4786,
          4233,
          3923,
          1856,
          445,
          529,
          230,
          1192,
          1302,
          1144,
          1507,
          1401,
          1395,
          611,
          118,
          428,
          199,
          1204,
          1112,
          1034,
          1286,
          1200,
          1174,
          538,
          118,
          760,
          348,
          2013,
          1917,
          1884,
          2183,
          2075,
          1820,
          929,
          194,
          668,
          292,
          1416,
          1488,
          1469,
          1854,
          1811,
          1750,
          779,
          153,
          525,
          262,
          1383,
          1433,
          1218,
          1510,
          1337,
          1310,
          729,
          164,
          415,
          205,
          1097,
          1020,
          987,
          1204,
          1322,
          1232,
          518,
          128,
          25395,
          11922,
          102778,
          104015,
          76366,
          69463,
          55765,
          44288,
          19954,
          5160,
          3679,
          1703,
          9991,
          10898,
          9847,
          9180,
          6566,
          5254,
          2606,
          629,
          2500,
          1163,
          6187,
          6640,
          5901,
          6593,
          5220,
          4597,
          2487,
          582,
          617,
          289,
          1444,
          1444,
          1448,
          1939,
          2139,
          2165,
          1019,
          256,
          2844,
          1297,
          7765,
          7416,
          6566,
          7360,
          6601,
          5688,
          3066,
          745,
          621,
          271,
          1560,
          1775,
          1680,
          1679,
          1559,
          1525,
          700,
          175,
          1966,
          963,
          5131,
          4953,
          4346,
          5334,
          4639,
          4357,
          2315,
          471,
          2958,
          1467,
          9178,
          8009,
          7014,
          7656,
          6109,
          5439,
          2758,
          650,
          2172,
          1071,
          5133,
          5448,
          5154,
          5141,
          4606,
          4717,
          2243,
          511,
          5623,
          2694,
          17454,
          16024,
          13883,
          14298,
          11541,
          10403,
          5421,
          1311,
          1193,
          569,
          3051,
          3055,
          2880,
          3362,
          3014,
          2864,
          1396,
          370,
          605,
          281,
          1447,
          1294,
          1281,
          1705,
          1615,
          1544,
          858,
          239,
          1037,
          525,
          3084,
          3066,
          2515,
          3280,
          3104,
          3121,
          1677,
          359,
          1962,
          929,
          5310,
          4928,
          4666,
          5405,
          4823,
          4626,
          2369,
          527,
          877,
          460,
          2517,
          2381,
          2053,
          2654,
          2159,
          2086,
          1015,
          230,
          2553,
          1223,
          9311,
          8362,
          6419,
          6978,
          5909,
          5288,
          2732,
          650,
          420,
          184,
          1032,
          1080,
          1040,
          1209,
          1142,
          1267,
          592,
          118,
          560,
          272,
          1600,
          1602,
          1340,
          1763,
          1588,
          1438,
          799,
          200,
          1633,
          852,
          4373,
          4282,
          3769,
          4174,
          3866,
          3397,
          1881,
          471,
          540,
          314,
          1269,
          1536,
          1407,
          1548,
          1435,
          1502,
          711,
          159,
          346,
          154,
          942,
          1112,
          883,
          1185,
          1172,
          1011,
          482,
          136,
          428,
          217,
          1245,
          1221,
          1223,
          1550,
          1671,
          1638,
          811,
          180,
          162,
          96,
          414,
          394,
          363,
          603,
          606,
          614,
          225,
          62,
          1012,
          444,
          1463,
          2220,
          2359,
          2139,
          1808,
          1643,
          773,
          143,
          169,
          71,
          405,
          427,
          351,
          508,
          517,
          460,
          290,
          74,
          588,
          267,
          1272,
          1499,
          1343,
          1560,
          1243,
          1373,
          686,
          124,
          402,
          184,
          1011,
          1115,
          932,
          1278,
          1177,
          1209,
          557,
          139,
          459,
          207,
          1224,
          1191,
          1085,
          1402,
          1238,
          1226,
          595,
          137,
          572,
          270,
          1625,
          1476,
          1419,
          1873,
          1906,
          1609,
          818,
          208,
          4153,
          2014,
          16388,
          13008,
          11047,
          11840,
          10126,
          9403,
          4763,
          1132,
          1045,
          515,
          2838,
          2740,
          2565,
          3320,
          3160,
          3280,
          1519,
          359,
          454,
          214,
          1313,
          1114,
          1013,
          1325,
          1378,
          1452,
          685,
          180,
          444,
          221,
          1190,
          1228,
          1106,
          1632,
          1901,
          1617,
          879,
          196,
          1100,
          542,
          3090,
          3016,
          2848,
          3424,
          3245,
          3292,
          1650,
          469,
          675,
          370,
          1802,
          1644,
          1509,
          2147,
          2027,
          2021,
          1085,
          259,
          491,
          187,
          851,
          1347,
          1063,
          1013,
          913,
          874,
          434,
          82,
          254,
          108,
          576,
          579,
          551,
          835,
          795,
          807,
          381,
          94,
          815,
          391,
          1944,
          2129,
          1880,
          2091,
          1887,
          1855,
          826,
          166,
          398,
          201,
          1080,
          950,
          1040,
          1356,
          1284,
          1394,
          628,
          140,
          299,
          143,
          815,
          724,
          593,
          915,
          905,
          940,
          521,
          98,
          163,
          88,
          457,
          425,
          481,
          653,
          731,
          701,
          358,
          72,
          7733,
          3542,
          27125,
          21701,
          19150,
          18815,
          15153,
          14289,
          6599,
          1585,
          1263,
          524,
          2774,
          3053,
          2864,
          2862,
          2169,
          2218,
          1063,
          219,
          475,
          272,
          1277,
          1199,
          1192,
          1542,
          1654,
          1696,
          764,
          153,
          1422,
          687,
          4058,
          3690,
          3275,
          4137,
          3527,
          3622,
          1968,
          408,
          538,
          254,
          1109,
          1233,
          1213,
          1387,
          1344,
          1511,
          726,
          122,
          1138,
          505,
          2869,
          2770,
          2607,
          3077,
          2922,
          3037,
          1349,
          342,
          172,
          102,
          465,
          450,
          447,
          602,
          663,
          686,
          287,
          60,
          501,
          249,
          1089,
          1238,
          1146,
          1332,
          1188,
          1294,
          590,
          127,
          455,
          198,
          1032,
          1012,
          975,
          1190,
          1090,
          1063,
          477,
          107,
          824,
          387,
          2105,
          2136,
          1805,
          2158,
          1859,
          1895,
          1031,
          207,
          262,
          127,
          627,
          651,
          587,
          715,
          778,
          812,
          342,
          83,
          7520,
          3747,
          23221,
          22451,
          19137,
          20524,
          15701,
          14704,
          7545,
          1772,
          1116,
          481,
          2734,
          2806,
          2529,
          2991,
          2825,
          2885,
          1318,
          306,
          662,
          331,
          1574,
          1639,
          1469,
          1753,
          1539,
          1525,
          823,
          191,
          1220,
          615,
          3379,
          3203,
          2817,
          3418,
          3127,
          3059,
          1549,
          369,
          590,
          299,
          1793,
          1663,
          1457,
          1881,
          1713,
          1845,
          935,
          201,
          331,
          144,
          823,
          773,
          676,
          953,
          893,
          912,
          464,
          90,
          434,
          215,
          1224,
          1179,
          1128,
          1412,
          1339,
          1359,
          667,
          148,
          542,
          236,
          1054,
          1302,
          1137,
          1332,
          1334,
          1356,
          596,
          112,
          705,
          334,
          1704,
          1742,
          1714,
          2076,
          2191,
          2381,
          1090,
          258,
          445,
          225,
          1220,
          1105,
          1109,
          1391,
          1574,
          1889,
          889,
          216,
          285,
          143,
          858,
          842,
          641,
          1001,
          942,
          926,
          460,
          116,
          321,
          160,
          790,
          774,
          746,
          930,
          964,
          979,
          515,
          109,
          489,
          237,
          1066,
          1190,
          1144,
          1535,
          1590,
          1628,
          697,
          121,
          935,
          496,
          2370,
          2433,
          2324,
          2633,
          2688,
          2860,
          1367,
          268,
          2902,
          1427,
          7726,
          7906,
          7262,
          7208,
          6786,
          6737,
          3160,
          706,
          2647,
          1305,
          7686,
          7033,
          5927,
          6588,
          5643,
          5164,
          2572,
          538,
          507,
          241,
          1140,
          1426,
          1264,
          1416,
          1525,
          1495,
          663,
          139,
          748,
          330,
          1772,
          1823,
          1565,
          2076,
          2106,
          2032,
          932,
          205,
          1028,
          490,
          2698,
          2787,
          2468,
          2907,
          2934,
          2873,
          1417,
          330,
          1163,
          561,
          3114,
          3423,
          2898,
          3275,
          3190,
          3219,
          1563,
          413,
          241,
          112,
          597,
          630,
          583,
          829,
          873,
          938,
          310,
          95,
          426,
          211,
          1176,
          1103,
          906,
          1331,
          1342,
          1233,
          570,
          125,
          514,
          264,
          1310,
          1323,
          1190,
          1500,
          1538,
          1636,
          777,
          181,
          449,
          206,
          1029,
          1052,
          952,
          1319,
          1295,
          1359,
          547,
          106,
          850,
          446,
          2103,
          2140,
          1980,
          2491,
          2531,
          2662,
          1200,
          279,
          4877,
          2351,
          15177,
          13928,
          12372,
          13418,
          11209,
          10475,
          5147,
          1061,
          1742,
          945,
          4848,
          4875,
          4397,
          5365,
          4651,
          4596,
          2362,
          477,
          1124,
          550,
          2858,
          2755,
          2601,
          3499,
          3496,
          3566,
          1612,
          355,
          1200,
          613,
          3174,
          3093,
          2923,
          3423,
          3422,
          3463,
          1652,
          394,
          1778,
          898,
          4565,
          4419,
          4188,
          4917,
          4881,
          5026,
          2178,
          460,
          378,
          200,
          1032,
          965,
          936,
          1304,
          1416,
          1219,
          623,
          128,
          829,
          422,
          2253,
          2090,
          2158,
          2580,
          2090,
          2158,
          971,
          161,
          1228,
          561,
          2991,
          3009,
          2752,
          3140,
          3007,
          3383,
          1594,
          309,
          4820,
          2436,
          13519,
          12763,
          12005,
          13410,
          11001,
          10717,
          5389,
          1093,
          738,
          367,
          2002,
          1861,
          1793,
          2563,
          2661,
          2649,
          1159,
          275,
          809,
          394,
          1986,
          2057,
          1913,
          2427,
          2740,
          2591,
          1352,
          308,
          2700,
          1272,
          6533,
          6769,
          6608,
          7198,
          6786,
          6781,
          3293,
          692,
          235,
          97,
          506,
          593,
          514,
          723,
          741,
          724,
          381,
          76,
          245,
          142,
          645,
          625,
          605,
          922,
          948,
          923,
          371,
          91,
          961,
          450,
          1483,
          1853,
          2044,
          2033,
          1781,
          1722,
          681,
          133,
          449,
          220,
          1245,
          1254,
          1127,
          1427,
          1691,
          1676,
          814,
          190,
          621,
          263,
          1663,
          1938,
          1641,
          1514,
          1333,
          1018,
          459,
          92,
          309,
          166,
          759,
          828,
          682,
          905,
          1024,
          1004,
          487,
          113,
          364,
          188,
          1169,
          1160,
          1049,
          1393,
          1446,
          1476,
          705,
          163,
          3052,
          1447,
          9348,
          8878,
          7629,
          7834,
          6991,
          6990,
          3260,
          696,
          308,
          163,
          833,
          741,
          783,
          923,
          954,
          966,
          492,
          105,
          99,
          52,
          289,
          278,
          231,
          280,
          301,
          325,
          177,
          58,
          282,
          101,
          580,
          622,
          629,
          646,
          726,
          744,
          350,
          98,
          325,
          156,
          689,
          855,
          725,
          796,
          1009,
          877,
          392,
          91,
          194,
          87,
          407,
          443,
          390,
          525,
          576,
          560,
          267,
          55,
          143,
          60,
          386,
          301,
          307,
          355,
          450,
          417,
          196,
          42,
          266,
          103,
          625,
          576,
          588,
          762,
          870,
          803,
          405,
          109,
          94,
          40,
          251,
          257,
          246,
          339,
          365,
          322,
          200,
          43,
          110,
          53,
          223,
          250,
          228,
          312,
          398,
          367,
          183,
          61,
          442,
          221,
          1133,
          1244,
          1032,
          1120,
          967,
          905,
          491,
          117,
          294,
          148,
          850,
          737,
          638,
          775,
          972,
          825,
          416,
          90,
          109,
          58,
          327,
          270,
          291,
          348,
          401,
          422,
          206,
          54,
          5852,
          2765,
          24573,
          20192,
          16097,
          14638,
          12082,
          11298,
          5070,
          1066,
          591,
          286,
          1535,
          1575,
          1255,
          1481,
          1555,
          1444,
          753,
          145,
          3366,
          1678,
          9620,
          9414,
          8704,
          9308,
          9152,
          8421,
          4248,
          876,
          249,
          108,
          702,
          771,
          644,
          751,
          860,
          784,
          459,
          85,
          96,
          50,
          284,
          304,
          270,
          386,
          407,
          359,
          195,
          57,
          161,
          78,
          536,
          554,
          460,
          666,
          734,
          681,
          338,
          72,
          98,
          55,
          315,
          353,
          256,
          386,
          560,
          524,
          291,
          69,
          638,
          340,
          1762,
          1692,
          1610,
          2193,
          2253,
          2198,
          1164,
          237,
          159,
          77,
          423,
          342,
          354,
          530,
          737,
          749,
          351,
          78,
          221,
          118,
          659,
          542,
          475,
          688,
          956,
          1012,
          539,
          84,
          664,
          335,
          2038,
          2423,
          1829,
          2295,
          2392,
          1997,
          1155,
          245,
          328,
          160,
          1022,
          963,
          869,
          1019,
          1033,
          1018,
          500,
          133,
          3427,
          1716,
          12599,
          10549,
          9112,
          10434,
          8757,
          7924,
          4078,
          800,
          1838,
          942,
          5510,
          5310,
          4969,
          5586,
          5169,
          5181,
          2263,
          433,
          1156,
          573,
          3802,
          3464,
          3117,
          3618,
          3577,
          3532,
          1645,
          370,
          452,
          225,
          990,
          876,
          978,
          1142,
          1488,
          1478,
          624,
          108,
          954,
          519,
          3167,
          3202,
          2385,
          3079,
          2781,
          2194,
          1280,
          219
         ],
         "yaxis": "y"
        }
       ],
       "layout": {
        "barmode": "relative",
        "legend": {
         "tracegroupgap": 0
        },
        "template": {
         "data": {
          "bar": [
           {
            "error_x": {
             "color": "#2a3f5f"
            },
            "error_y": {
             "color": "#2a3f5f"
            },
            "marker": {
             "line": {
              "color": "#E5ECF6",
              "width": 0.5
             },
             "pattern": {
              "fillmode": "overlay",
              "size": 10,
              "solidity": 0.2
             }
            },
            "type": "bar"
           }
          ],
          "barpolar": [
           {
            "marker": {
             "line": {
              "color": "#E5ECF6",
              "width": 0.5
             },
             "pattern": {
              "fillmode": "overlay",
              "size": 10,
              "solidity": 0.2
             }
            },
            "type": "barpolar"
           }
          ],
          "carpet": [
           {
            "aaxis": {
             "endlinecolor": "#2a3f5f",
             "gridcolor": "white",
             "linecolor": "white",
             "minorgridcolor": "white",
             "startlinecolor": "#2a3f5f"
            },
            "baxis": {
             "endlinecolor": "#2a3f5f",
             "gridcolor": "white",
             "linecolor": "white",
             "minorgridcolor": "white",
             "startlinecolor": "#2a3f5f"
            },
            "type": "carpet"
           }
          ],
          "choropleth": [
           {
            "colorbar": {
             "outlinewidth": 0,
             "ticks": ""
            },
            "type": "choropleth"
           }
          ],
          "contour": [
           {
            "colorbar": {
             "outlinewidth": 0,
             "ticks": ""
            },
            "colorscale": [
             [
              0,
              "#0d0887"
             ],
             [
              0.1111111111111111,
              "#46039f"
             ],
             [
              0.2222222222222222,
              "#7201a8"
             ],
             [
              0.3333333333333333,
              "#9c179e"
             ],
             [
              0.4444444444444444,
              "#bd3786"
             ],
             [
              0.5555555555555556,
              "#d8576b"
             ],
             [
              0.6666666666666666,
              "#ed7953"
             ],
             [
              0.7777777777777778,
              "#fb9f3a"
             ],
             [
              0.8888888888888888,
              "#fdca26"
             ],
             [
              1,
              "#f0f921"
             ]
            ],
            "type": "contour"
           }
          ],
          "contourcarpet": [
           {
            "colorbar": {
             "outlinewidth": 0,
             "ticks": ""
            },
            "type": "contourcarpet"
           }
          ],
          "heatmap": [
           {
            "colorbar": {
             "outlinewidth": 0,
             "ticks": ""
            },
            "colorscale": [
             [
              0,
              "#0d0887"
             ],
             [
              0.1111111111111111,
              "#46039f"
             ],
             [
              0.2222222222222222,
              "#7201a8"
             ],
             [
              0.3333333333333333,
              "#9c179e"
             ],
             [
              0.4444444444444444,
              "#bd3786"
             ],
             [
              0.5555555555555556,
              "#d8576b"
             ],
             [
              0.6666666666666666,
              "#ed7953"
             ],
             [
              0.7777777777777778,
              "#fb9f3a"
             ],
             [
              0.8888888888888888,
              "#fdca26"
             ],
             [
              1,
              "#f0f921"
             ]
            ],
            "type": "heatmap"
           }
          ],
          "heatmapgl": [
           {
            "colorbar": {
             "outlinewidth": 0,
             "ticks": ""
            },
            "colorscale": [
             [
              0,
              "#0d0887"
             ],
             [
              0.1111111111111111,
              "#46039f"
             ],
             [
              0.2222222222222222,
              "#7201a8"
             ],
             [
              0.3333333333333333,
              "#9c179e"
             ],
             [
              0.4444444444444444,
              "#bd3786"
             ],
             [
              0.5555555555555556,
              "#d8576b"
             ],
             [
              0.6666666666666666,
              "#ed7953"
             ],
             [
              0.7777777777777778,
              "#fb9f3a"
             ],
             [
              0.8888888888888888,
              "#fdca26"
             ],
             [
              1,
              "#f0f921"
             ]
            ],
            "type": "heatmapgl"
           }
          ],
          "histogram": [
           {
            "marker": {
             "pattern": {
              "fillmode": "overlay",
              "size": 10,
              "solidity": 0.2
             }
            },
            "type": "histogram"
           }
          ],
          "histogram2d": [
           {
            "colorbar": {
             "outlinewidth": 0,
             "ticks": ""
            },
            "colorscale": [
             [
              0,
              "#0d0887"
             ],
             [
              0.1111111111111111,
              "#46039f"
             ],
             [
              0.2222222222222222,
              "#7201a8"
             ],
             [
              0.3333333333333333,
              "#9c179e"
             ],
             [
              0.4444444444444444,
              "#bd3786"
             ],
             [
              0.5555555555555556,
              "#d8576b"
             ],
             [
              0.6666666666666666,
              "#ed7953"
             ],
             [
              0.7777777777777778,
              "#fb9f3a"
             ],
             [
              0.8888888888888888,
              "#fdca26"
             ],
             [
              1,
              "#f0f921"
             ]
            ],
            "type": "histogram2d"
           }
          ],
          "histogram2dcontour": [
           {
            "colorbar": {
             "outlinewidth": 0,
             "ticks": ""
            },
            "colorscale": [
             [
              0,
              "#0d0887"
             ],
             [
              0.1111111111111111,
              "#46039f"
             ],
             [
              0.2222222222222222,
              "#7201a8"
             ],
             [
              0.3333333333333333,
              "#9c179e"
             ],
             [
              0.4444444444444444,
              "#bd3786"
             ],
             [
              0.5555555555555556,
              "#d8576b"
             ],
             [
              0.6666666666666666,
              "#ed7953"
             ],
             [
              0.7777777777777778,
              "#fb9f3a"
             ],
             [
              0.8888888888888888,
              "#fdca26"
             ],
             [
              1,
              "#f0f921"
             ]
            ],
            "type": "histogram2dcontour"
           }
          ],
          "mesh3d": [
           {
            "colorbar": {
             "outlinewidth": 0,
             "ticks": ""
            },
            "type": "mesh3d"
           }
          ],
          "parcoords": [
           {
            "line": {
             "colorbar": {
              "outlinewidth": 0,
              "ticks": ""
             }
            },
            "type": "parcoords"
           }
          ],
          "pie": [
           {
            "automargin": true,
            "type": "pie"
           }
          ],
          "scatter": [
           {
            "fillpattern": {
             "fillmode": "overlay",
             "size": 10,
             "solidity": 0.2
            },
            "type": "scatter"
           }
          ],
          "scatter3d": [
           {
            "line": {
             "colorbar": {
              "outlinewidth": 0,
              "ticks": ""
             }
            },
            "marker": {
             "colorbar": {
              "outlinewidth": 0,
              "ticks": ""
             }
            },
            "type": "scatter3d"
           }
          ],
          "scattercarpet": [
           {
            "marker": {
             "colorbar": {
              "outlinewidth": 0,
              "ticks": ""
             }
            },
            "type": "scattercarpet"
           }
          ],
          "scattergeo": [
           {
            "marker": {
             "colorbar": {
              "outlinewidth": 0,
              "ticks": ""
             }
            },
            "type": "scattergeo"
           }
          ],
          "scattergl": [
           {
            "marker": {
             "colorbar": {
              "outlinewidth": 0,
              "ticks": ""
             }
            },
            "type": "scattergl"
           }
          ],
          "scattermapbox": [
           {
            "marker": {
             "colorbar": {
              "outlinewidth": 0,
              "ticks": ""
             }
            },
            "type": "scattermapbox"
           }
          ],
          "scatterpolar": [
           {
            "marker": {
             "colorbar": {
              "outlinewidth": 0,
              "ticks": ""
             }
            },
            "type": "scatterpolar"
           }
          ],
          "scatterpolargl": [
           {
            "marker": {
             "colorbar": {
              "outlinewidth": 0,
              "ticks": ""
             }
            },
            "type": "scatterpolargl"
           }
          ],
          "scatterternary": [
           {
            "marker": {
             "colorbar": {
              "outlinewidth": 0,
              "ticks": ""
             }
            },
            "type": "scatterternary"
           }
          ],
          "surface": [
           {
            "colorbar": {
             "outlinewidth": 0,
             "ticks": ""
            },
            "colorscale": [
             [
              0,
              "#0d0887"
             ],
             [
              0.1111111111111111,
              "#46039f"
             ],
             [
              0.2222222222222222,
              "#7201a8"
             ],
             [
              0.3333333333333333,
              "#9c179e"
             ],
             [
              0.4444444444444444,
              "#bd3786"
             ],
             [
              0.5555555555555556,
              "#d8576b"
             ],
             [
              0.6666666666666666,
              "#ed7953"
             ],
             [
              0.7777777777777778,
              "#fb9f3a"
             ],
             [
              0.8888888888888888,
              "#fdca26"
             ],
             [
              1,
              "#f0f921"
             ]
            ],
            "type": "surface"
           }
          ],
          "table": [
           {
            "cells": {
             "fill": {
              "color": "#EBF0F8"
             },
             "line": {
              "color": "white"
             }
            },
            "header": {
             "fill": {
              "color": "#C8D4E3"
             },
             "line": {
              "color": "white"
             }
            },
            "type": "table"
           }
          ]
         },
         "layout": {
          "annotationdefaults": {
           "arrowcolor": "#2a3f5f",
           "arrowhead": 0,
           "arrowwidth": 1
          },
          "autotypenumbers": "strict",
          "coloraxis": {
           "colorbar": {
            "outlinewidth": 0,
            "ticks": ""
           }
          },
          "colorscale": {
           "diverging": [
            [
             0,
             "#8e0152"
            ],
            [
             0.1,
             "#c51b7d"
            ],
            [
             0.2,
             "#de77ae"
            ],
            [
             0.3,
             "#f1b6da"
            ],
            [
             0.4,
             "#fde0ef"
            ],
            [
             0.5,
             "#f7f7f7"
            ],
            [
             0.6,
             "#e6f5d0"
            ],
            [
             0.7,
             "#b8e186"
            ],
            [
             0.8,
             "#7fbc41"
            ],
            [
             0.9,
             "#4d9221"
            ],
            [
             1,
             "#276419"
            ]
           ],
           "sequential": [
            [
             0,
             "#0d0887"
            ],
            [
             0.1111111111111111,
             "#46039f"
            ],
            [
             0.2222222222222222,
             "#7201a8"
            ],
            [
             0.3333333333333333,
             "#9c179e"
            ],
            [
             0.4444444444444444,
             "#bd3786"
            ],
            [
             0.5555555555555556,
             "#d8576b"
            ],
            [
             0.6666666666666666,
             "#ed7953"
            ],
            [
             0.7777777777777778,
             "#fb9f3a"
            ],
            [
             0.8888888888888888,
             "#fdca26"
            ],
            [
             1,
             "#f0f921"
            ]
           ],
           "sequentialminus": [
            [
             0,
             "#0d0887"
            ],
            [
             0.1111111111111111,
             "#46039f"
            ],
            [
             0.2222222222222222,
             "#7201a8"
            ],
            [
             0.3333333333333333,
             "#9c179e"
            ],
            [
             0.4444444444444444,
             "#bd3786"
            ],
            [
             0.5555555555555556,
             "#d8576b"
            ],
            [
             0.6666666666666666,
             "#ed7953"
            ],
            [
             0.7777777777777778,
             "#fb9f3a"
            ],
            [
             0.8888888888888888,
             "#fdca26"
            ],
            [
             1,
             "#f0f921"
            ]
           ]
          },
          "colorway": [
           "#636efa",
           "#EF553B",
           "#00cc96",
           "#ab63fa",
           "#FFA15A",
           "#19d3f3",
           "#FF6692",
           "#B6E880",
           "#FF97FF",
           "#FECB52"
          ],
          "font": {
           "color": "#2a3f5f"
          },
          "geo": {
           "bgcolor": "white",
           "lakecolor": "white",
           "landcolor": "#E5ECF6",
           "showlakes": true,
           "showland": true,
           "subunitcolor": "white"
          },
          "hoverlabel": {
           "align": "left"
          },
          "hovermode": "closest",
          "mapbox": {
           "style": "light"
          },
          "paper_bgcolor": "white",
          "plot_bgcolor": "#E5ECF6",
          "polar": {
           "angularaxis": {
            "gridcolor": "white",
            "linecolor": "white",
            "ticks": ""
           },
           "bgcolor": "#E5ECF6",
           "radialaxis": {
            "gridcolor": "white",
            "linecolor": "white",
            "ticks": ""
           }
          },
          "scene": {
           "xaxis": {
            "backgroundcolor": "#E5ECF6",
            "gridcolor": "white",
            "gridwidth": 2,
            "linecolor": "white",
            "showbackground": true,
            "ticks": "",
            "zerolinecolor": "white"
           },
           "yaxis": {
            "backgroundcolor": "#E5ECF6",
            "gridcolor": "white",
            "gridwidth": 2,
            "linecolor": "white",
            "showbackground": true,
            "ticks": "",
            "zerolinecolor": "white"
           },
           "zaxis": {
            "backgroundcolor": "#E5ECF6",
            "gridcolor": "white",
            "gridwidth": 2,
            "linecolor": "white",
            "showbackground": true,
            "ticks": "",
            "zerolinecolor": "white"
           }
          },
          "shapedefaults": {
           "line": {
            "color": "#2a3f5f"
           }
          },
          "ternary": {
           "aaxis": {
            "gridcolor": "white",
            "linecolor": "white",
            "ticks": ""
           },
           "baxis": {
            "gridcolor": "white",
            "linecolor": "white",
            "ticks": ""
           },
           "bgcolor": "#E5ECF6",
           "caxis": {
            "gridcolor": "white",
            "linecolor": "white",
            "ticks": ""
           }
          },
          "title": {
           "x": 0.05
          },
          "xaxis": {
           "automargin": true,
           "gridcolor": "white",
           "linecolor": "white",
           "ticks": "",
           "title": {
            "standoff": 15
           },
           "zerolinecolor": "white",
           "zerolinewidth": 2
          },
          "yaxis": {
           "automargin": true,
           "gridcolor": "white",
           "linecolor": "white",
           "ticks": "",
           "title": {
            "standoff": 15
           },
           "zerolinecolor": "white",
           "zerolinewidth": 2
          }
         }
        },
        "title": {
         "text": "Diagram över åldersfördelning Sverige 2022"
        },
        "xaxis": {
         "anchor": "y",
         "domain": [
          0,
          1
         ],
         "title": {
          "text": "Ålder"
         }
        },
        "yaxis": {
         "anchor": "x",
         "domain": [
          0,
          1
         ],
         "title": {
          "text": "Befolkning i Miljoner"
         }
        }
       }
      }
     },
     "metadata": {},
     "output_type": "display_data"
    }
   ],
   "source": [
    "px.histogram(df_vaccine, x = \"Ålder\", y = \"Befolkning\", title = \"Diagram över åldersfördelning Sverige 2022\").update_layout(yaxis_title = \"Befolkning i Miljoner\")"
   ]
  },
  {
   "cell_type": "code",
   "execution_count": 63,
   "metadata": {},
   "outputs": [
    {
     "data": {
      "text/plain": [
       "array(['Stockholms län', 'Uppsala län', 'Södermanlands län',\n",
       "       'Östergötlands län', 'Jönköpings län', 'Kronobergs län',\n",
       "       'Kalmar län', 'Gotlands län', 'Blekinge län', 'Skåne län',\n",
       "       'Hallands län', 'Västra Götalands län', 'Värmlands län',\n",
       "       'Örebro län', 'Västmanlands län', 'Dalarnas län', 'Gävleborgs län',\n",
       "       'Västernorrlands län', 'Jämtlands län', 'Västerbottens län',\n",
       "       'Norrbottens län'], dtype=object)"
      ]
     },
     "execution_count": 63,
     "metadata": {},
     "output_type": "execute_result"
    }
   ],
   "source": [
    "df_vaccine.Län_namn.unique()"
   ]
  },
  {
   "cell_type": "code",
   "execution_count": 78,
   "metadata": {},
   "outputs": [
    {
     "data": {
      "application/vnd.plotly.v1+json": {
       "config": {
        "plotlyServerURL": "https://plot.ly"
       },
       "data": [
        {
         "alignmentgroup": "True",
         "hovertemplate": "Dos=Dos Ett<br>Län=%{x}<br>Andel Vaccinerade, Procent=%{y}<extra></extra>",
         "legendgroup": "Dos Ett",
         "marker": {
          "color": "#636efa",
          "pattern": {
           "shape": ""
          }
         },
         "name": "Dos Ett",
         "offsetgroup": "wide_variable_0",
         "orientation": "v",
         "showlegend": true,
         "textposition": "auto",
         "type": "bar",
         "x": [
          "Stockholms län",
          "Uppsala län",
          "Södermanlands län",
          "Östergötlands län",
          "Jönköpings län",
          "Kronobergs län",
          "Kalmar län",
          "Gotlands län",
          "Blekinge län",
          "Skåne län",
          "Hallands län",
          "Västra Götalands län",
          "Värmlands län",
          "Örebro län",
          "Västmanlands län",
          "Dalarnas län",
          "Gävleborgs län",
          "Västernorrlands län",
          "Jämtlands län",
          "Västerbottens län",
          "Norrbottens län"
         ],
         "xaxis": "x",
         "y": [
          83,
          90,
          87,
          88,
          87,
          85,
          88,
          90,
          88,
          83,
          88,
          86,
          91,
          88,
          86,
          88,
          87,
          89,
          89,
          92,
          90
         ],
         "yaxis": "y"
        },
        {
         "alignmentgroup": "True",
         "hovertemplate": "Dos=Dos Två<br>Län=%{x}<br>Andel Vaccinerade, Procent=%{y}<extra></extra>",
         "legendgroup": "Dos Två",
         "marker": {
          "color": "#EF553B",
          "pattern": {
           "shape": ""
          }
         },
         "name": "Dos Två",
         "offsetgroup": "wide_variable_1",
         "orientation": "v",
         "showlegend": true,
         "textposition": "auto",
         "type": "bar",
         "x": [
          "Stockholms län",
          "Uppsala län",
          "Södermanlands län",
          "Östergötlands län",
          "Jönköpings län",
          "Kronobergs län",
          "Kalmar län",
          "Gotlands län",
          "Blekinge län",
          "Skåne län",
          "Hallands län",
          "Västra Götalands län",
          "Värmlands län",
          "Örebro län",
          "Västmanlands län",
          "Dalarnas län",
          "Gävleborgs län",
          "Västernorrlands län",
          "Jämtlands län",
          "Västerbottens län",
          "Norrbottens län"
         ],
         "xaxis": "x",
         "y": [
          80,
          88,
          85,
          87,
          85,
          83,
          87,
          89,
          87,
          81,
          86,
          83,
          90,
          86,
          84,
          86,
          85,
          88,
          87,
          90,
          89
         ],
         "yaxis": "y"
        },
        {
         "alignmentgroup": "True",
         "hovertemplate": "Dos=Dos Tre<br>Län=%{x}<br>Andel Vaccinerade, Procent=%{y}<extra></extra>",
         "legendgroup": "Dos Tre",
         "marker": {
          "color": "#00cc96",
          "pattern": {
           "shape": ""
          }
         },
         "name": "Dos Tre",
         "offsetgroup": "wide_variable_2",
         "orientation": "v",
         "showlegend": true,
         "textposition": "auto",
         "type": "bar",
         "x": [
          "Stockholms län",
          "Uppsala län",
          "Södermanlands län",
          "Östergötlands län",
          "Jönköpings län",
          "Kronobergs län",
          "Kalmar län",
          "Gotlands län",
          "Blekinge län",
          "Skåne län",
          "Hallands län",
          "Västra Götalands län",
          "Värmlands län",
          "Örebro län",
          "Västmanlands län",
          "Dalarnas län",
          "Gävleborgs län",
          "Västernorrlands län",
          "Jämtlands län",
          "Västerbottens län",
          "Norrbottens län"
         ],
         "xaxis": "x",
         "y": [
          57,
          66,
          61,
          66,
          63,
          59,
          68,
          69,
          66,
          56,
          65,
          58,
          69,
          64,
          61,
          65,
          63,
          66,
          64,
          68,
          68
         ],
         "yaxis": "y"
        }
       ],
       "layout": {
        "barmode": "group",
        "legend": {
         "title": {
          "text": "Dos"
         },
         "tracegroupgap": 0
        },
        "template": {
         "data": {
          "bar": [
           {
            "error_x": {
             "color": "#2a3f5f"
            },
            "error_y": {
             "color": "#2a3f5f"
            },
            "marker": {
             "line": {
              "color": "#E5ECF6",
              "width": 0.5
             },
             "pattern": {
              "fillmode": "overlay",
              "size": 10,
              "solidity": 0.2
             }
            },
            "type": "bar"
           }
          ],
          "barpolar": [
           {
            "marker": {
             "line": {
              "color": "#E5ECF6",
              "width": 0.5
             },
             "pattern": {
              "fillmode": "overlay",
              "size": 10,
              "solidity": 0.2
             }
            },
            "type": "barpolar"
           }
          ],
          "carpet": [
           {
            "aaxis": {
             "endlinecolor": "#2a3f5f",
             "gridcolor": "white",
             "linecolor": "white",
             "minorgridcolor": "white",
             "startlinecolor": "#2a3f5f"
            },
            "baxis": {
             "endlinecolor": "#2a3f5f",
             "gridcolor": "white",
             "linecolor": "white",
             "minorgridcolor": "white",
             "startlinecolor": "#2a3f5f"
            },
            "type": "carpet"
           }
          ],
          "choropleth": [
           {
            "colorbar": {
             "outlinewidth": 0,
             "ticks": ""
            },
            "type": "choropleth"
           }
          ],
          "contour": [
           {
            "colorbar": {
             "outlinewidth": 0,
             "ticks": ""
            },
            "colorscale": [
             [
              0,
              "#0d0887"
             ],
             [
              0.1111111111111111,
              "#46039f"
             ],
             [
              0.2222222222222222,
              "#7201a8"
             ],
             [
              0.3333333333333333,
              "#9c179e"
             ],
             [
              0.4444444444444444,
              "#bd3786"
             ],
             [
              0.5555555555555556,
              "#d8576b"
             ],
             [
              0.6666666666666666,
              "#ed7953"
             ],
             [
              0.7777777777777778,
              "#fb9f3a"
             ],
             [
              0.8888888888888888,
              "#fdca26"
             ],
             [
              1,
              "#f0f921"
             ]
            ],
            "type": "contour"
           }
          ],
          "contourcarpet": [
           {
            "colorbar": {
             "outlinewidth": 0,
             "ticks": ""
            },
            "type": "contourcarpet"
           }
          ],
          "heatmap": [
           {
            "colorbar": {
             "outlinewidth": 0,
             "ticks": ""
            },
            "colorscale": [
             [
              0,
              "#0d0887"
             ],
             [
              0.1111111111111111,
              "#46039f"
             ],
             [
              0.2222222222222222,
              "#7201a8"
             ],
             [
              0.3333333333333333,
              "#9c179e"
             ],
             [
              0.4444444444444444,
              "#bd3786"
             ],
             [
              0.5555555555555556,
              "#d8576b"
             ],
             [
              0.6666666666666666,
              "#ed7953"
             ],
             [
              0.7777777777777778,
              "#fb9f3a"
             ],
             [
              0.8888888888888888,
              "#fdca26"
             ],
             [
              1,
              "#f0f921"
             ]
            ],
            "type": "heatmap"
           }
          ],
          "heatmapgl": [
           {
            "colorbar": {
             "outlinewidth": 0,
             "ticks": ""
            },
            "colorscale": [
             [
              0,
              "#0d0887"
             ],
             [
              0.1111111111111111,
              "#46039f"
             ],
             [
              0.2222222222222222,
              "#7201a8"
             ],
             [
              0.3333333333333333,
              "#9c179e"
             ],
             [
              0.4444444444444444,
              "#bd3786"
             ],
             [
              0.5555555555555556,
              "#d8576b"
             ],
             [
              0.6666666666666666,
              "#ed7953"
             ],
             [
              0.7777777777777778,
              "#fb9f3a"
             ],
             [
              0.8888888888888888,
              "#fdca26"
             ],
             [
              1,
              "#f0f921"
             ]
            ],
            "type": "heatmapgl"
           }
          ],
          "histogram": [
           {
            "marker": {
             "pattern": {
              "fillmode": "overlay",
              "size": 10,
              "solidity": 0.2
             }
            },
            "type": "histogram"
           }
          ],
          "histogram2d": [
           {
            "colorbar": {
             "outlinewidth": 0,
             "ticks": ""
            },
            "colorscale": [
             [
              0,
              "#0d0887"
             ],
             [
              0.1111111111111111,
              "#46039f"
             ],
             [
              0.2222222222222222,
              "#7201a8"
             ],
             [
              0.3333333333333333,
              "#9c179e"
             ],
             [
              0.4444444444444444,
              "#bd3786"
             ],
             [
              0.5555555555555556,
              "#d8576b"
             ],
             [
              0.6666666666666666,
              "#ed7953"
             ],
             [
              0.7777777777777778,
              "#fb9f3a"
             ],
             [
              0.8888888888888888,
              "#fdca26"
             ],
             [
              1,
              "#f0f921"
             ]
            ],
            "type": "histogram2d"
           }
          ],
          "histogram2dcontour": [
           {
            "colorbar": {
             "outlinewidth": 0,
             "ticks": ""
            },
            "colorscale": [
             [
              0,
              "#0d0887"
             ],
             [
              0.1111111111111111,
              "#46039f"
             ],
             [
              0.2222222222222222,
              "#7201a8"
             ],
             [
              0.3333333333333333,
              "#9c179e"
             ],
             [
              0.4444444444444444,
              "#bd3786"
             ],
             [
              0.5555555555555556,
              "#d8576b"
             ],
             [
              0.6666666666666666,
              "#ed7953"
             ],
             [
              0.7777777777777778,
              "#fb9f3a"
             ],
             [
              0.8888888888888888,
              "#fdca26"
             ],
             [
              1,
              "#f0f921"
             ]
            ],
            "type": "histogram2dcontour"
           }
          ],
          "mesh3d": [
           {
            "colorbar": {
             "outlinewidth": 0,
             "ticks": ""
            },
            "type": "mesh3d"
           }
          ],
          "parcoords": [
           {
            "line": {
             "colorbar": {
              "outlinewidth": 0,
              "ticks": ""
             }
            },
            "type": "parcoords"
           }
          ],
          "pie": [
           {
            "automargin": true,
            "type": "pie"
           }
          ],
          "scatter": [
           {
            "fillpattern": {
             "fillmode": "overlay",
             "size": 10,
             "solidity": 0.2
            },
            "type": "scatter"
           }
          ],
          "scatter3d": [
           {
            "line": {
             "colorbar": {
              "outlinewidth": 0,
              "ticks": ""
             }
            },
            "marker": {
             "colorbar": {
              "outlinewidth": 0,
              "ticks": ""
             }
            },
            "type": "scatter3d"
           }
          ],
          "scattercarpet": [
           {
            "marker": {
             "colorbar": {
              "outlinewidth": 0,
              "ticks": ""
             }
            },
            "type": "scattercarpet"
           }
          ],
          "scattergeo": [
           {
            "marker": {
             "colorbar": {
              "outlinewidth": 0,
              "ticks": ""
             }
            },
            "type": "scattergeo"
           }
          ],
          "scattergl": [
           {
            "marker": {
             "colorbar": {
              "outlinewidth": 0,
              "ticks": ""
             }
            },
            "type": "scattergl"
           }
          ],
          "scattermapbox": [
           {
            "marker": {
             "colorbar": {
              "outlinewidth": 0,
              "ticks": ""
             }
            },
            "type": "scattermapbox"
           }
          ],
          "scatterpolar": [
           {
            "marker": {
             "colorbar": {
              "outlinewidth": 0,
              "ticks": ""
             }
            },
            "type": "scatterpolar"
           }
          ],
          "scatterpolargl": [
           {
            "marker": {
             "colorbar": {
              "outlinewidth": 0,
              "ticks": ""
             }
            },
            "type": "scatterpolargl"
           }
          ],
          "scatterternary": [
           {
            "marker": {
             "colorbar": {
              "outlinewidth": 0,
              "ticks": ""
             }
            },
            "type": "scatterternary"
           }
          ],
          "surface": [
           {
            "colorbar": {
             "outlinewidth": 0,
             "ticks": ""
            },
            "colorscale": [
             [
              0,
              "#0d0887"
             ],
             [
              0.1111111111111111,
              "#46039f"
             ],
             [
              0.2222222222222222,
              "#7201a8"
             ],
             [
              0.3333333333333333,
              "#9c179e"
             ],
             [
              0.4444444444444444,
              "#bd3786"
             ],
             [
              0.5555555555555556,
              "#d8576b"
             ],
             [
              0.6666666666666666,
              "#ed7953"
             ],
             [
              0.7777777777777778,
              "#fb9f3a"
             ],
             [
              0.8888888888888888,
              "#fdca26"
             ],
             [
              1,
              "#f0f921"
             ]
            ],
            "type": "surface"
           }
          ],
          "table": [
           {
            "cells": {
             "fill": {
              "color": "#EBF0F8"
             },
             "line": {
              "color": "white"
             }
            },
            "header": {
             "fill": {
              "color": "#C8D4E3"
             },
             "line": {
              "color": "white"
             }
            },
            "type": "table"
           }
          ]
         },
         "layout": {
          "annotationdefaults": {
           "arrowcolor": "#2a3f5f",
           "arrowhead": 0,
           "arrowwidth": 1
          },
          "autotypenumbers": "strict",
          "coloraxis": {
           "colorbar": {
            "outlinewidth": 0,
            "ticks": ""
           }
          },
          "colorscale": {
           "diverging": [
            [
             0,
             "#8e0152"
            ],
            [
             0.1,
             "#c51b7d"
            ],
            [
             0.2,
             "#de77ae"
            ],
            [
             0.3,
             "#f1b6da"
            ],
            [
             0.4,
             "#fde0ef"
            ],
            [
             0.5,
             "#f7f7f7"
            ],
            [
             0.6,
             "#e6f5d0"
            ],
            [
             0.7,
             "#b8e186"
            ],
            [
             0.8,
             "#7fbc41"
            ],
            [
             0.9,
             "#4d9221"
            ],
            [
             1,
             "#276419"
            ]
           ],
           "sequential": [
            [
             0,
             "#0d0887"
            ],
            [
             0.1111111111111111,
             "#46039f"
            ],
            [
             0.2222222222222222,
             "#7201a8"
            ],
            [
             0.3333333333333333,
             "#9c179e"
            ],
            [
             0.4444444444444444,
             "#bd3786"
            ],
            [
             0.5555555555555556,
             "#d8576b"
            ],
            [
             0.6666666666666666,
             "#ed7953"
            ],
            [
             0.7777777777777778,
             "#fb9f3a"
            ],
            [
             0.8888888888888888,
             "#fdca26"
            ],
            [
             1,
             "#f0f921"
            ]
           ],
           "sequentialminus": [
            [
             0,
             "#0d0887"
            ],
            [
             0.1111111111111111,
             "#46039f"
            ],
            [
             0.2222222222222222,
             "#7201a8"
            ],
            [
             0.3333333333333333,
             "#9c179e"
            ],
            [
             0.4444444444444444,
             "#bd3786"
            ],
            [
             0.5555555555555556,
             "#d8576b"
            ],
            [
             0.6666666666666666,
             "#ed7953"
            ],
            [
             0.7777777777777778,
             "#fb9f3a"
            ],
            [
             0.8888888888888888,
             "#fdca26"
            ],
            [
             1,
             "#f0f921"
            ]
           ]
          },
          "colorway": [
           "#636efa",
           "#EF553B",
           "#00cc96",
           "#ab63fa",
           "#FFA15A",
           "#19d3f3",
           "#FF6692",
           "#B6E880",
           "#FF97FF",
           "#FECB52"
          ],
          "font": {
           "color": "#2a3f5f"
          },
          "geo": {
           "bgcolor": "white",
           "lakecolor": "white",
           "landcolor": "#E5ECF6",
           "showlakes": true,
           "showland": true,
           "subunitcolor": "white"
          },
          "hoverlabel": {
           "align": "left"
          },
          "hovermode": "closest",
          "mapbox": {
           "style": "light"
          },
          "paper_bgcolor": "white",
          "plot_bgcolor": "#E5ECF6",
          "polar": {
           "angularaxis": {
            "gridcolor": "white",
            "linecolor": "white",
            "ticks": ""
           },
           "bgcolor": "#E5ECF6",
           "radialaxis": {
            "gridcolor": "white",
            "linecolor": "white",
            "ticks": ""
           }
          },
          "scene": {
           "xaxis": {
            "backgroundcolor": "#E5ECF6",
            "gridcolor": "white",
            "gridwidth": 2,
            "linecolor": "white",
            "showbackground": true,
            "ticks": "",
            "zerolinecolor": "white"
           },
           "yaxis": {
            "backgroundcolor": "#E5ECF6",
            "gridcolor": "white",
            "gridwidth": 2,
            "linecolor": "white",
            "showbackground": true,
            "ticks": "",
            "zerolinecolor": "white"
           },
           "zaxis": {
            "backgroundcolor": "#E5ECF6",
            "gridcolor": "white",
            "gridwidth": 2,
            "linecolor": "white",
            "showbackground": true,
            "ticks": "",
            "zerolinecolor": "white"
           }
          },
          "shapedefaults": {
           "line": {
            "color": "#2a3f5f"
           }
          },
          "ternary": {
           "aaxis": {
            "gridcolor": "white",
            "linecolor": "white",
            "ticks": ""
           },
           "baxis": {
            "gridcolor": "white",
            "linecolor": "white",
            "ticks": ""
           },
           "bgcolor": "#E5ECF6",
           "caxis": {
            "gridcolor": "white",
            "linecolor": "white",
            "ticks": ""
           }
          },
          "title": {
           "x": 0.05
          },
          "xaxis": {
           "automargin": true,
           "gridcolor": "white",
           "linecolor": "white",
           "ticks": "",
           "title": {
            "standoff": 15
           },
           "zerolinecolor": "white",
           "zerolinewidth": 2
          },
          "yaxis": {
           "automargin": true,
           "gridcolor": "white",
           "linecolor": "white",
           "ticks": "",
           "title": {
            "standoff": 15
           },
           "zerolinecolor": "white",
           "zerolinewidth": 2
          }
         }
        },
        "title": {
         "text": "Antal Doser per Vaccinerade per Län"
        },
        "xaxis": {
         "anchor": "y",
         "domain": [
          0,
          1
         ],
         "title": {
          "text": "Län"
         }
        },
        "yaxis": {
         "anchor": "x",
         "domain": [
          0,
          1
         ],
         "title": {
          "text": "Andel Vaccinerade, Procent"
         }
        }
       }
      }
     },
     "metadata": {},
     "output_type": "display_data"
    }
   ],
   "source": [
    "# 2)f\n",
    "vaccine_lan = df_vaccine.groupby(\"Län\")\n",
    "befolkning_sum = vaccine_lan[\"Befolkning\"].sum()\n",
    "\n",
    "fig = px.bar(\n",
    "    y=[\n",
    "        round((vaccine_lan[\"Antal minst 1 dos\"].sum() / befolkning_sum)*100),\n",
    "        round(vaccine_lan[\"Antal minst 2 doser\"].sum() / befolkning_sum*100),\n",
    "        round(vaccine_lan[\"Antal 3 doser\"].sum() / befolkning_sum*100),\n",
    "    ],\n",
    "    title=\"Antal Doser per Vaccinerade per Län\",\n",
    "    labels={\"value\": \"Andel Vaccinerade, Procent\", \"x\": \"Län\", \"variable\": \"Dos\"},\n",
    "    x=df_vaccine[\"Län_namn\"].unique(),\n",
    "    barmode=\"group\",\n",
    ")\n",
    "bar_names = {\n",
    "    \"wide_variable_0\": \"Dos Ett\",\n",
    "    \"wide_variable_1\": \"Dos Två\",\n",
    "    \"wide_variable_2\": \"Dos Tre\",\n",
    "}\n",
    "\n",
    "# How does this code work? Todo ask Håkan how this code works or google.\n",
    "fig.for_each_trace(\n",
    "    lambda t: t.update(\n",
    "        name=bar_names[t.name],\n",
    "        legendgroup=bar_names[t.name],\n",
    "        hovertemplate=t.hovertemplate.replace(t.name, bar_names[t.name]),\n",
    "    )\n",
    ")\n",
    "\n",
    "fig.show()\n"
   ]
  },
  {
   "cell_type": "code",
   "execution_count": 55,
   "metadata": {},
   "outputs": [
    {
     "data": {
      "application/vnd.plotly.v1+json": {
       "config": {
        "plotlyServerURL": "https://plot.ly"
       },
       "data": [
        {
         "fill": "toself",
         "name": "vg",
         "r": [
          0.8550770229084498,
          0.8336006391647686,
          0.580925222592158,
          0.14040762548840624
         ],
         "theta": [
          "Minst 1 dos",
          "Minst 2 doser",
          "Minst 3 doser",
          "4 doser"
         ],
         "type": "scatterpolar"
        },
        {
         "fill": "toself",
         "name": "sthlm",
         "r": [
          0.8311989997713299,
          0.8010761337667403,
          0.5694619951774007,
          0.11266703298434493
         ],
         "theta": [
          "Minst 1 dos",
          "Minst 2 doser",
          "Minst 3 doser",
          "4 doser"
         ],
         "type": "scatterpolar"
        }
       ],
       "layout": {
        "polar": {
         "radialaxis": {
          "range": [
           0,
           1
          ],
          "visible": true
         }
        },
        "showlegend": false,
        "template": {
         "data": {
          "bar": [
           {
            "error_x": {
             "color": "#2a3f5f"
            },
            "error_y": {
             "color": "#2a3f5f"
            },
            "marker": {
             "line": {
              "color": "#E5ECF6",
              "width": 0.5
             },
             "pattern": {
              "fillmode": "overlay",
              "size": 10,
              "solidity": 0.2
             }
            },
            "type": "bar"
           }
          ],
          "barpolar": [
           {
            "marker": {
             "line": {
              "color": "#E5ECF6",
              "width": 0.5
             },
             "pattern": {
              "fillmode": "overlay",
              "size": 10,
              "solidity": 0.2
             }
            },
            "type": "barpolar"
           }
          ],
          "carpet": [
           {
            "aaxis": {
             "endlinecolor": "#2a3f5f",
             "gridcolor": "white",
             "linecolor": "white",
             "minorgridcolor": "white",
             "startlinecolor": "#2a3f5f"
            },
            "baxis": {
             "endlinecolor": "#2a3f5f",
             "gridcolor": "white",
             "linecolor": "white",
             "minorgridcolor": "white",
             "startlinecolor": "#2a3f5f"
            },
            "type": "carpet"
           }
          ],
          "choropleth": [
           {
            "colorbar": {
             "outlinewidth": 0,
             "ticks": ""
            },
            "type": "choropleth"
           }
          ],
          "contour": [
           {
            "colorbar": {
             "outlinewidth": 0,
             "ticks": ""
            },
            "colorscale": [
             [
              0,
              "#0d0887"
             ],
             [
              0.1111111111111111,
              "#46039f"
             ],
             [
              0.2222222222222222,
              "#7201a8"
             ],
             [
              0.3333333333333333,
              "#9c179e"
             ],
             [
              0.4444444444444444,
              "#bd3786"
             ],
             [
              0.5555555555555556,
              "#d8576b"
             ],
             [
              0.6666666666666666,
              "#ed7953"
             ],
             [
              0.7777777777777778,
              "#fb9f3a"
             ],
             [
              0.8888888888888888,
              "#fdca26"
             ],
             [
              1,
              "#f0f921"
             ]
            ],
            "type": "contour"
           }
          ],
          "contourcarpet": [
           {
            "colorbar": {
             "outlinewidth": 0,
             "ticks": ""
            },
            "type": "contourcarpet"
           }
          ],
          "heatmap": [
           {
            "colorbar": {
             "outlinewidth": 0,
             "ticks": ""
            },
            "colorscale": [
             [
              0,
              "#0d0887"
             ],
             [
              0.1111111111111111,
              "#46039f"
             ],
             [
              0.2222222222222222,
              "#7201a8"
             ],
             [
              0.3333333333333333,
              "#9c179e"
             ],
             [
              0.4444444444444444,
              "#bd3786"
             ],
             [
              0.5555555555555556,
              "#d8576b"
             ],
             [
              0.6666666666666666,
              "#ed7953"
             ],
             [
              0.7777777777777778,
              "#fb9f3a"
             ],
             [
              0.8888888888888888,
              "#fdca26"
             ],
             [
              1,
              "#f0f921"
             ]
            ],
            "type": "heatmap"
           }
          ],
          "heatmapgl": [
           {
            "colorbar": {
             "outlinewidth": 0,
             "ticks": ""
            },
            "colorscale": [
             [
              0,
              "#0d0887"
             ],
             [
              0.1111111111111111,
              "#46039f"
             ],
             [
              0.2222222222222222,
              "#7201a8"
             ],
             [
              0.3333333333333333,
              "#9c179e"
             ],
             [
              0.4444444444444444,
              "#bd3786"
             ],
             [
              0.5555555555555556,
              "#d8576b"
             ],
             [
              0.6666666666666666,
              "#ed7953"
             ],
             [
              0.7777777777777778,
              "#fb9f3a"
             ],
             [
              0.8888888888888888,
              "#fdca26"
             ],
             [
              1,
              "#f0f921"
             ]
            ],
            "type": "heatmapgl"
           }
          ],
          "histogram": [
           {
            "marker": {
             "pattern": {
              "fillmode": "overlay",
              "size": 10,
              "solidity": 0.2
             }
            },
            "type": "histogram"
           }
          ],
          "histogram2d": [
           {
            "colorbar": {
             "outlinewidth": 0,
             "ticks": ""
            },
            "colorscale": [
             [
              0,
              "#0d0887"
             ],
             [
              0.1111111111111111,
              "#46039f"
             ],
             [
              0.2222222222222222,
              "#7201a8"
             ],
             [
              0.3333333333333333,
              "#9c179e"
             ],
             [
              0.4444444444444444,
              "#bd3786"
             ],
             [
              0.5555555555555556,
              "#d8576b"
             ],
             [
              0.6666666666666666,
              "#ed7953"
             ],
             [
              0.7777777777777778,
              "#fb9f3a"
             ],
             [
              0.8888888888888888,
              "#fdca26"
             ],
             [
              1,
              "#f0f921"
             ]
            ],
            "type": "histogram2d"
           }
          ],
          "histogram2dcontour": [
           {
            "colorbar": {
             "outlinewidth": 0,
             "ticks": ""
            },
            "colorscale": [
             [
              0,
              "#0d0887"
             ],
             [
              0.1111111111111111,
              "#46039f"
             ],
             [
              0.2222222222222222,
              "#7201a8"
             ],
             [
              0.3333333333333333,
              "#9c179e"
             ],
             [
              0.4444444444444444,
              "#bd3786"
             ],
             [
              0.5555555555555556,
              "#d8576b"
             ],
             [
              0.6666666666666666,
              "#ed7953"
             ],
             [
              0.7777777777777778,
              "#fb9f3a"
             ],
             [
              0.8888888888888888,
              "#fdca26"
             ],
             [
              1,
              "#f0f921"
             ]
            ],
            "type": "histogram2dcontour"
           }
          ],
          "mesh3d": [
           {
            "colorbar": {
             "outlinewidth": 0,
             "ticks": ""
            },
            "type": "mesh3d"
           }
          ],
          "parcoords": [
           {
            "line": {
             "colorbar": {
              "outlinewidth": 0,
              "ticks": ""
             }
            },
            "type": "parcoords"
           }
          ],
          "pie": [
           {
            "automargin": true,
            "type": "pie"
           }
          ],
          "scatter": [
           {
            "fillpattern": {
             "fillmode": "overlay",
             "size": 10,
             "solidity": 0.2
            },
            "type": "scatter"
           }
          ],
          "scatter3d": [
           {
            "line": {
             "colorbar": {
              "outlinewidth": 0,
              "ticks": ""
             }
            },
            "marker": {
             "colorbar": {
              "outlinewidth": 0,
              "ticks": ""
             }
            },
            "type": "scatter3d"
           }
          ],
          "scattercarpet": [
           {
            "marker": {
             "colorbar": {
              "outlinewidth": 0,
              "ticks": ""
             }
            },
            "type": "scattercarpet"
           }
          ],
          "scattergeo": [
           {
            "marker": {
             "colorbar": {
              "outlinewidth": 0,
              "ticks": ""
             }
            },
            "type": "scattergeo"
           }
          ],
          "scattergl": [
           {
            "marker": {
             "colorbar": {
              "outlinewidth": 0,
              "ticks": ""
             }
            },
            "type": "scattergl"
           }
          ],
          "scattermapbox": [
           {
            "marker": {
             "colorbar": {
              "outlinewidth": 0,
              "ticks": ""
             }
            },
            "type": "scattermapbox"
           }
          ],
          "scatterpolar": [
           {
            "marker": {
             "colorbar": {
              "outlinewidth": 0,
              "ticks": ""
             }
            },
            "type": "scatterpolar"
           }
          ],
          "scatterpolargl": [
           {
            "marker": {
             "colorbar": {
              "outlinewidth": 0,
              "ticks": ""
             }
            },
            "type": "scatterpolargl"
           }
          ],
          "scatterternary": [
           {
            "marker": {
             "colorbar": {
              "outlinewidth": 0,
              "ticks": ""
             }
            },
            "type": "scatterternary"
           }
          ],
          "surface": [
           {
            "colorbar": {
             "outlinewidth": 0,
             "ticks": ""
            },
            "colorscale": [
             [
              0,
              "#0d0887"
             ],
             [
              0.1111111111111111,
              "#46039f"
             ],
             [
              0.2222222222222222,
              "#7201a8"
             ],
             [
              0.3333333333333333,
              "#9c179e"
             ],
             [
              0.4444444444444444,
              "#bd3786"
             ],
             [
              0.5555555555555556,
              "#d8576b"
             ],
             [
              0.6666666666666666,
              "#ed7953"
             ],
             [
              0.7777777777777778,
              "#fb9f3a"
             ],
             [
              0.8888888888888888,
              "#fdca26"
             ],
             [
              1,
              "#f0f921"
             ]
            ],
            "type": "surface"
           }
          ],
          "table": [
           {
            "cells": {
             "fill": {
              "color": "#EBF0F8"
             },
             "line": {
              "color": "white"
             }
            },
            "header": {
             "fill": {
              "color": "#C8D4E3"
             },
             "line": {
              "color": "white"
             }
            },
            "type": "table"
           }
          ]
         },
         "layout": {
          "annotationdefaults": {
           "arrowcolor": "#2a3f5f",
           "arrowhead": 0,
           "arrowwidth": 1
          },
          "autotypenumbers": "strict",
          "coloraxis": {
           "colorbar": {
            "outlinewidth": 0,
            "ticks": ""
           }
          },
          "colorscale": {
           "diverging": [
            [
             0,
             "#8e0152"
            ],
            [
             0.1,
             "#c51b7d"
            ],
            [
             0.2,
             "#de77ae"
            ],
            [
             0.3,
             "#f1b6da"
            ],
            [
             0.4,
             "#fde0ef"
            ],
            [
             0.5,
             "#f7f7f7"
            ],
            [
             0.6,
             "#e6f5d0"
            ],
            [
             0.7,
             "#b8e186"
            ],
            [
             0.8,
             "#7fbc41"
            ],
            [
             0.9,
             "#4d9221"
            ],
            [
             1,
             "#276419"
            ]
           ],
           "sequential": [
            [
             0,
             "#0d0887"
            ],
            [
             0.1111111111111111,
             "#46039f"
            ],
            [
             0.2222222222222222,
             "#7201a8"
            ],
            [
             0.3333333333333333,
             "#9c179e"
            ],
            [
             0.4444444444444444,
             "#bd3786"
            ],
            [
             0.5555555555555556,
             "#d8576b"
            ],
            [
             0.6666666666666666,
             "#ed7953"
            ],
            [
             0.7777777777777778,
             "#fb9f3a"
            ],
            [
             0.8888888888888888,
             "#fdca26"
            ],
            [
             1,
             "#f0f921"
            ]
           ],
           "sequentialminus": [
            [
             0,
             "#0d0887"
            ],
            [
             0.1111111111111111,
             "#46039f"
            ],
            [
             0.2222222222222222,
             "#7201a8"
            ],
            [
             0.3333333333333333,
             "#9c179e"
            ],
            [
             0.4444444444444444,
             "#bd3786"
            ],
            [
             0.5555555555555556,
             "#d8576b"
            ],
            [
             0.6666666666666666,
             "#ed7953"
            ],
            [
             0.7777777777777778,
             "#fb9f3a"
            ],
            [
             0.8888888888888888,
             "#fdca26"
            ],
            [
             1,
             "#f0f921"
            ]
           ]
          },
          "colorway": [
           "#636efa",
           "#EF553B",
           "#00cc96",
           "#ab63fa",
           "#FFA15A",
           "#19d3f3",
           "#FF6692",
           "#B6E880",
           "#FF97FF",
           "#FECB52"
          ],
          "font": {
           "color": "#2a3f5f"
          },
          "geo": {
           "bgcolor": "white",
           "lakecolor": "white",
           "landcolor": "#E5ECF6",
           "showlakes": true,
           "showland": true,
           "subunitcolor": "white"
          },
          "hoverlabel": {
           "align": "left"
          },
          "hovermode": "closest",
          "mapbox": {
           "style": "light"
          },
          "paper_bgcolor": "white",
          "plot_bgcolor": "#E5ECF6",
          "polar": {
           "angularaxis": {
            "gridcolor": "white",
            "linecolor": "white",
            "ticks": ""
           },
           "bgcolor": "#E5ECF6",
           "radialaxis": {
            "gridcolor": "white",
            "linecolor": "white",
            "ticks": ""
           }
          },
          "scene": {
           "xaxis": {
            "backgroundcolor": "#E5ECF6",
            "gridcolor": "white",
            "gridwidth": 2,
            "linecolor": "white",
            "showbackground": true,
            "ticks": "",
            "zerolinecolor": "white"
           },
           "yaxis": {
            "backgroundcolor": "#E5ECF6",
            "gridcolor": "white",
            "gridwidth": 2,
            "linecolor": "white",
            "showbackground": true,
            "ticks": "",
            "zerolinecolor": "white"
           },
           "zaxis": {
            "backgroundcolor": "#E5ECF6",
            "gridcolor": "white",
            "gridwidth": 2,
            "linecolor": "white",
            "showbackground": true,
            "ticks": "",
            "zerolinecolor": "white"
           }
          },
          "shapedefaults": {
           "line": {
            "color": "#2a3f5f"
           }
          },
          "ternary": {
           "aaxis": {
            "gridcolor": "white",
            "linecolor": "white",
            "ticks": ""
           },
           "baxis": {
            "gridcolor": "white",
            "linecolor": "white",
            "ticks": ""
           },
           "bgcolor": "#E5ECF6",
           "caxis": {
            "gridcolor": "white",
            "linecolor": "white",
            "ticks": ""
           }
          },
          "title": {
           "x": 0.05
          },
          "xaxis": {
           "automargin": true,
           "gridcolor": "white",
           "linecolor": "white",
           "ticks": "",
           "title": {
            "standoff": 15
           },
           "zerolinecolor": "white",
           "zerolinewidth": 2
          },
          "yaxis": {
           "automargin": true,
           "gridcolor": "white",
           "linecolor": "white",
           "ticks": "",
           "title": {
            "standoff": 15
           },
           "zerolinecolor": "white",
           "zerolinewidth": 2
          }
         }
        }
       }
      }
     },
     "metadata": {},
     "output_type": "display_data"
    }
   ],
   "source": [
    "import plotly.graph_objects as go\n",
    "\n",
    "# PLACEHOLDER\n",
    "vaccin_vg = df_vaccine[df_vaccine[\"Län_namn\"] == \"Västra Götalands län\"]\n",
    "vaccin_sthlm = df_vaccine[df_vaccine[\"Län_namn\"] == \"Stockholms län\"]\n",
    "\n",
    "vg_1 = vaccin_vg[\"Antal minst 1 dos\"].sum() / vaccin_vg[\"Befolkning\"].sum()\n",
    "vg_2 = vaccin_vg[\"Antal minst 2 doser\"].sum() / vaccin_vg[\"Befolkning\"].sum()\n",
    "vg_3 = vaccin_vg[\"Antal 3 doser\"].sum() / vaccin_vg[\"Befolkning\"].sum()\n",
    "vg_4 = vaccin_vg[\"Antal 4 doser\"].sum() / vaccin_vg[\"Befolkning\"].sum()\n",
    "\n",
    "sthlm_1 = vaccin_sthlm[\"Antal minst 1 dos\"].sum() / vaccin_sthlm[\"Befolkning\"].sum()\n",
    "sthlm_2 = vaccin_sthlm[\"Antal minst 2 doser\"].sum() / vaccin_sthlm[\"Befolkning\"].sum()\n",
    "sthlm_3 = vaccin_sthlm[\"Antal 3 doser\"].sum() / vaccin_sthlm[\"Befolkning\"].sum()\n",
    "sthlm_4 = vaccin_sthlm[\"Antal 4 doser\"].sum() / vaccin_sthlm[\"Befolkning\"].sum()\n",
    "\n",
    "categories = [\"Minst 1 dos\", \"Minst 2 doser\", \"Minst 3 doser\", \"4 doser\"]\n",
    "\n",
    "fig = go.Figure()\n",
    "\n",
    "fig.add_trace(\n",
    "    go.Scatterpolar(\n",
    "        r=[vg_1, vg_2, vg_3, vg_4],\n",
    "        theta=categories,\n",
    "        fill=\"toself\",\n",
    "        name=\"vg\",\n",
    "    )\n",
    ")\n",
    "fig.add_trace(\n",
    "    go.Scatterpolar(\n",
    "        r=[sthlm_1, sthlm_2, sthlm_3, sthlm_4],\n",
    "        theta=categories,\n",
    "        fill=\"toself\",\n",
    "        name=\"sthlm\",\n",
    "    )\n",
    ")\n",
    "\n",
    "fig.update_layout(\n",
    "    polar=dict(radialaxis=dict(visible=True, range=[0, 1])), showlegend=False\n",
    ")\n",
    "\n",
    "fig.show()"
   ]
  },
  {
   "cell_type": "markdown",
   "metadata": {},
   "source": [
    "# Sources:\n",
    "\n",
    "## Data\n",
    "- Data below attained at 2022-11-01 - 14:06\n",
    "- https://www.folkhalsomyndigheten.se/smittskydd-beredskap/utbrott/aktuella-utbrott/covid-19/statistik-och-analyser/bekraftade-fall-i-sverige/\n",
    "- https://www.folkhalsomyndigheten.se/smittskydd-beredskap/utbrott/aktuella-utbrott/covid-19/statistik-och-analyser/bekraftade-fall-i-sverige/"
   ]
  }
 ],
 "metadata": {
  "kernelspec": {
   "display_name": "Python 3.9.13 ('Databehandling-Alexander-Andersson-cbHjl46c')",
   "language": "python",
   "name": "python3"
  },
  "language_info": {
   "codemirror_mode": {
    "name": "ipython",
    "version": 3
   },
   "file_extension": ".py",
   "mimetype": "text/x-python",
   "name": "python",
   "nbconvert_exporter": "python",
   "pygments_lexer": "ipython3",
   "version": "3.9.13"
  },
  "orig_nbformat": 4,
  "vscode": {
   "interpreter": {
    "hash": "304582795d779ea24f27fb27bdb50be6d750e455c1e18b013d2439a76addf1d6"
   }
  }
 },
 "nbformat": 4,
 "nbformat_minor": 2
}
